{
 "cells": [
  {
   "cell_type": "code",
   "execution_count": 1,
   "metadata": {},
   "outputs": [
    {
     "name": "stderr",
     "output_type": "stream",
     "text": [
      "C:\\Users\\james\\anaconda3\\lib\\site-packages\\numpy\\_distributor_init.py:30: UserWarning: loaded more than 1 DLL from .libs:\n",
      "C:\\Users\\james\\anaconda3\\lib\\site-packages\\numpy\\.libs\\libopenblas.PYQHXLVVQ7VESDPUVUADXEVJOBGHJPAY.gfortran-win_amd64.dll\n",
      "C:\\Users\\james\\anaconda3\\lib\\site-packages\\numpy\\.libs\\libopenblas.WCDJNK7YVMPZQ2ME2ZZHJJRJ3JIKNDB7.gfortran-win_amd64.dll\n",
      "  warnings.warn(\"loaded more than 1 DLL from .libs:\"\n"
     ]
    }
   ],
   "source": [
    "# import packages\n",
    "import itertools\n",
    "import matplotlib.pyplot as plt \n",
    "import numpy as np\n",
    "import pandas as pd\n",
    "import seaborn as sns\n",
    "import time\n",
    "\n",
    "from keras import metrics\n",
    "from keras.models import Sequential\n",
    "\n",
    "from keras.layers.core import Dense\n",
    "from keras.layers.core import Activation\n",
    "from keras.layers.core import Dropout\n",
    "\n",
    "from keras.optimizers import Adam\n",
    "from keras.optimizers import RMSprop\n",
    "\n",
    "from keras.utils import np_utils\n",
    "\n",
    "from sklearn.metrics import accuracy_score\n",
    "from sklearn.metrics import classification_report\n",
    "from sklearn.metrics import confusion_matrix\n",
    "from sklearn.metrics import multilabel_confusion_matrix\n",
    "\n",
    "from sklearn.model_selection import train_test_split\n",
    "\n",
    "from sklearn.preprocessing import StandardScaler\n",
    "\n",
    "from tensorflow import keras"
   ]
  },
  {
   "cell_type": "code",
   "execution_count": 2,
   "metadata": {},
   "outputs": [],
   "source": [
    "train = pd.read_csv(\"train.csv\")\n",
    "test = pd.read_csv(\"test.csv\")\n",
    "sample = pd.read_csv(\"sample_submission.csv\")\n",
    "all_data = pd.concat([train, test])"
   ]
  },
  {
   "cell_type": "markdown",
   "metadata": {},
   "source": [
    "# EDA"
   ]
  },
  {
   "cell_type": "code",
   "execution_count": 3,
   "metadata": {},
   "outputs": [
    {
     "data": {
      "text/plain": [
       "Index(['label', 'pixel0', 'pixel1', 'pixel2', 'pixel3', 'pixel4', 'pixel5',\n",
       "       'pixel6', 'pixel7', 'pixel8',\n",
       "       ...\n",
       "       'pixel774', 'pixel775', 'pixel776', 'pixel777', 'pixel778', 'pixel779',\n",
       "       'pixel780', 'pixel781', 'pixel782', 'pixel783'],\n",
       "      dtype='object', length=785)"
      ]
     },
     "execution_count": 3,
     "metadata": {},
     "output_type": "execute_result"
    }
   ],
   "source": [
    "train.describe().columns"
   ]
  },
  {
   "cell_type": "code",
   "execution_count": 4,
   "metadata": {},
   "outputs": [
    {
     "data": {
      "text/html": [
       "<div>\n",
       "<style scoped>\n",
       "    .dataframe tbody tr th:only-of-type {\n",
       "        vertical-align: middle;\n",
       "    }\n",
       "\n",
       "    .dataframe tbody tr th {\n",
       "        vertical-align: top;\n",
       "    }\n",
       "\n",
       "    .dataframe thead th {\n",
       "        text-align: right;\n",
       "    }\n",
       "</style>\n",
       "<table border=\"1\" class=\"dataframe\">\n",
       "  <thead>\n",
       "    <tr style=\"text-align: right;\">\n",
       "      <th></th>\n",
       "      <th>label</th>\n",
       "      <th>pixel0</th>\n",
       "      <th>pixel1</th>\n",
       "      <th>pixel2</th>\n",
       "      <th>pixel3</th>\n",
       "      <th>pixel4</th>\n",
       "      <th>pixel5</th>\n",
       "      <th>pixel6</th>\n",
       "      <th>pixel7</th>\n",
       "      <th>pixel8</th>\n",
       "      <th>...</th>\n",
       "      <th>pixel774</th>\n",
       "      <th>pixel775</th>\n",
       "      <th>pixel776</th>\n",
       "      <th>pixel777</th>\n",
       "      <th>pixel778</th>\n",
       "      <th>pixel779</th>\n",
       "      <th>pixel780</th>\n",
       "      <th>pixel781</th>\n",
       "      <th>pixel782</th>\n",
       "      <th>pixel783</th>\n",
       "    </tr>\n",
       "  </thead>\n",
       "  <tbody>\n",
       "    <tr>\n",
       "      <th>0</th>\n",
       "      <td>1</td>\n",
       "      <td>0</td>\n",
       "      <td>0</td>\n",
       "      <td>0</td>\n",
       "      <td>0</td>\n",
       "      <td>0</td>\n",
       "      <td>0</td>\n",
       "      <td>0</td>\n",
       "      <td>0</td>\n",
       "      <td>0</td>\n",
       "      <td>...</td>\n",
       "      <td>0</td>\n",
       "      <td>0</td>\n",
       "      <td>0</td>\n",
       "      <td>0</td>\n",
       "      <td>0</td>\n",
       "      <td>0</td>\n",
       "      <td>0</td>\n",
       "      <td>0</td>\n",
       "      <td>0</td>\n",
       "      <td>0</td>\n",
       "    </tr>\n",
       "    <tr>\n",
       "      <th>1</th>\n",
       "      <td>0</td>\n",
       "      <td>0</td>\n",
       "      <td>0</td>\n",
       "      <td>0</td>\n",
       "      <td>0</td>\n",
       "      <td>0</td>\n",
       "      <td>0</td>\n",
       "      <td>0</td>\n",
       "      <td>0</td>\n",
       "      <td>0</td>\n",
       "      <td>...</td>\n",
       "      <td>0</td>\n",
       "      <td>0</td>\n",
       "      <td>0</td>\n",
       "      <td>0</td>\n",
       "      <td>0</td>\n",
       "      <td>0</td>\n",
       "      <td>0</td>\n",
       "      <td>0</td>\n",
       "      <td>0</td>\n",
       "      <td>0</td>\n",
       "    </tr>\n",
       "    <tr>\n",
       "      <th>2</th>\n",
       "      <td>1</td>\n",
       "      <td>0</td>\n",
       "      <td>0</td>\n",
       "      <td>0</td>\n",
       "      <td>0</td>\n",
       "      <td>0</td>\n",
       "      <td>0</td>\n",
       "      <td>0</td>\n",
       "      <td>0</td>\n",
       "      <td>0</td>\n",
       "      <td>...</td>\n",
       "      <td>0</td>\n",
       "      <td>0</td>\n",
       "      <td>0</td>\n",
       "      <td>0</td>\n",
       "      <td>0</td>\n",
       "      <td>0</td>\n",
       "      <td>0</td>\n",
       "      <td>0</td>\n",
       "      <td>0</td>\n",
       "      <td>0</td>\n",
       "    </tr>\n",
       "    <tr>\n",
       "      <th>3</th>\n",
       "      <td>4</td>\n",
       "      <td>0</td>\n",
       "      <td>0</td>\n",
       "      <td>0</td>\n",
       "      <td>0</td>\n",
       "      <td>0</td>\n",
       "      <td>0</td>\n",
       "      <td>0</td>\n",
       "      <td>0</td>\n",
       "      <td>0</td>\n",
       "      <td>...</td>\n",
       "      <td>0</td>\n",
       "      <td>0</td>\n",
       "      <td>0</td>\n",
       "      <td>0</td>\n",
       "      <td>0</td>\n",
       "      <td>0</td>\n",
       "      <td>0</td>\n",
       "      <td>0</td>\n",
       "      <td>0</td>\n",
       "      <td>0</td>\n",
       "    </tr>\n",
       "    <tr>\n",
       "      <th>4</th>\n",
       "      <td>0</td>\n",
       "      <td>0</td>\n",
       "      <td>0</td>\n",
       "      <td>0</td>\n",
       "      <td>0</td>\n",
       "      <td>0</td>\n",
       "      <td>0</td>\n",
       "      <td>0</td>\n",
       "      <td>0</td>\n",
       "      <td>0</td>\n",
       "      <td>...</td>\n",
       "      <td>0</td>\n",
       "      <td>0</td>\n",
       "      <td>0</td>\n",
       "      <td>0</td>\n",
       "      <td>0</td>\n",
       "      <td>0</td>\n",
       "      <td>0</td>\n",
       "      <td>0</td>\n",
       "      <td>0</td>\n",
       "      <td>0</td>\n",
       "    </tr>\n",
       "  </tbody>\n",
       "</table>\n",
       "<p>5 rows × 785 columns</p>\n",
       "</div>"
      ],
      "text/plain": [
       "   label  pixel0  pixel1  pixel2  pixel3  pixel4  pixel5  pixel6  pixel7  \\\n",
       "0      1       0       0       0       0       0       0       0       0   \n",
       "1      0       0       0       0       0       0       0       0       0   \n",
       "2      1       0       0       0       0       0       0       0       0   \n",
       "3      4       0       0       0       0       0       0       0       0   \n",
       "4      0       0       0       0       0       0       0       0       0   \n",
       "\n",
       "   pixel8  ...  pixel774  pixel775  pixel776  pixel777  pixel778  pixel779  \\\n",
       "0       0  ...         0         0         0         0         0         0   \n",
       "1       0  ...         0         0         0         0         0         0   \n",
       "2       0  ...         0         0         0         0         0         0   \n",
       "3       0  ...         0         0         0         0         0         0   \n",
       "4       0  ...         0         0         0         0         0         0   \n",
       "\n",
       "   pixel780  pixel781  pixel782  pixel783  \n",
       "0         0         0         0         0  \n",
       "1         0         0         0         0  \n",
       "2         0         0         0         0  \n",
       "3         0         0         0         0  \n",
       "4         0         0         0         0  \n",
       "\n",
       "[5 rows x 785 columns]"
      ]
     },
     "execution_count": 4,
     "metadata": {},
     "output_type": "execute_result"
    }
   ],
   "source": [
    "train.head()"
   ]
  },
  {
   "cell_type": "code",
   "execution_count": 5,
   "metadata": {},
   "outputs": [
    {
     "data": {
      "text/html": [
       "<div>\n",
       "<style scoped>\n",
       "    .dataframe tbody tr th:only-of-type {\n",
       "        vertical-align: middle;\n",
       "    }\n",
       "\n",
       "    .dataframe tbody tr th {\n",
       "        vertical-align: top;\n",
       "    }\n",
       "\n",
       "    .dataframe thead th {\n",
       "        text-align: right;\n",
       "    }\n",
       "</style>\n",
       "<table border=\"1\" class=\"dataframe\">\n",
       "  <thead>\n",
       "    <tr style=\"text-align: right;\">\n",
       "      <th></th>\n",
       "      <th>label</th>\n",
       "      <th>pixel0</th>\n",
       "      <th>pixel1</th>\n",
       "      <th>pixel2</th>\n",
       "      <th>pixel3</th>\n",
       "      <th>pixel4</th>\n",
       "      <th>pixel5</th>\n",
       "      <th>pixel6</th>\n",
       "      <th>pixel7</th>\n",
       "      <th>pixel8</th>\n",
       "      <th>...</th>\n",
       "      <th>pixel774</th>\n",
       "      <th>pixel775</th>\n",
       "      <th>pixel776</th>\n",
       "      <th>pixel777</th>\n",
       "      <th>pixel778</th>\n",
       "      <th>pixel779</th>\n",
       "      <th>pixel780</th>\n",
       "      <th>pixel781</th>\n",
       "      <th>pixel782</th>\n",
       "      <th>pixel783</th>\n",
       "    </tr>\n",
       "  </thead>\n",
       "  <tbody>\n",
       "    <tr>\n",
       "      <th>count</th>\n",
       "      <td>42000.000000</td>\n",
       "      <td>42000.0</td>\n",
       "      <td>42000.0</td>\n",
       "      <td>42000.0</td>\n",
       "      <td>42000.0</td>\n",
       "      <td>42000.0</td>\n",
       "      <td>42000.0</td>\n",
       "      <td>42000.0</td>\n",
       "      <td>42000.0</td>\n",
       "      <td>42000.0</td>\n",
       "      <td>...</td>\n",
       "      <td>42000.000000</td>\n",
       "      <td>42000.000000</td>\n",
       "      <td>42000.000000</td>\n",
       "      <td>42000.00000</td>\n",
       "      <td>42000.000000</td>\n",
       "      <td>42000.000000</td>\n",
       "      <td>42000.0</td>\n",
       "      <td>42000.0</td>\n",
       "      <td>42000.0</td>\n",
       "      <td>42000.0</td>\n",
       "    </tr>\n",
       "    <tr>\n",
       "      <th>mean</th>\n",
       "      <td>4.456643</td>\n",
       "      <td>0.0</td>\n",
       "      <td>0.0</td>\n",
       "      <td>0.0</td>\n",
       "      <td>0.0</td>\n",
       "      <td>0.0</td>\n",
       "      <td>0.0</td>\n",
       "      <td>0.0</td>\n",
       "      <td>0.0</td>\n",
       "      <td>0.0</td>\n",
       "      <td>...</td>\n",
       "      <td>0.219286</td>\n",
       "      <td>0.117095</td>\n",
       "      <td>0.059024</td>\n",
       "      <td>0.02019</td>\n",
       "      <td>0.017238</td>\n",
       "      <td>0.002857</td>\n",
       "      <td>0.0</td>\n",
       "      <td>0.0</td>\n",
       "      <td>0.0</td>\n",
       "      <td>0.0</td>\n",
       "    </tr>\n",
       "    <tr>\n",
       "      <th>std</th>\n",
       "      <td>2.887730</td>\n",
       "      <td>0.0</td>\n",
       "      <td>0.0</td>\n",
       "      <td>0.0</td>\n",
       "      <td>0.0</td>\n",
       "      <td>0.0</td>\n",
       "      <td>0.0</td>\n",
       "      <td>0.0</td>\n",
       "      <td>0.0</td>\n",
       "      <td>0.0</td>\n",
       "      <td>...</td>\n",
       "      <td>6.312890</td>\n",
       "      <td>4.633819</td>\n",
       "      <td>3.274488</td>\n",
       "      <td>1.75987</td>\n",
       "      <td>1.894498</td>\n",
       "      <td>0.414264</td>\n",
       "      <td>0.0</td>\n",
       "      <td>0.0</td>\n",
       "      <td>0.0</td>\n",
       "      <td>0.0</td>\n",
       "    </tr>\n",
       "    <tr>\n",
       "      <th>min</th>\n",
       "      <td>0.000000</td>\n",
       "      <td>0.0</td>\n",
       "      <td>0.0</td>\n",
       "      <td>0.0</td>\n",
       "      <td>0.0</td>\n",
       "      <td>0.0</td>\n",
       "      <td>0.0</td>\n",
       "      <td>0.0</td>\n",
       "      <td>0.0</td>\n",
       "      <td>0.0</td>\n",
       "      <td>...</td>\n",
       "      <td>0.000000</td>\n",
       "      <td>0.000000</td>\n",
       "      <td>0.000000</td>\n",
       "      <td>0.00000</td>\n",
       "      <td>0.000000</td>\n",
       "      <td>0.000000</td>\n",
       "      <td>0.0</td>\n",
       "      <td>0.0</td>\n",
       "      <td>0.0</td>\n",
       "      <td>0.0</td>\n",
       "    </tr>\n",
       "    <tr>\n",
       "      <th>25%</th>\n",
       "      <td>2.000000</td>\n",
       "      <td>0.0</td>\n",
       "      <td>0.0</td>\n",
       "      <td>0.0</td>\n",
       "      <td>0.0</td>\n",
       "      <td>0.0</td>\n",
       "      <td>0.0</td>\n",
       "      <td>0.0</td>\n",
       "      <td>0.0</td>\n",
       "      <td>0.0</td>\n",
       "      <td>...</td>\n",
       "      <td>0.000000</td>\n",
       "      <td>0.000000</td>\n",
       "      <td>0.000000</td>\n",
       "      <td>0.00000</td>\n",
       "      <td>0.000000</td>\n",
       "      <td>0.000000</td>\n",
       "      <td>0.0</td>\n",
       "      <td>0.0</td>\n",
       "      <td>0.0</td>\n",
       "      <td>0.0</td>\n",
       "    </tr>\n",
       "    <tr>\n",
       "      <th>50%</th>\n",
       "      <td>4.000000</td>\n",
       "      <td>0.0</td>\n",
       "      <td>0.0</td>\n",
       "      <td>0.0</td>\n",
       "      <td>0.0</td>\n",
       "      <td>0.0</td>\n",
       "      <td>0.0</td>\n",
       "      <td>0.0</td>\n",
       "      <td>0.0</td>\n",
       "      <td>0.0</td>\n",
       "      <td>...</td>\n",
       "      <td>0.000000</td>\n",
       "      <td>0.000000</td>\n",
       "      <td>0.000000</td>\n",
       "      <td>0.00000</td>\n",
       "      <td>0.000000</td>\n",
       "      <td>0.000000</td>\n",
       "      <td>0.0</td>\n",
       "      <td>0.0</td>\n",
       "      <td>0.0</td>\n",
       "      <td>0.0</td>\n",
       "    </tr>\n",
       "    <tr>\n",
       "      <th>75%</th>\n",
       "      <td>7.000000</td>\n",
       "      <td>0.0</td>\n",
       "      <td>0.0</td>\n",
       "      <td>0.0</td>\n",
       "      <td>0.0</td>\n",
       "      <td>0.0</td>\n",
       "      <td>0.0</td>\n",
       "      <td>0.0</td>\n",
       "      <td>0.0</td>\n",
       "      <td>0.0</td>\n",
       "      <td>...</td>\n",
       "      <td>0.000000</td>\n",
       "      <td>0.000000</td>\n",
       "      <td>0.000000</td>\n",
       "      <td>0.00000</td>\n",
       "      <td>0.000000</td>\n",
       "      <td>0.000000</td>\n",
       "      <td>0.0</td>\n",
       "      <td>0.0</td>\n",
       "      <td>0.0</td>\n",
       "      <td>0.0</td>\n",
       "    </tr>\n",
       "    <tr>\n",
       "      <th>max</th>\n",
       "      <td>9.000000</td>\n",
       "      <td>0.0</td>\n",
       "      <td>0.0</td>\n",
       "      <td>0.0</td>\n",
       "      <td>0.0</td>\n",
       "      <td>0.0</td>\n",
       "      <td>0.0</td>\n",
       "      <td>0.0</td>\n",
       "      <td>0.0</td>\n",
       "      <td>0.0</td>\n",
       "      <td>...</td>\n",
       "      <td>254.000000</td>\n",
       "      <td>254.000000</td>\n",
       "      <td>253.000000</td>\n",
       "      <td>253.00000</td>\n",
       "      <td>254.000000</td>\n",
       "      <td>62.000000</td>\n",
       "      <td>0.0</td>\n",
       "      <td>0.0</td>\n",
       "      <td>0.0</td>\n",
       "      <td>0.0</td>\n",
       "    </tr>\n",
       "  </tbody>\n",
       "</table>\n",
       "<p>8 rows × 785 columns</p>\n",
       "</div>"
      ],
      "text/plain": [
       "              label   pixel0   pixel1   pixel2   pixel3   pixel4   pixel5  \\\n",
       "count  42000.000000  42000.0  42000.0  42000.0  42000.0  42000.0  42000.0   \n",
       "mean       4.456643      0.0      0.0      0.0      0.0      0.0      0.0   \n",
       "std        2.887730      0.0      0.0      0.0      0.0      0.0      0.0   \n",
       "min        0.000000      0.0      0.0      0.0      0.0      0.0      0.0   \n",
       "25%        2.000000      0.0      0.0      0.0      0.0      0.0      0.0   \n",
       "50%        4.000000      0.0      0.0      0.0      0.0      0.0      0.0   \n",
       "75%        7.000000      0.0      0.0      0.0      0.0      0.0      0.0   \n",
       "max        9.000000      0.0      0.0      0.0      0.0      0.0      0.0   \n",
       "\n",
       "        pixel6   pixel7   pixel8  ...      pixel774      pixel775  \\\n",
       "count  42000.0  42000.0  42000.0  ...  42000.000000  42000.000000   \n",
       "mean       0.0      0.0      0.0  ...      0.219286      0.117095   \n",
       "std        0.0      0.0      0.0  ...      6.312890      4.633819   \n",
       "min        0.0      0.0      0.0  ...      0.000000      0.000000   \n",
       "25%        0.0      0.0      0.0  ...      0.000000      0.000000   \n",
       "50%        0.0      0.0      0.0  ...      0.000000      0.000000   \n",
       "75%        0.0      0.0      0.0  ...      0.000000      0.000000   \n",
       "max        0.0      0.0      0.0  ...    254.000000    254.000000   \n",
       "\n",
       "           pixel776     pixel777      pixel778      pixel779  pixel780  \\\n",
       "count  42000.000000  42000.00000  42000.000000  42000.000000   42000.0   \n",
       "mean       0.059024      0.02019      0.017238      0.002857       0.0   \n",
       "std        3.274488      1.75987      1.894498      0.414264       0.0   \n",
       "min        0.000000      0.00000      0.000000      0.000000       0.0   \n",
       "25%        0.000000      0.00000      0.000000      0.000000       0.0   \n",
       "50%        0.000000      0.00000      0.000000      0.000000       0.0   \n",
       "75%        0.000000      0.00000      0.000000      0.000000       0.0   \n",
       "max      253.000000    253.00000    254.000000     62.000000       0.0   \n",
       "\n",
       "       pixel781  pixel782  pixel783  \n",
       "count   42000.0   42000.0   42000.0  \n",
       "mean        0.0       0.0       0.0  \n",
       "std         0.0       0.0       0.0  \n",
       "min         0.0       0.0       0.0  \n",
       "25%         0.0       0.0       0.0  \n",
       "50%         0.0       0.0       0.0  \n",
       "75%         0.0       0.0       0.0  \n",
       "max         0.0       0.0       0.0  \n",
       "\n",
       "[8 rows x 785 columns]"
      ]
     },
     "execution_count": 5,
     "metadata": {},
     "output_type": "execute_result"
    }
   ],
   "source": [
    "train.describe()"
   ]
  },
  {
   "cell_type": "code",
   "execution_count": 6,
   "metadata": {},
   "outputs": [
    {
     "name": "stdout",
     "output_type": "stream",
     "text": [
      "<class 'pandas.core.frame.DataFrame'>\n",
      "RangeIndex: 42000 entries, 0 to 41999\n",
      "Columns: 785 entries, label to pixel783\n",
      "dtypes: int64(785)\n",
      "memory usage: 251.5 MB\n"
     ]
    }
   ],
   "source": [
    "train.info()"
   ]
  },
  {
   "cell_type": "code",
   "execution_count": 7,
   "metadata": {},
   "outputs": [
    {
     "data": {
      "text/plain": [
       "0    785\n",
       "dtype: int64"
      ]
     },
     "execution_count": 7,
     "metadata": {},
     "output_type": "execute_result"
    }
   ],
   "source": [
    "train.isnull().sum().value_counts()"
   ]
  },
  {
   "cell_type": "code",
   "execution_count": 8,
   "metadata": {},
   "outputs": [],
   "source": [
    "# separate dependent and independent variables\n",
    "X = train.drop('label', axis = 1).values\n",
    "y = train['label'].values\n",
    "test_X = test.values\n",
    "\n",
    "all_data = np.concatenate((X,test_X))"
   ]
  },
  {
   "cell_type": "code",
   "execution_count": 9,
   "metadata": {},
   "outputs": [
    {
     "name": "stdout",
     "output_type": "stream",
     "text": [
      "False\n",
      "False\n",
      "False\n",
      "False\n"
     ]
    }
   ],
   "source": [
    "#check for inf or nan values in data\n",
    "print(np.isnan(X).any())\n",
    "print(np.isinf(X).any())\n",
    "print(np.isnan(y).any())\n",
    "print(np.isinf(y).any())"
   ]
  },
  {
   "cell_type": "code",
   "execution_count": 10,
   "metadata": {},
   "outputs": [
    {
     "data": {
      "image/png": "[encoded data removed]",
      "text/plain": [
       "<Figure size 1584x1440 with 25 Axes>"
      ]
     },
     "metadata": {
      "needs_background": "light"
     },
     "output_type": "display_data"
    }
   ],
   "source": [
    "# Show 25 digits of data\n",
    "fig, axis = plt.subplots(5, 5, figsize=(22, 20))\n",
    "\n",
    "for i, ax in enumerate(axis.flat):\n",
    "    ax.imshow(X[i].reshape(28, 28), cmap='binary')\n",
    "    ax.set(title = \"Real digit is {}\".format(y[i]))"
   ]
  },
  {
   "cell_type": "markdown",
   "metadata": {},
   "source": [
    "## Pre-processing"
   ]
  },
  {
   "cell_type": "code",
   "execution_count": 11,
   "metadata": {},
   "outputs": [],
   "source": [
    "X = X/255\n",
    "test_X = test_X /255"
   ]
  },
  {
   "cell_type": "code",
   "execution_count": 12,
   "metadata": {},
   "outputs": [],
   "source": [
    "num_classes = 10\n",
    "y = np_utils.to_categorical(y, num_classes)"
   ]
  },
  {
   "cell_type": "code",
   "execution_count": 13,
   "metadata": {},
   "outputs": [
    {
     "data": {
      "text/plain": [
       "784"
      ]
     },
     "execution_count": 13,
     "metadata": {},
     "output_type": "execute_result"
    }
   ],
   "source": [
    "input_dim = X.shape[1]\n",
    "input_dim"
   ]
  },
  {
   "cell_type": "code",
   "execution_count": 14,
   "metadata": {},
   "outputs": [],
   "source": [
    "X_train,X_test,y_train,y_test = train_test_split(X,y,test_size = 0.2,random_state=42)"
   ]
  },
  {
   "cell_type": "code",
   "execution_count": 15,
   "metadata": {},
   "outputs": [],
   "source": [
    "#Function to visualize model behaviors\n",
    "def draw_model(model):\n",
    "    plt.figure()\n",
    "    plt.subplot(2,1,1)\n",
    "    plt.plot(model.history['mae'])\n",
    "    plt.plot(model.history['acc'])\n",
    "    plt.title('model accuracy')\n",
    "    plt.ylabel('accuracy')\n",
    "    plt.xlabel('epoch')\n",
    "    plt.legend(['train', 'test'], loc='lower right')\n",
    "    plt.subplot(2,1,2)\n",
    "    plt.plot(model.history['loss'])\n",
    "    plt.plot(model.history['val_loss'])\n",
    "    plt.title('model loss')\n",
    "    plt.ylabel('loss')\n",
    "    plt.xlabel('epoch')\n",
    "    plt.legend(['train', 'test'], loc='upper right')\n",
    "\n",
    "    plt.tight_layout()\n",
    "    plt.show()    "
   ]
  },
  {
   "cell_type": "code",
   "execution_count": 16,
   "metadata": {},
   "outputs": [],
   "source": [
    "# funtion to write predictions\n",
    "def write_preds(preds, fname):\n",
    "    pd.DataFrame({\"ImageId\": list(range(1,len(preds)+1)), \"Label\":   preds}).to_csv(fname, index=False)"
   ]
  },
  {
   "cell_type": "code",
   "execution_count": 17,
   "metadata": {},
   "outputs": [],
   "source": [
    "#function to draw performance and learning\n",
    "def draw_learning_curve(history, keys=['f1', 'loss']):\n",
    "    plt.figure(figsize=(20,8))\n",
    "    for i, key in enumerate(keys):\n",
    "        plt.subplot(1, 2, i + 1)\n",
    "        sns.lineplot(x = history.epoch, y = history.history[key])\n",
    "        sns.lineplot(x = history.epoch, y = history.history['val_' + key])\n",
    "        plt.title('Learning Curve')\n",
    "        plt.ylabel(key.title())\n",
    "        plt.xlabel('Epoch')\n",
    "#         plt.ylim(ylim)\n",
    "        plt.legend(['train', 'test'], loc='best')\n",
    "    plt.show()"
   ]
  },
  {
   "cell_type": "code",
   "execution_count": 18,
   "metadata": {},
   "outputs": [],
   "source": [
    "#function prints and plots the confusion matrix.\n",
    "\n",
    "def plot_confusion_matrix(cm, classes,\n",
    "                          normalize=False,\n",
    "                          title='Confusion matrix',\n",
    "                          cmap=plt.cm.Blues):\n",
    "    plt.figure(figsize=(10,6))\n",
    "    plt.imshow(cm, interpolation='nearest', cmap=cmap)\n",
    "    plt.title(title)\n",
    "    plt.colorbar()\n",
    "    tick_marks = np.arange(len(classes))\n",
    "    plt.xticks(tick_marks, classes, rotation=45)\n",
    "    plt.yticks(tick_marks, classes)\n",
    "\n",
    "    if normalize:\n",
    "        cm = cm.astype('float') / cm.sum(axis=1)[:, np.newaxis]\n",
    "\n",
    "    thresh = cm.max() / 2.\n",
    "    for i, j in itertools.product(range(cm.shape[0]), range(cm.shape[1])):\n",
    "        plt.text(j, i, cm[i, j],\n",
    "                 horizontalalignment=\"center\",\n",
    "                 color=\"white\" if cm[i, j] > thresh else \"black\")\n",
    "\n",
    "    plt.tight_layout()\n",
    "    plt.ylabel('True label')\n",
    "    plt.xlabel('Predicted label')"
   ]
  },
  {
   "cell_type": "code",
   "execution_count": 19,
   "metadata": {},
   "outputs": [],
   "source": [
    "#reset keras values\n",
    "keras.backend.clear_session()"
   ]
  },
  {
   "cell_type": "markdown",
   "metadata": {},
   "source": [
    "## Model 1"
   ]
  },
  {
   "cell_type": "code",
   "execution_count": 20,
   "metadata": {},
   "outputs": [],
   "source": [
    "model1 = keras.models.Sequential([\n",
    "    keras.layers.Flatten(input_shape=[28, 28]),\n",
    "    keras.layers.Dense(10, activation=\"relu\"),\n",
    "    keras.layers.Dense(10, activation=\"softmax\")\n",
    "])\n",
    "\n",
    "# we'll use categorical xent for the loss, and RMSprop as the optimizer\n",
    "model1.compile(loss='categorical_crossentropy', optimizer='RMSprop', metrics = ['accuracy'])"
   ]
  },
  {
   "cell_type": "code",
   "execution_count": 21,
   "metadata": {},
   "outputs": [
    {
     "name": "stdout",
     "output_type": "stream",
     "text": [
      "Model: \"sequential\"\n",
      "_________________________________________________________________\n",
      "Layer (type)                 Output Shape              Param #   \n",
      "=================================================================\n",
      "flatten (Flatten)            (None, 784)               0         \n",
      "_________________________________________________________________\n",
      "dense (Dense)                (None, 10)                7850      \n",
      "_________________________________________________________________\n",
      "dense_1 (Dense)              (None, 10)                110       \n",
      "=================================================================\n",
      "Total params: 7,960\n",
      "Trainable params: 7,960\n",
      "Non-trainable params: 0\n",
      "_________________________________________________________________\n"
     ]
    }
   ],
   "source": [
    "model1.summary()"
   ]
  },
  {
   "cell_type": "code",
   "execution_count": 22,
   "metadata": {},
   "outputs": [
    {
     "data": {
      "text/plain": [
       "'dense'"
      ]
     },
     "execution_count": 22,
     "metadata": {},
     "output_type": "execute_result"
    }
   ],
   "source": [
    "hidden1 = model1.layers[1]\n",
    "hidden1.name"
   ]
  },
  {
   "cell_type": "code",
   "execution_count": 23,
   "metadata": {},
   "outputs": [],
   "source": [
    "# All the parameters of a layer can be accessed using its get_weights() and set_weights() methods. For a Dense layer,\n",
    "# this includes both the connection weights and the bias terms\n",
    "weights, biases = hidden1.get_weights()"
   ]
  },
  {
   "cell_type": "code",
   "execution_count": 24,
   "metadata": {},
   "outputs": [
    {
     "data": {
      "text/plain": [
       "(784, 10)"
      ]
     },
     "execution_count": 24,
     "metadata": {},
     "output_type": "execute_result"
    }
   ],
   "source": [
    "weights.shape"
   ]
  },
  {
   "cell_type": "code",
   "execution_count": 25,
   "metadata": {},
   "outputs": [
    {
     "name": "stdout",
     "output_type": "stream",
     "text": [
      "Epoch 1/30\n",
      "WARNING:tensorflow:Model was constructed with shape (None, 28, 28) for input Tensor(\"flatten_input:0\", shape=(None, 28, 28), dtype=float32), but it was called on an input with incompatible shape (32, 784).\n",
      "WARNING:tensorflow:Model was constructed with shape (None, 28, 28) for input Tensor(\"flatten_input:0\", shape=(None, 28, 28), dtype=float32), but it was called on an input with incompatible shape (32, 784).\n",
      "WARNING:tensorflow:Model was constructed with shape (None, 28, 28) for input Tensor(\"flatten_input:0\", shape=(None, 28, 28), dtype=float32), but it was called on an input with incompatible shape (32, 784).\n",
      "840/840 - 2s - loss: 0.6560 - accuracy: 0.8205 - val_loss: 0.3744 - val_accuracy: 0.8987\n",
      "Epoch 2/30\n",
      "840/840 - 1s - loss: 0.3333 - accuracy: 0.9051 - val_loss: 0.3146 - val_accuracy: 0.9150\n",
      "Epoch 3/30\n",
      "840/840 - 1s - loss: 0.2957 - accuracy: 0.9168 - val_loss: 0.2981 - val_accuracy: 0.9187\n",
      "Epoch 4/30\n",
      "840/840 - 1s - loss: 0.2790 - accuracy: 0.9210 - val_loss: 0.2891 - val_accuracy: 0.9189\n",
      "Epoch 5/30\n",
      "840/840 - 1s - loss: 0.2677 - accuracy: 0.9244 - val_loss: 0.2830 - val_accuracy: 0.9201\n",
      "Epoch 6/30\n",
      "840/840 - 1s - loss: 0.2594 - accuracy: 0.9262 - val_loss: 0.2781 - val_accuracy: 0.9243\n",
      "Epoch 7/30\n",
      "840/840 - 1s - loss: 0.2527 - accuracy: 0.9284 - val_loss: 0.2816 - val_accuracy: 0.9220\n",
      "Epoch 8/30\n",
      "840/840 - 1s - loss: 0.2468 - accuracy: 0.9312 - val_loss: 0.2720 - val_accuracy: 0.9280\n",
      "Epoch 9/30\n",
      "840/840 - 1s - loss: 0.2413 - accuracy: 0.9333 - val_loss: 0.2725 - val_accuracy: 0.9281\n",
      "Epoch 10/30\n",
      "840/840 - 1s - loss: 0.2352 - accuracy: 0.9340 - val_loss: 0.2712 - val_accuracy: 0.9290\n",
      "Epoch 11/30\n",
      "840/840 - 1s - loss: 0.2307 - accuracy: 0.9355 - val_loss: 0.2717 - val_accuracy: 0.9295\n",
      "Epoch 12/30\n",
      "840/840 - 1s - loss: 0.2271 - accuracy: 0.9365 - val_loss: 0.2678 - val_accuracy: 0.9311\n",
      "Epoch 13/30\n",
      "840/840 - 1s - loss: 0.2234 - accuracy: 0.9369 - val_loss: 0.2674 - val_accuracy: 0.9302\n",
      "Epoch 14/30\n",
      "840/840 - 1s - loss: 0.2200 - accuracy: 0.9387 - val_loss: 0.2683 - val_accuracy: 0.9299\n",
      "Epoch 15/30\n",
      "840/840 - 1s - loss: 0.2162 - accuracy: 0.9391 - val_loss: 0.2679 - val_accuracy: 0.9302\n",
      "Epoch 16/30\n",
      "840/840 - 1s - loss: 0.2129 - accuracy: 0.9403 - val_loss: 0.2668 - val_accuracy: 0.9310\n",
      "Epoch 17/30\n",
      "840/840 - 1s - loss: 0.2110 - accuracy: 0.9403 - val_loss: 0.2680 - val_accuracy: 0.9311\n",
      "Epoch 18/30\n",
      "840/840 - 1s - loss: 0.2075 - accuracy: 0.9427 - val_loss: 0.2679 - val_accuracy: 0.9305\n",
      "Epoch 19/30\n",
      "840/840 - 1s - loss: 0.2045 - accuracy: 0.9431 - val_loss: 0.2662 - val_accuracy: 0.9293\n",
      "Epoch 20/30\n",
      "840/840 - 1s - loss: 0.2015 - accuracy: 0.9437 - val_loss: 0.2666 - val_accuracy: 0.9311\n",
      "Epoch 21/30\n",
      "840/840 - 1s - loss: 0.1998 - accuracy: 0.9435 - val_loss: 0.2632 - val_accuracy: 0.9292\n",
      "Epoch 22/30\n",
      "840/840 - 1s - loss: 0.1974 - accuracy: 0.9446 - val_loss: 0.2639 - val_accuracy: 0.9290\n",
      "Epoch 23/30\n",
      "840/840 - 1s - loss: 0.1951 - accuracy: 0.9449 - val_loss: 0.2704 - val_accuracy: 0.9280\n",
      "Epoch 24/30\n",
      "840/840 - 1s - loss: 0.1943 - accuracy: 0.9450 - val_loss: 0.2676 - val_accuracy: 0.9274\n",
      "Epoch 25/30\n",
      "840/840 - 1s - loss: 0.1927 - accuracy: 0.9462 - val_loss: 0.2708 - val_accuracy: 0.9304\n",
      "Epoch 26/30\n",
      "840/840 - 1s - loss: 0.1899 - accuracy: 0.9474 - val_loss: 0.2694 - val_accuracy: 0.9310\n",
      "Epoch 27/30\n",
      "840/840 - 1s - loss: 0.1898 - accuracy: 0.9474 - val_loss: 0.2746 - val_accuracy: 0.9301\n",
      "Epoch 28/30\n",
      "840/840 - 1s - loss: 0.1869 - accuracy: 0.9492 - val_loss: 0.2685 - val_accuracy: 0.9299\n",
      "Epoch 29/30\n",
      "840/840 - 1s - loss: 0.1862 - accuracy: 0.9477 - val_loss: 0.2678 - val_accuracy: 0.9305\n",
      "Epoch 30/30\n",
      "840/840 - 1s - loss: 0.1848 - accuracy: 0.9496 - val_loss: 0.2739 - val_accuracy: 0.9287\n",
      "Training took 44.64s\n"
     ]
    }
   ],
   "source": [
    "start = time.time()\n",
    "modelfit1 = model1.fit(X_train, y_train, epochs=30,validation_split=0.2, verbose=2)\n",
    "end = time.time()\n",
    "print(\"Training took {:.2f}s\".format(end - start))"
   ]
  },
  {
   "cell_type": "code",
   "execution_count": 26,
   "metadata": {},
   "outputs": [
    {
     "data": {
      "text/plain": [
       "dict_keys(['loss', 'accuracy', 'val_loss', 'val_accuracy'])"
      ]
     },
     "execution_count": 26,
     "metadata": {},
     "output_type": "execute_result"
    }
   ],
   "source": [
    "modelfit1.history.keys()"
   ]
  },
  {
   "cell_type": "code",
   "execution_count": 27,
   "metadata": {},
   "outputs": [
    {
     "data": {
      "image/png": "[encoded data removed]",
      "text/plain": [
       "<Figure size 576x360 with 1 Axes>"
      ]
     },
     "metadata": {
      "needs_background": "light"
     },
     "output_type": "display_data"
    }
   ],
   "source": [
    "# Learning curves: the mean training loss and accuracy measured over each epoch, and the mean validation loss and \n",
    "# accuracy measured at the end of each epoch\n",
    "pd.DataFrame(modelfit1.history).plot(figsize=(8, 5))\n",
    "plt.grid(True)\n",
    "plt.gca().set_ylim(0, 1)\n",
    "plt.show()"
   ]
  },
  {
   "cell_type": "code",
   "execution_count": 28,
   "metadata": {},
   "outputs": [
    {
     "name": "stdout",
     "output_type": "stream",
     "text": [
      "WARNING:tensorflow:Model was constructed with shape (None, 28, 28) for input Tensor(\"flatten_input:0\", shape=(None, 28, 28), dtype=float32), but it was called on an input with incompatible shape (None, 784).\n",
      "263/263 [==============================] - 1s 2ms/step - loss: 0.2862 - accuracy: 0.9277\n"
     ]
    },
    {
     "data": {
      "text/plain": [
       "[0.28621673583984375, 0.9277380704879761]"
      ]
     },
     "execution_count": 28,
     "metadata": {},
     "output_type": "execute_result"
    }
   ],
   "source": [
    "model1.evaluate(X_test, y_test)"
   ]
  },
  {
   "cell_type": "code",
   "execution_count": 29,
   "metadata": {},
   "outputs": [
    {
     "name": "stdout",
     "output_type": "stream",
     "text": [
      "WARNING:tensorflow:From <ipython-input-29-d86a94561f75>:1: Sequential.predict_classes (from tensorflow.python.keras.engine.sequential) is deprecated and will be removed after 2021-01-01.\n",
      "Instructions for updating:\n",
      "Please use instead:* `np.argmax(model.predict(x), axis=-1)`,   if your model does multi-class classification   (e.g. if it uses a `softmax` last-layer activation).* `(model.predict(x) > 0.5).astype(\"int32\")`,   if your model does binary classification   (e.g. if it uses a `sigmoid` last-layer activation).\n",
      "WARNING:tensorflow:Model was constructed with shape (None, 28, 28) for input Tensor(\"flatten_input:0\", shape=(None, 28, 28), dtype=float32), but it was called on an input with incompatible shape (32, 784).\n"
     ]
    },
    {
     "data": {
      "text/plain": [
       "array([2, 0, 9, ..., 3, 9, 2], dtype=int64)"
      ]
     },
     "execution_count": 29,
     "metadata": {},
     "output_type": "execute_result"
    }
   ],
   "source": [
    "y_proba1 = model1.predict_classes(test_X)\n",
    "y_proba1.round(2)"
   ]
  },
  {
   "cell_type": "code",
   "execution_count": 30,
   "metadata": {},
   "outputs": [],
   "source": [
    "write_preds(y_proba1, \"mlp1.csv\")"
   ]
  },
  {
   "cell_type": "code",
   "execution_count": 31,
   "metadata": {},
   "outputs": [],
   "source": [
    "y_true = np.argmax(y_test, axis = 1)"
   ]
  },
  {
   "cell_type": "code",
   "execution_count": 32,
   "metadata": {},
   "outputs": [
    {
     "name": "stdout",
     "output_type": "stream",
     "text": [
      "WARNING:tensorflow:Model was constructed with shape (None, 28, 28) for input Tensor(\"flatten_input:0\", shape=(None, 28, 28), dtype=float32), but it was called on an input with incompatible shape (None, 784).\n"
     ]
    },
    {
     "data": {
      "image/png": "[encoded data removed]",
      "text/plain": [
       "<Figure size 720x432 with 2 Axes>"
      ]
     },
     "metadata": {
      "needs_background": "light"
     },
     "output_type": "display_data"
    }
   ],
   "source": [
    "y_pred1 = model1.predict(X_test)\n",
    "y_pred1_classes = np.argmax(y_pred1, axis=1)\n",
    "\n",
    "conf1 = confusion_matrix(y_true,y_pred1_classes)\n",
    "plot_confusion_matrix(conf1,classes = range(10))"
   ]
  },
  {
   "cell_type": "markdown",
   "metadata": {},
   "source": [
    "### KaggleID: JThomas2020 Score :0.92389"
   ]
  },
  {
   "cell_type": "markdown",
   "metadata": {},
   "source": [
    "This model perfomed exactly inline with it's evaluation on the kaggle dataset. However, this is is below what was capable from the Random Forest algorithm. This indicates that the paramters (nodes, algorithm) can be tuned for better results."
   ]
  },
  {
   "cell_type": "markdown",
   "metadata": {},
   "source": [
    "## Model 2"
   ]
  },
  {
   "cell_type": "code",
   "execution_count": 33,
   "metadata": {},
   "outputs": [],
   "source": [
    "model2 = keras.models.Sequential([\n",
    "    keras.layers.Flatten(input_shape=[28, 28]),\n",
    "    keras.layers.Dense(20, activation ='relu'),\n",
    "    keras.layers.Dense(10, activation=\"softmax\")\n",
    "])\n",
    "\n",
    "# we'll use categorical xent for the loss, and RMSprop as the optimizer\n",
    "model2.compile(loss='categorical_crossentropy', optimizer='RMSprop', metrics = ['accuracy'])"
   ]
  },
  {
   "cell_type": "code",
   "execution_count": 34,
   "metadata": {},
   "outputs": [
    {
     "name": "stdout",
     "output_type": "stream",
     "text": [
      "Model: \"sequential_1\"\n",
      "_________________________________________________________________\n",
      "Layer (type)                 Output Shape              Param #   \n",
      "=================================================================\n",
      "flatten_1 (Flatten)          (None, 784)               0         \n",
      "_________________________________________________________________\n",
      "dense_2 (Dense)              (None, 20)                15700     \n",
      "_________________________________________________________________\n",
      "dense_3 (Dense)              (None, 10)                210       \n",
      "=================================================================\n",
      "Total params: 15,910\n",
      "Trainable params: 15,910\n",
      "Non-trainable params: 0\n",
      "_________________________________________________________________\n"
     ]
    }
   ],
   "source": [
    "model2.summary()"
   ]
  },
  {
   "cell_type": "code",
   "execution_count": 35,
   "metadata": {},
   "outputs": [
    {
     "name": "stdout",
     "output_type": "stream",
     "text": [
      "Epoch 1/30\n",
      "WARNING:tensorflow:Model was constructed with shape (None, 28, 28) for input Tensor(\"flatten_1_input:0\", shape=(None, 28, 28), dtype=float32), but it was called on an input with incompatible shape (32, 784).\n",
      "WARNING:tensorflow:Model was constructed with shape (None, 28, 28) for input Tensor(\"flatten_1_input:0\", shape=(None, 28, 28), dtype=float32), but it was called on an input with incompatible shape (32, 784).\n",
      "825/840 [============================>.] - ETA: 0s - loss: 0.5391 - accuracy: 0.8517WARNING:tensorflow:Model was constructed with shape (None, 28, 28) for input Tensor(\"flatten_1_input:0\", shape=(None, 28, 28), dtype=float32), but it was called on an input with incompatible shape (32, 784).\n",
      "840/840 [==============================] - 2s 3ms/step - loss: 0.5359 - accuracy: 0.8528 - val_loss: 0.3197 - val_accuracy: 0.9121\n",
      "Epoch 2/30\n",
      "840/840 [==============================] - 2s 2ms/step - loss: 0.2855 - accuracy: 0.9169 - val_loss: 0.2816 - val_accuracy: 0.9228\n",
      "Epoch 3/30\n",
      "840/840 [==============================] - 2s 2ms/step - loss: 0.2484 - accuracy: 0.9279 - val_loss: 0.2628 - val_accuracy: 0.9280\n",
      "Epoch 4/30\n",
      "840/840 [==============================] - 2s 2ms/step - loss: 0.2237 - accuracy: 0.9356 - val_loss: 0.2417 - val_accuracy: 0.9335\n",
      "Epoch 5/30\n",
      "840/840 [==============================] - 2s 2ms/step - loss: 0.2060 - accuracy: 0.9405 - val_loss: 0.2335 - val_accuracy: 0.9339\n",
      "Epoch 6/30\n",
      "840/840 [==============================] - 2s 2ms/step - loss: 0.1916 - accuracy: 0.9446 - val_loss: 0.2229 - val_accuracy: 0.9403\n",
      "Epoch 7/30\n",
      "840/840 [==============================] - 2s 2ms/step - loss: 0.1792 - accuracy: 0.9478 - val_loss: 0.2201 - val_accuracy: 0.9408\n",
      "Epoch 8/30\n",
      "840/840 [==============================] - 2s 2ms/step - loss: 0.1694 - accuracy: 0.9509 - val_loss: 0.2118 - val_accuracy: 0.9449\n",
      "Epoch 9/30\n",
      "840/840 [==============================] - 2s 2ms/step - loss: 0.1612 - accuracy: 0.9538 - val_loss: 0.2109 - val_accuracy: 0.9443\n",
      "Epoch 10/30\n",
      "840/840 [==============================] - 2s 2ms/step - loss: 0.1532 - accuracy: 0.9551 - val_loss: 0.2103 - val_accuracy: 0.9432\n",
      "Epoch 11/30\n",
      "840/840 [==============================] - 2s 2ms/step - loss: 0.1465 - accuracy: 0.9580 - val_loss: 0.2085 - val_accuracy: 0.9461\n",
      "Epoch 12/30\n",
      "840/840 [==============================] - 2s 2ms/step - loss: 0.1418 - accuracy: 0.9590 - val_loss: 0.2103 - val_accuracy: 0.9466\n",
      "Epoch 13/30\n",
      "840/840 [==============================] - 2s 2ms/step - loss: 0.1356 - accuracy: 0.9608 - val_loss: 0.2058 - val_accuracy: 0.9467\n",
      "Epoch 14/30\n",
      "840/840 [==============================] - 2s 2ms/step - loss: 0.1304 - accuracy: 0.9627 - val_loss: 0.2042 - val_accuracy: 0.9482\n",
      "Epoch 15/30\n",
      "840/840 [==============================] - 2s 2ms/step - loss: 0.1268 - accuracy: 0.9647 - val_loss: 0.2024 - val_accuracy: 0.9479\n",
      "Epoch 16/30\n",
      "840/840 [==============================] - 2s 2ms/step - loss: 0.1221 - accuracy: 0.9651 - val_loss: 0.2015 - val_accuracy: 0.9485\n",
      "Epoch 17/30\n",
      "840/840 [==============================] - 2s 2ms/step - loss: 0.1188 - accuracy: 0.9656 - val_loss: 0.2047 - val_accuracy: 0.9479\n",
      "Epoch 18/30\n",
      "840/840 [==============================] - 2s 2ms/step - loss: 0.1148 - accuracy: 0.9663 - val_loss: 0.2091 - val_accuracy: 0.9481\n",
      "Epoch 19/30\n",
      "840/840 [==============================] - 2s 2ms/step - loss: 0.1118 - accuracy: 0.9680 - val_loss: 0.2093 - val_accuracy: 0.9485\n",
      "Epoch 20/30\n",
      "840/840 [==============================] - 2s 2ms/step - loss: 0.1082 - accuracy: 0.9695 - val_loss: 0.2100 - val_accuracy: 0.9482\n",
      "Epoch 21/30\n",
      "840/840 [==============================] - 2s 2ms/step - loss: 0.1053 - accuracy: 0.9699 - val_loss: 0.2059 - val_accuracy: 0.9501\n",
      "Epoch 22/30\n",
      "840/840 [==============================] - 2s 2ms/step - loss: 0.1026 - accuracy: 0.9703 - val_loss: 0.2099 - val_accuracy: 0.9491\n",
      "Epoch 23/30\n",
      "840/840 [==============================] - 2s 2ms/step - loss: 0.1018 - accuracy: 0.9708 - val_loss: 0.2126 - val_accuracy: 0.9485\n",
      "Epoch 24/30\n",
      "840/840 [==============================] - 2s 2ms/step - loss: 0.0989 - accuracy: 0.9723 - val_loss: 0.2126 - val_accuracy: 0.9484\n",
      "Epoch 25/30\n",
      "840/840 [==============================] - 2s 2ms/step - loss: 0.0974 - accuracy: 0.9722 - val_loss: 0.2199 - val_accuracy: 0.9457\n",
      "Epoch 26/30\n",
      "840/840 [==============================] - 2s 2ms/step - loss: 0.0947 - accuracy: 0.9738 - val_loss: 0.2116 - val_accuracy: 0.9496\n",
      "Epoch 27/30\n",
      "840/840 [==============================] - 2s 2ms/step - loss: 0.0927 - accuracy: 0.9739 - val_loss: 0.2131 - val_accuracy: 0.9464\n",
      "Epoch 28/30\n",
      "840/840 [==============================] - 2s 2ms/step - loss: 0.0906 - accuracy: 0.9745 - val_loss: 0.2155 - val_accuracy: 0.9485\n",
      "Epoch 29/30\n",
      "840/840 [==============================] - 2s 2ms/step - loss: 0.0897 - accuracy: 0.9748 - val_loss: 0.2197 - val_accuracy: 0.9490\n",
      "Epoch 30/30\n",
      "840/840 [==============================] - 2s 2ms/step - loss: 0.0868 - accuracy: 0.9750 - val_loss: 0.2240 - val_accuracy: 0.9488\n",
      "Training took 50.31s\n"
     ]
    }
   ],
   "source": [
    "start=time.time()\n",
    "modelfit2 = model2.fit(X_train, y_train, epochs=30, validation_split=0.2)\n",
    "end=time.time()\n",
    "print(\"Training took {:.2f}s\".format(end - start))"
   ]
  },
  {
   "cell_type": "code",
   "execution_count": 36,
   "metadata": {},
   "outputs": [
    {
     "data": {
      "text/plain": [
       "dict_keys(['loss', 'accuracy', 'val_loss', 'val_accuracy'])"
      ]
     },
     "execution_count": 36,
     "metadata": {},
     "output_type": "execute_result"
    }
   ],
   "source": [
    "modelfit2.history.keys()"
   ]
  },
  {
   "cell_type": "code",
   "execution_count": 37,
   "metadata": {},
   "outputs": [
    {
     "data": {
      "image/png": "[encoded data removed]",
      "text/plain": [
       "<Figure size 576x360 with 1 Axes>"
      ]
     },
     "metadata": {
      "needs_background": "light"
     },
     "output_type": "display_data"
    }
   ],
   "source": [
    "# Learning curves: the mean training loss and accuracy measured over each epoch, and the mean validation loss and \n",
    "# accuracy measured at the end of each epoch\n",
    "pd.DataFrame(modelfit2.history).plot(figsize=(8, 5))\n",
    "plt.grid(True)\n",
    "plt.gca().set_ylim(0, 1)\n",
    "plt.show()"
   ]
  },
  {
   "cell_type": "code",
   "execution_count": 38,
   "metadata": {},
   "outputs": [
    {
     "name": "stdout",
     "output_type": "stream",
     "text": [
      "WARNING:tensorflow:Model was constructed with shape (None, 28, 28) for input Tensor(\"flatten_1_input:0\", shape=(None, 28, 28), dtype=float32), but it was called on an input with incompatible shape (None, 784).\n",
      "263/263 [==============================] - 0s 2ms/step - loss: 0.2272 - accuracy: 0.9463\n"
     ]
    },
    {
     "data": {
      "text/plain": [
       "[0.22719071805477142, 0.946309506893158]"
      ]
     },
     "execution_count": 38,
     "metadata": {},
     "output_type": "execute_result"
    }
   ],
   "source": [
    "model2.evaluate(X_test, y_test)"
   ]
  },
  {
   "cell_type": "code",
   "execution_count": 39,
   "metadata": {},
   "outputs": [
    {
     "name": "stdout",
     "output_type": "stream",
     "text": [
      "WARNING:tensorflow:Model was constructed with shape (None, 28, 28) for input Tensor(\"flatten_1_input:0\", shape=(None, 28, 28), dtype=float32), but it was called on an input with incompatible shape (32, 784).\n"
     ]
    }
   ],
   "source": [
    "y_proba2 = model2.predict_classes(test_X)\n",
    "write_preds(y_proba2, \"mlp2.csv\")"
   ]
  },
  {
   "cell_type": "code",
   "execution_count": 40,
   "metadata": {},
   "outputs": [
    {
     "name": "stdout",
     "output_type": "stream",
     "text": [
      "WARNING:tensorflow:Model was constructed with shape (None, 28, 28) for input Tensor(\"flatten_1_input:0\", shape=(None, 28, 28), dtype=float32), but it was called on an input with incompatible shape (None, 784).\n"
     ]
    },
    {
     "data": {
      "image/png": "[encoded data removed]",
      "text/plain": [
       "<Figure size 720x432 with 2 Axes>"
      ]
     },
     "metadata": {
      "needs_background": "light"
     },
     "output_type": "display_data"
    }
   ],
   "source": [
    "y_pred2 = model2.predict(X_test)\n",
    "y_pred2_classes = np.argmax(y_pred2, axis=1)\n",
    "\n",
    "conf2 = confusion_matrix(y_true,y_pred2_classes)\n",
    "plot_confusion_matrix(conf2,classes = range(10))"
   ]
  },
  {
   "cell_type": "markdown",
   "metadata": {},
   "source": [
    "### KaggleID: JThomas2020   Score:0.94692"
   ]
  },
  {
   "cell_type": "markdown",
   "metadata": {},
   "source": [
    "Model2 performed slightly better than model1. This is likely due to the ammount of nodes used for decisions in the neural network structure. "
   ]
  },
  {
   "cell_type": "markdown",
   "metadata": {},
   "source": [
    "## Model 3"
   ]
  },
  {
   "cell_type": "code",
   "execution_count": 41,
   "metadata": {},
   "outputs": [],
   "source": [
    "model3 = keras.models.Sequential([\n",
    "    keras.layers.Flatten(input_shape=[28, 28]),\n",
    "    keras.layers.Dense(10, activation ='relu'),\n",
    "    keras.layers.Dense(10, activation ='relu'),\n",
    "    keras.layers.Dense(10, activation ='relu'),\n",
    "    keras.layers.Dense(10, activation ='relu'),\n",
    "    keras.layers.Dense(10, activation=\"softmax\")\n",
    "])\n",
    "\n",
    "# we'll use categorical xent for the loss, and RMSprop as the optimizer\n",
    "model3.compile(loss='categorical_crossentropy', optimizer='RMSprop', metrics = ['accuracy'])"
   ]
  },
  {
   "cell_type": "code",
   "execution_count": 42,
   "metadata": {},
   "outputs": [
    {
     "name": "stdout",
     "output_type": "stream",
     "text": [
      "Model: \"sequential_2\"\n",
      "_________________________________________________________________\n",
      "Layer (type)                 Output Shape              Param #   \n",
      "=================================================================\n",
      "flatten_2 (Flatten)          (None, 784)               0         \n",
      "_________________________________________________________________\n",
      "dense_4 (Dense)              (None, 10)                7850      \n",
      "_________________________________________________________________\n",
      "dense_5 (Dense)              (None, 10)                110       \n",
      "_________________________________________________________________\n",
      "dense_6 (Dense)              (None, 10)                110       \n",
      "_________________________________________________________________\n",
      "dense_7 (Dense)              (None, 10)                110       \n",
      "_________________________________________________________________\n",
      "dense_8 (Dense)              (None, 10)                110       \n",
      "=================================================================\n",
      "Total params: 8,290\n",
      "Trainable params: 8,290\n",
      "Non-trainable params: 0\n",
      "_________________________________________________________________\n"
     ]
    }
   ],
   "source": [
    "model3.summary()"
   ]
  },
  {
   "cell_type": "code",
   "execution_count": 43,
   "metadata": {},
   "outputs": [
    {
     "name": "stdout",
     "output_type": "stream",
     "text": [
      "Epoch 1/30\n",
      "WARNING:tensorflow:Model was constructed with shape (None, 28, 28) for input Tensor(\"flatten_2_input:0\", shape=(None, 28, 28), dtype=float32), but it was called on an input with incompatible shape (32, 784).\n",
      "WARNING:tensorflow:Model was constructed with shape (None, 28, 28) for input Tensor(\"flatten_2_input:0\", shape=(None, 28, 28), dtype=float32), but it was called on an input with incompatible shape (32, 784).\n",
      "831/840 [============================>.] - ETA: 0s - loss: 1.2294 - accuracy: 0.5689WARNING:tensorflow:Model was constructed with shape (None, 28, 28) for input Tensor(\"flatten_2_input:0\", shape=(None, 28, 28), dtype=float32), but it was called on an input with incompatible shape (32, 784).\n",
      "840/840 [==============================] - 2s 3ms/step - loss: 1.2231 - accuracy: 0.5715 - val_loss: 0.7315 - val_accuracy: 0.7835\n",
      "Epoch 2/30\n",
      "840/840 [==============================] - 2s 2ms/step - loss: 0.6183 - accuracy: 0.8201 - val_loss: 0.5447 - val_accuracy: 0.8485\n",
      "Epoch 3/30\n",
      "840/840 [==============================] - 2s 2ms/step - loss: 0.4712 - accuracy: 0.8671 - val_loss: 0.4266 - val_accuracy: 0.8821\n",
      "Epoch 4/30\n",
      "840/840 [==============================] - 2s 2ms/step - loss: 0.3949 - accuracy: 0.8888 - val_loss: 0.3790 - val_accuracy: 0.8933\n",
      "Epoch 5/30\n",
      "840/840 [==============================] - 2s 2ms/step - loss: 0.3514 - accuracy: 0.8987 - val_loss: 0.3610 - val_accuracy: 0.8967\n",
      "Epoch 6/30\n",
      "840/840 [==============================] - 2s 2ms/step - loss: 0.3258 - accuracy: 0.9067 - val_loss: 0.3210 - val_accuracy: 0.9077\n",
      "Epoch 7/30\n",
      "840/840 [==============================] - 2s 2ms/step - loss: 0.3064 - accuracy: 0.9119 - val_loss: 0.3192 - val_accuracy: 0.9094\n",
      "Epoch 8/30\n",
      "840/840 [==============================] - 2s 2ms/step - loss: 0.2923 - accuracy: 0.9160 - val_loss: 0.3057 - val_accuracy: 0.9135\n",
      "Epoch 9/30\n",
      "840/840 [==============================] - 2s 2ms/step - loss: 0.2794 - accuracy: 0.9179 - val_loss: 0.2944 - val_accuracy: 0.9155\n",
      "Epoch 10/30\n",
      "840/840 [==============================] - 2s 2ms/step - loss: 0.2701 - accuracy: 0.9201 - val_loss: 0.3115 - val_accuracy: 0.9137\n",
      "Epoch 11/30\n",
      "840/840 [==============================] - 2s 2ms/step - loss: 0.2629 - accuracy: 0.9240 - val_loss: 0.2879 - val_accuracy: 0.9165\n",
      "Epoch 12/30\n",
      "840/840 [==============================] - 2s 2ms/step - loss: 0.2546 - accuracy: 0.9259 - val_loss: 0.2782 - val_accuracy: 0.9182\n",
      "Epoch 13/30\n",
      "840/840 [==============================] - 2s 2ms/step - loss: 0.2479 - accuracy: 0.9258 - val_loss: 0.2831 - val_accuracy: 0.9187\n",
      "Epoch 14/30\n",
      "840/840 [==============================] - 2s 2ms/step - loss: 0.2415 - accuracy: 0.9290 - val_loss: 0.2737 - val_accuracy: 0.9222\n",
      "Epoch 15/30\n",
      "840/840 [==============================] - 2s 2ms/step - loss: 0.2373 - accuracy: 0.9308 - val_loss: 0.2783 - val_accuracy: 0.9180\n",
      "Epoch 16/30\n",
      "840/840 [==============================] - 2s 2ms/step - loss: 0.2327 - accuracy: 0.9331 - val_loss: 0.2773 - val_accuracy: 0.9211\n",
      "Epoch 17/30\n",
      "840/840 [==============================] - 2s 2ms/step - loss: 0.2295 - accuracy: 0.9330 - val_loss: 0.2669 - val_accuracy: 0.9259\n",
      "Epoch 18/30\n",
      "840/840 [==============================] - 2s 2ms/step - loss: 0.2255 - accuracy: 0.9345 - val_loss: 0.2730 - val_accuracy: 0.9196\n",
      "Epoch 19/30\n",
      "840/840 [==============================] - 2s 2ms/step - loss: 0.2219 - accuracy: 0.9357 - val_loss: 0.2642 - val_accuracy: 0.9256\n",
      "Epoch 20/30\n",
      "840/840 [==============================] - 2s 2ms/step - loss: 0.2199 - accuracy: 0.9363 - val_loss: 0.2714 - val_accuracy: 0.9210\n",
      "Epoch 21/30\n",
      "840/840 [==============================] - 2s 2ms/step - loss: 0.2169 - accuracy: 0.9377 - val_loss: 0.2830 - val_accuracy: 0.9217\n",
      "Epoch 22/30\n",
      "840/840 [==============================] - 2s 2ms/step - loss: 0.2151 - accuracy: 0.9375 - val_loss: 0.2726 - val_accuracy: 0.9231\n",
      "Epoch 23/30\n",
      "840/840 [==============================] - 2s 2ms/step - loss: 0.2137 - accuracy: 0.9385 - val_loss: 0.2597 - val_accuracy: 0.9280\n",
      "Epoch 24/30\n",
      "840/840 [==============================] - 2s 2ms/step - loss: 0.2100 - accuracy: 0.9377 - val_loss: 0.2799 - val_accuracy: 0.9202\n",
      "Epoch 25/30\n",
      "840/840 [==============================] - 2s 2ms/step - loss: 0.2082 - accuracy: 0.9387 - val_loss: 0.2780 - val_accuracy: 0.9226\n",
      "Epoch 26/30\n",
      "840/840 [==============================] - 2s 2ms/step - loss: 0.2076 - accuracy: 0.9400 - val_loss: 0.2631 - val_accuracy: 0.9289\n",
      "Epoch 27/30\n",
      "840/840 [==============================] - 2s 2ms/step - loss: 0.2059 - accuracy: 0.9399 - val_loss: 0.2729 - val_accuracy: 0.9269\n",
      "Epoch 28/30\n",
      "840/840 [==============================] - 2s 2ms/step - loss: 0.2031 - accuracy: 0.9418 - val_loss: 0.2748 - val_accuracy: 0.9278\n",
      "Epoch 29/30\n",
      "840/840 [==============================] - 2s 2ms/step - loss: 0.2019 - accuracy: 0.9413 - val_loss: 0.2780 - val_accuracy: 0.9235\n",
      "Epoch 30/30\n",
      "840/840 [==============================] - 2s 2ms/step - loss: 0.1999 - accuracy: 0.9419 - val_loss: 0.2724 - val_accuracy: 0.9249\n",
      "Training took 60.79s\n"
     ]
    }
   ],
   "source": [
    "start=time.time()\n",
    "modelfit3 = model3.fit(X_train, y_train, epochs=30, validation_split=0.2)\n",
    "end=time.time()\n",
    "print(\"Training took {:.2f}s\".format(end - start))"
   ]
  },
  {
   "cell_type": "code",
   "execution_count": 44,
   "metadata": {},
   "outputs": [
    {
     "data": {
      "text/plain": [
       "dict_keys(['loss', 'accuracy', 'val_loss', 'val_accuracy'])"
      ]
     },
     "execution_count": 44,
     "metadata": {},
     "output_type": "execute_result"
    }
   ],
   "source": [
    "modelfit3.history.keys()"
   ]
  },
  {
   "cell_type": "code",
   "execution_count": 45,
   "metadata": {},
   "outputs": [
    {
     "data": {
      "image/png": "[encoded data removed]",
      "text/plain": [
       "<Figure size 576x360 with 1 Axes>"
      ]
     },
     "metadata": {
      "needs_background": "light"
     },
     "output_type": "display_data"
    }
   ],
   "source": [
    "# Learning curves: the mean training loss and accuracy measured over each epoch, and the mean validation loss and \n",
    "# accuracy measured at the end of each epoch\n",
    "pd.DataFrame(modelfit3.history).plot(figsize=(8, 5))\n",
    "plt.grid(True)\n",
    "plt.gca().set_ylim(0, 1)\n",
    "plt.show()"
   ]
  },
  {
   "cell_type": "code",
   "execution_count": 46,
   "metadata": {},
   "outputs": [
    {
     "name": "stdout",
     "output_type": "stream",
     "text": [
      "WARNING:tensorflow:Model was constructed with shape (None, 28, 28) for input Tensor(\"flatten_2_input:0\", shape=(None, 28, 28), dtype=float32), but it was called on an input with incompatible shape (None, 784).\n",
      "263/263 [==============================] - 1s 2ms/step - loss: 0.2776 - accuracy: 0.9236\n"
     ]
    },
    {
     "data": {
      "text/plain": [
       "[0.27756235003471375, 0.9235714077949524]"
      ]
     },
     "execution_count": 46,
     "metadata": {},
     "output_type": "execute_result"
    }
   ],
   "source": [
    "model3.evaluate(X_test, y_test)"
   ]
  },
  {
   "cell_type": "code",
   "execution_count": 47,
   "metadata": {},
   "outputs": [
    {
     "name": "stdout",
     "output_type": "stream",
     "text": [
      "WARNING:tensorflow:Model was constructed with shape (None, 28, 28) for input Tensor(\"flatten_2_input:0\", shape=(None, 28, 28), dtype=float32), but it was called on an input with incompatible shape (32, 784).\n"
     ]
    }
   ],
   "source": [
    "y_proba3 = model3.predict_classes(test_X)\n",
    "write_preds(y_proba3, \"mlp3.csv\")"
   ]
  },
  {
   "cell_type": "code",
   "execution_count": 48,
   "metadata": {},
   "outputs": [
    {
     "name": "stdout",
     "output_type": "stream",
     "text": [
      "WARNING:tensorflow:Model was constructed with shape (None, 28, 28) for input Tensor(\"flatten_2_input:0\", shape=(None, 28, 28), dtype=float32), but it was called on an input with incompatible shape (None, 784).\n"
     ]
    },
    {
     "data": {
      "image/png": "[encoded data removed]",
      "text/plain": [
       "<Figure size 720x432 with 2 Axes>"
      ]
     },
     "metadata": {
      "needs_background": "light"
     },
     "output_type": "display_data"
    }
   ],
   "source": [
    "y_pred3 = model3.predict(X_test)\n",
    "y_pred3_classes = np.argmax(y_pred3, axis=1)\n",
    "\n",
    "conf3 = confusion_matrix(y_true,y_pred3_classes)\n",
    "plot_confusion_matrix(conf3,classes = range(10))"
   ]
  },
  {
   "cell_type": "markdown",
   "metadata": {},
   "source": [
    "### KaggleID: JThomas2020 Score: 0.92171"
   ]
  },
  {
   "cell_type": "markdown",
   "metadata": {},
   "source": [
    "Model3 performed slightly worse than model2, the model is likely overfit due to a higher node to layer ratio. Adding more nodes, skewed the weights in the output nodes thus decreasing the score on unseen data. I hypothesize that the fourth model will have a slightly better score than model2 due to similar nodes with more layers."
   ]
  },
  {
   "cell_type": "markdown",
   "metadata": {},
   "source": [
    "## Model 4"
   ]
  },
  {
   "cell_type": "code",
   "execution_count": 49,
   "metadata": {},
   "outputs": [],
   "source": [
    "model4 = keras.models.Sequential([\n",
    "    keras.layers.Flatten(input_shape=[28, 28]),\n",
    "    keras.layers.Dense(20, activation ='relu'),\n",
    "    keras.layers.Dense(20, activation ='relu'),\n",
    "    keras.layers.Dense(20, activation ='relu'),\n",
    "    keras.layers.Dense(20, activation ='relu'),\n",
    "    keras.layers.Dense(10, activation=\"softmax\")\n",
    "])\n",
    "\n",
    "model4.compile(loss='categorical_crossentropy', optimizer='RMSprop', metrics = ['accuracy'])"
   ]
  },
  {
   "cell_type": "code",
   "execution_count": 50,
   "metadata": {},
   "outputs": [
    {
     "name": "stdout",
     "output_type": "stream",
     "text": [
      "Model: \"sequential_3\"\n",
      "_________________________________________________________________\n",
      "Layer (type)                 Output Shape              Param #   \n",
      "=================================================================\n",
      "flatten_3 (Flatten)          (None, 784)               0         \n",
      "_________________________________________________________________\n",
      "dense_9 (Dense)              (None, 20)                15700     \n",
      "_________________________________________________________________\n",
      "dense_10 (Dense)             (None, 20)                420       \n",
      "_________________________________________________________________\n",
      "dense_11 (Dense)             (None, 20)                420       \n",
      "_________________________________________________________________\n",
      "dense_12 (Dense)             (None, 20)                420       \n",
      "_________________________________________________________________\n",
      "dense_13 (Dense)             (None, 10)                210       \n",
      "=================================================================\n",
      "Total params: 17,170\n",
      "Trainable params: 17,170\n",
      "Non-trainable params: 0\n",
      "_________________________________________________________________\n"
     ]
    }
   ],
   "source": [
    "model4.summary()"
   ]
  },
  {
   "cell_type": "code",
   "execution_count": 51,
   "metadata": {},
   "outputs": [
    {
     "name": "stdout",
     "output_type": "stream",
     "text": [
      "Epoch 1/30\n",
      "WARNING:tensorflow:Model was constructed with shape (None, 28, 28) for input Tensor(\"flatten_3_input:0\", shape=(None, 28, 28), dtype=float32), but it was called on an input with incompatible shape (32, 784).\n",
      "WARNING:tensorflow:Model was constructed with shape (None, 28, 28) for input Tensor(\"flatten_3_input:0\", shape=(None, 28, 28), dtype=float32), but it was called on an input with incompatible shape (32, 784).\n",
      "817/840 [============================>.] - ETA: 0s - loss: 0.6156 - accuracy: 0.8158WARNING:tensorflow:Model was constructed with shape (None, 28, 28) for input Tensor(\"flatten_3_input:0\", shape=(None, 28, 28), dtype=float32), but it was called on an input with incompatible shape (32, 784).\n",
      "840/840 [==============================] - 3s 3ms/step - loss: 0.6080 - accuracy: 0.8181 - val_loss: 0.3231 - val_accuracy: 0.9073\n",
      "Epoch 2/30\n",
      "840/840 [==============================] - 2s 2ms/step - loss: 0.2889 - accuracy: 0.9148 - val_loss: 0.3018 - val_accuracy: 0.9086\n",
      "Epoch 3/30\n",
      "840/840 [==============================] - 2s 2ms/step - loss: 0.2282 - accuracy: 0.9308 - val_loss: 0.2276 - val_accuracy: 0.9338\n",
      "Epoch 4/30\n",
      "840/840 [==============================] - 2s 2ms/step - loss: 0.1941 - accuracy: 0.9417 - val_loss: 0.2157 - val_accuracy: 0.9423\n",
      "Epoch 5/30\n",
      "840/840 [==============================] - 2s 2ms/step - loss: 0.1714 - accuracy: 0.9475 - val_loss: 0.2096 - val_accuracy: 0.9452\n",
      "Epoch 6/30\n",
      "840/840 [==============================] - 2s 2ms/step - loss: 0.1551 - accuracy: 0.9545 - val_loss: 0.1939 - val_accuracy: 0.9478\n",
      "Epoch 7/30\n",
      "840/840 [==============================] - 2s 2ms/step - loss: 0.1442 - accuracy: 0.9564 - val_loss: 0.1774 - val_accuracy: 0.9548\n",
      "Epoch 8/30\n",
      "840/840 [==============================] - 2s 2ms/step - loss: 0.1326 - accuracy: 0.9603 - val_loss: 0.1902 - val_accuracy: 0.9524\n",
      "Epoch 9/30\n",
      "840/840 [==============================] - 2s 2ms/step - loss: 0.1266 - accuracy: 0.9613 - val_loss: 0.1948 - val_accuracy: 0.9509\n",
      "Epoch 10/30\n",
      "840/840 [==============================] - 2s 2ms/step - loss: 0.1184 - accuracy: 0.9649 - val_loss: 0.1822 - val_accuracy: 0.9558\n",
      "Epoch 11/30\n",
      "840/840 [==============================] - 2s 2ms/step - loss: 0.1140 - accuracy: 0.9657 - val_loss: 0.1999 - val_accuracy: 0.9501\n",
      "Epoch 12/30\n",
      "840/840 [==============================] - 2s 2ms/step - loss: 0.1091 - accuracy: 0.9676 - val_loss: 0.1904 - val_accuracy: 0.9522\n",
      "Epoch 13/30\n",
      "840/840 [==============================] - 2s 2ms/step - loss: 0.1026 - accuracy: 0.9703 - val_loss: 0.1905 - val_accuracy: 0.9540\n",
      "Epoch 14/30\n",
      "840/840 [==============================] - 2s 2ms/step - loss: 0.0981 - accuracy: 0.9698 - val_loss: 0.1986 - val_accuracy: 0.9522\n",
      "Epoch 15/30\n",
      "840/840 [==============================] - 2s 2ms/step - loss: 0.0935 - accuracy: 0.9722 - val_loss: 0.1920 - val_accuracy: 0.9531\n",
      "Epoch 16/30\n",
      "840/840 [==============================] - 2s 2ms/step - loss: 0.0903 - accuracy: 0.9736 - val_loss: 0.2123 - val_accuracy: 0.9488\n",
      "Epoch 17/30\n",
      "840/840 [==============================] - 2s 2ms/step - loss: 0.0860 - accuracy: 0.9740 - val_loss: 0.1955 - val_accuracy: 0.9543\n",
      "Epoch 18/30\n",
      "840/840 [==============================] - 2s 2ms/step - loss: 0.0850 - accuracy: 0.9754 - val_loss: 0.1908 - val_accuracy: 0.9561\n",
      "Epoch 19/30\n",
      "840/840 [==============================] - 2s 2ms/step - loss: 0.0812 - accuracy: 0.9763 - val_loss: 0.2160 - val_accuracy: 0.9531\n",
      "Epoch 20/30\n",
      "840/840 [==============================] - 2s 2ms/step - loss: 0.0777 - accuracy: 0.9758 - val_loss: 0.2237 - val_accuracy: 0.9513\n",
      "Epoch 21/30\n",
      "840/840 [==============================] - 2s 2ms/step - loss: 0.0771 - accuracy: 0.9773 - val_loss: 0.2085 - val_accuracy: 0.9534\n",
      "Epoch 22/30\n",
      "840/840 [==============================] - 2s 2ms/step - loss: 0.0714 - accuracy: 0.9778 - val_loss: 0.2157 - val_accuracy: 0.9534\n",
      "Epoch 23/30\n",
      "840/840 [==============================] - 2s 2ms/step - loss: 0.0729 - accuracy: 0.9774 - val_loss: 0.2247 - val_accuracy: 0.9546\n",
      "Epoch 24/30\n",
      "840/840 [==============================] - 2s 2ms/step - loss: 0.0692 - accuracy: 0.9784 - val_loss: 0.2191 - val_accuracy: 0.9543\n",
      "Epoch 25/30\n",
      "840/840 [==============================] - 2s 2ms/step - loss: 0.0671 - accuracy: 0.9803 - val_loss: 0.2280 - val_accuracy: 0.9539\n",
      "Epoch 26/30\n",
      "840/840 [==============================] - 2s 2ms/step - loss: 0.0634 - accuracy: 0.9814 - val_loss: 0.2369 - val_accuracy: 0.9506\n",
      "Epoch 27/30\n",
      "840/840 [==============================] - 2s 2ms/step - loss: 0.0622 - accuracy: 0.9811 - val_loss: 0.2452 - val_accuracy: 0.9527\n",
      "Epoch 28/30\n",
      "840/840 [==============================] - 2s 2ms/step - loss: 0.0632 - accuracy: 0.9808 - val_loss: 0.2783 - val_accuracy: 0.9487\n",
      "Epoch 29/30\n",
      "840/840 [==============================] - 2s 2ms/step - loss: 0.0614 - accuracy: 0.9814 - val_loss: 0.2476 - val_accuracy: 0.9518\n",
      "Epoch 30/30\n",
      "840/840 [==============================] - 2s 2ms/step - loss: 0.0600 - accuracy: 0.9818 - val_loss: 0.2487 - val_accuracy: 0.9531\n",
      "Training took 62.47s\n"
     ]
    }
   ],
   "source": [
    "start=time.time()\n",
    "modelfit4 = model4.fit(X_train, y_train, epochs=30, validation_split=0.2)\n",
    "end=time.time()\n",
    "print(\"Training took {:.2f}s\".format(end - start))"
   ]
  },
  {
   "cell_type": "code",
   "execution_count": 52,
   "metadata": {},
   "outputs": [
    {
     "data": {
      "text/plain": [
       "dict_keys(['loss', 'accuracy', 'val_loss', 'val_accuracy'])"
      ]
     },
     "execution_count": 52,
     "metadata": {},
     "output_type": "execute_result"
    }
   ],
   "source": [
    "modelfit4.history.keys()"
   ]
  },
  {
   "cell_type": "code",
   "execution_count": 53,
   "metadata": {},
   "outputs": [
    {
     "data": {
      "image/png": "[encoded data removed]",
      "text/plain": [
       "<Figure size 576x360 with 1 Axes>"
      ]
     },
     "metadata": {
      "needs_background": "light"
     },
     "output_type": "display_data"
    }
   ],
   "source": [
    "# Learning curves: the mean training loss and accuracy measured over each epoch, and the mean validation loss and \n",
    "# accuracy measured at the end of each epoch\n",
    "pd.DataFrame(modelfit4.history).plot(figsize=(8, 5))\n",
    "plt.grid(True)\n",
    "plt.gca().set_ylim(0, 1)\n",
    "plt.show()"
   ]
  },
  {
   "cell_type": "code",
   "execution_count": 54,
   "metadata": {},
   "outputs": [
    {
     "name": "stdout",
     "output_type": "stream",
     "text": [
      "WARNING:tensorflow:Model was constructed with shape (None, 28, 28) for input Tensor(\"flatten_3_input:0\", shape=(None, 28, 28), dtype=float32), but it was called on an input with incompatible shape (None, 784).\n",
      "263/263 [==============================] - 1s 2ms/step - loss: 0.2634 - accuracy: 0.9488\n"
     ]
    },
    {
     "data": {
      "text/plain": [
       "[0.26343733072280884, 0.9488095045089722]"
      ]
     },
     "execution_count": 54,
     "metadata": {},
     "output_type": "execute_result"
    }
   ],
   "source": [
    "model4.evaluate(X_test, y_test)"
   ]
  },
  {
   "cell_type": "code",
   "execution_count": 55,
   "metadata": {},
   "outputs": [
    {
     "name": "stdout",
     "output_type": "stream",
     "text": [
      "WARNING:tensorflow:Model was constructed with shape (None, 28, 28) for input Tensor(\"flatten_3_input:0\", shape=(None, 28, 28), dtype=float32), but it was called on an input with incompatible shape (32, 784).\n"
     ]
    }
   ],
   "source": [
    "y_proba4 = model4.predict_classes(test_X)\n",
    "write_preds(y_proba4, \"mlp4.csv\")"
   ]
  },
  {
   "cell_type": "code",
   "execution_count": 56,
   "metadata": {},
   "outputs": [
    {
     "name": "stdout",
     "output_type": "stream",
     "text": [
      "WARNING:tensorflow:Model was constructed with shape (None, 28, 28) for input Tensor(\"flatten_3_input:0\", shape=(None, 28, 28), dtype=float32), but it was called on an input with incompatible shape (None, 784).\n"
     ]
    },
    {
     "data": {
      "image/png": "[encoded data removed]",
      "text/plain": [
       "<Figure size 720x432 with 2 Axes>"
      ]
     },
     "metadata": {
      "needs_background": "light"
     },
     "output_type": "display_data"
    }
   ],
   "source": [
    "y_pred4 = model4.predict(X_test)\n",
    "y_pred4_classes = np.argmax(y_pred4, axis=1)\n",
    "\n",
    "conf4 = confusion_matrix(y_true,y_pred4_classes)\n",
    "plot_confusion_matrix(conf4,classes = range(10))"
   ]
  },
  {
   "cell_type": "markdown",
   "metadata": {},
   "source": [
    "### KaggleID: JThomas2020 Score: 0.94942"
   ]
  },
  {
   "cell_type": "markdown",
   "metadata": {},
   "source": [
    "Model4 performed similar to model2 which indicates that 20 nodes will most likely perform better than 10 with added layers. The additional layer allows the model to fit closer to the data without overfitting. more nodes will overfit, more layers with generalize more precise predictions."
   ]
  },
  {
   "cell_type": "markdown",
   "metadata": {},
   "source": [
    " ## Model 5"
   ]
  },
  {
   "cell_type": "code",
   "execution_count": 57,
   "metadata": {},
   "outputs": [],
   "source": [
    "model5 = keras.models.Sequential([\n",
    "    keras.layers.Flatten(input_shape=[28, 28]),\n",
    "    keras.layers.Dense(128, activation ='relu'),\n",
    "    keras.layers.Dropout(0.15),\n",
    "    keras.layers.Dense(128, activation ='relu'),\n",
    "    keras.layers.Dropout(0.15),\n",
    "    keras.layers.Dense(10, activation=\"softmax\")\n",
    "])\n",
    "\n",
    "model5.compile(loss='categorical_crossentropy', optimizer='RMSprop', metrics = ['accuracy'])"
   ]
  },
  {
   "cell_type": "code",
   "execution_count": 58,
   "metadata": {},
   "outputs": [
    {
     "name": "stdout",
     "output_type": "stream",
     "text": [
      "Model: \"sequential_4\"\n",
      "_________________________________________________________________\n",
      "Layer (type)                 Output Shape              Param #   \n",
      "=================================================================\n",
      "flatten_4 (Flatten)          (None, 784)               0         \n",
      "_________________________________________________________________\n",
      "dense_14 (Dense)             (None, 128)               100480    \n",
      "_________________________________________________________________\n",
      "dropout (Dropout)            (None, 128)               0         \n",
      "_________________________________________________________________\n",
      "dense_15 (Dense)             (None, 128)               16512     \n",
      "_________________________________________________________________\n",
      "dropout_1 (Dropout)          (None, 128)               0         \n",
      "_________________________________________________________________\n",
      "dense_16 (Dense)             (None, 10)                1290      \n",
      "=================================================================\n",
      "Total params: 118,282\n",
      "Trainable params: 118,282\n",
      "Non-trainable params: 0\n",
      "_________________________________________________________________\n"
     ]
    }
   ],
   "source": [
    "model5.summary()"
   ]
  },
  {
   "cell_type": "code",
   "execution_count": 59,
   "metadata": {},
   "outputs": [
    {
     "name": "stdout",
     "output_type": "stream",
     "text": [
      "Epoch 1/30\n",
      "WARNING:tensorflow:Model was constructed with shape (None, 28, 28) for input Tensor(\"flatten_4_input:0\", shape=(None, 28, 28), dtype=float32), but it was called on an input with incompatible shape (32, 784).\n",
      "WARNING:tensorflow:Model was constructed with shape (None, 28, 28) for input Tensor(\"flatten_4_input:0\", shape=(None, 28, 28), dtype=float32), but it was called on an input with incompatible shape (32, 784).\n",
      "839/840 [============================>.] - ETA: 0s - loss: 0.3814 - accuracy: 0.8844WARNING:tensorflow:Model was constructed with shape (None, 28, 28) for input Tensor(\"flatten_4_input:0\", shape=(None, 28, 28), dtype=float32), but it was called on an input with incompatible shape (32, 784).\n",
      "840/840 [==============================] - 2s 3ms/step - loss: 0.3815 - accuracy: 0.8844 - val_loss: 0.2049 - val_accuracy: 0.9400\n",
      "Epoch 2/30\n",
      "840/840 [==============================] - 2s 2ms/step - loss: 0.1819 - accuracy: 0.9457 - val_loss: 0.1602 - val_accuracy: 0.9552\n",
      "Epoch 3/30\n",
      "840/840 [==============================] - 2s 2ms/step - loss: 0.1381 - accuracy: 0.9586 - val_loss: 0.1398 - val_accuracy: 0.9613\n",
      "Epoch 4/30\n",
      "840/840 [==============================] - 2s 2ms/step - loss: 0.1155 - accuracy: 0.9647 - val_loss: 0.1429 - val_accuracy: 0.9643\n",
      "Epoch 5/30\n",
      "840/840 [==============================] - 2s 2ms/step - loss: 0.1022 - accuracy: 0.9705 - val_loss: 0.1413 - val_accuracy: 0.9695\n",
      "Epoch 6/30\n",
      "840/840 [==============================] - 2s 2ms/step - loss: 0.0890 - accuracy: 0.9742 - val_loss: 0.1406 - val_accuracy: 0.9696\n",
      "Epoch 7/30\n",
      "840/840 [==============================] - 2s 2ms/step - loss: 0.0801 - accuracy: 0.9769 - val_loss: 0.1460 - val_accuracy: 0.9699\n",
      "Epoch 8/30\n",
      "840/840 [==============================] - 2s 2ms/step - loss: 0.0738 - accuracy: 0.9786 - val_loss: 0.1443 - val_accuracy: 0.9729\n",
      "Epoch 9/30\n",
      "840/840 [==============================] - 2s 2ms/step - loss: 0.0696 - accuracy: 0.9794 - val_loss: 0.1523 - val_accuracy: 0.9702\n",
      "Epoch 10/30\n",
      "840/840 [==============================] - 2s 3ms/step - loss: 0.0622 - accuracy: 0.9814 - val_loss: 0.1495 - val_accuracy: 0.9731\n",
      "Epoch 11/30\n",
      "840/840 [==============================] - 2s 3ms/step - loss: 0.0557 - accuracy: 0.9837 - val_loss: 0.1651 - val_accuracy: 0.9725\n",
      "Epoch 12/30\n",
      "840/840 [==============================] - 2s 2ms/step - loss: 0.0581 - accuracy: 0.9843 - val_loss: 0.1635 - val_accuracy: 0.9735\n",
      "Epoch 13/30\n",
      "840/840 [==============================] - 2s 2ms/step - loss: 0.0527 - accuracy: 0.9839 - val_loss: 0.1809 - val_accuracy: 0.9714\n",
      "Epoch 14/30\n",
      "840/840 [==============================] - 2s 2ms/step - loss: 0.0503 - accuracy: 0.9850 - val_loss: 0.1673 - val_accuracy: 0.9738\n",
      "Epoch 15/30\n",
      "840/840 [==============================] - 2s 2ms/step - loss: 0.0460 - accuracy: 0.9861 - val_loss: 0.1811 - val_accuracy: 0.9738\n",
      "Epoch 16/30\n",
      "840/840 [==============================] - 2s 2ms/step - loss: 0.0449 - accuracy: 0.9879 - val_loss: 0.1783 - val_accuracy: 0.9732\n",
      "Epoch 17/30\n",
      "840/840 [==============================] - 2s 2ms/step - loss: 0.0442 - accuracy: 0.9875 - val_loss: 0.1992 - val_accuracy: 0.9723\n",
      "Epoch 18/30\n",
      "840/840 [==============================] - 2s 3ms/step - loss: 0.0443 - accuracy: 0.9885 - val_loss: 0.2012 - val_accuracy: 0.9734\n",
      "Epoch 19/30\n",
      "840/840 [==============================] - 2s 2ms/step - loss: 0.0411 - accuracy: 0.9891 - val_loss: 0.2049 - val_accuracy: 0.9735\n",
      "Epoch 20/30\n",
      "840/840 [==============================] - 2s 2ms/step - loss: 0.0405 - accuracy: 0.9892 - val_loss: 0.2076 - val_accuracy: 0.9744\n",
      "Epoch 21/30\n",
      "840/840 [==============================] - 2s 2ms/step - loss: 0.0401 - accuracy: 0.9894 - val_loss: 0.2094 - val_accuracy: 0.9722\n",
      "Epoch 22/30\n",
      "840/840 [==============================] - 2s 2ms/step - loss: 0.0359 - accuracy: 0.9898 - val_loss: 0.2156 - val_accuracy: 0.9754\n",
      "Epoch 23/30\n",
      "840/840 [==============================] - 2s 2ms/step - loss: 0.0379 - accuracy: 0.9897 - val_loss: 0.2345 - val_accuracy: 0.9744\n",
      "Epoch 24/30\n",
      "840/840 [==============================] - 2s 2ms/step - loss: 0.0405 - accuracy: 0.9907 - val_loss: 0.2269 - val_accuracy: 0.9746\n",
      "Epoch 25/30\n",
      "840/840 [==============================] - 2s 2ms/step - loss: 0.0314 - accuracy: 0.9907 - val_loss: 0.2631 - val_accuracy: 0.9702\n",
      "Epoch 26/30\n",
      "840/840 [==============================] - 2s 3ms/step - loss: 0.0367 - accuracy: 0.9908 - val_loss: 0.2242 - val_accuracy: 0.9756\n",
      "Epoch 27/30\n",
      "840/840 [==============================] - 2s 3ms/step - loss: 0.0338 - accuracy: 0.9910 - val_loss: 0.2573 - val_accuracy: 0.9725\n",
      "Epoch 28/30\n",
      "840/840 [==============================] - 2s 2ms/step - loss: 0.0299 - accuracy: 0.9920 - val_loss: 0.2521 - val_accuracy: 0.9747\n",
      "Epoch 29/30\n",
      "840/840 [==============================] - 2s 2ms/step - loss: 0.0303 - accuracy: 0.9919 - val_loss: 0.2694 - val_accuracy: 0.9741\n",
      "Epoch 30/30\n",
      "840/840 [==============================] - 2s 2ms/step - loss: 0.0302 - accuracy: 0.9920 - val_loss: 0.2777 - val_accuracy: 0.9723\n",
      "Training took 64.12s\n"
     ]
    }
   ],
   "source": [
    "start=time.time()\n",
    "modelfit5 = model5.fit(X_train, y_train, epochs=30, validation_split=0.2)\n",
    "end=time.time()\n",
    "print(\"Training took {:.2f}s\".format(end - start))"
   ]
  },
  {
   "cell_type": "code",
   "execution_count": 60,
   "metadata": {},
   "outputs": [
    {
     "data": {
      "text/plain": [
       "dict_keys(['loss', 'accuracy', 'val_loss', 'val_accuracy'])"
      ]
     },
     "execution_count": 60,
     "metadata": {},
     "output_type": "execute_result"
    }
   ],
   "source": [
    "modelfit5.history.keys()"
   ]
  },
  {
   "cell_type": "code",
   "execution_count": 61,
   "metadata": {},
   "outputs": [
    {
     "data": {
      "image/png": "[encoded data removed]",
      "text/plain": [
       "<Figure size 576x360 with 1 Axes>"
      ]
     },
     "metadata": {
      "needs_background": "light"
     },
     "output_type": "display_data"
    }
   ],
   "source": [
    "# Learning curves: the mean training loss and accuracy measured over each epoch, and the mean validation loss and \n",
    "# accuracy measured at the end of each epoch\n",
    "pd.DataFrame(modelfit5.history).plot(figsize=(8, 5))\n",
    "plt.grid(True)\n",
    "plt.gca().set_ylim(0, 1)\n",
    "plt.show()"
   ]
  },
  {
   "cell_type": "code",
   "execution_count": 62,
   "metadata": {},
   "outputs": [
    {
     "name": "stdout",
     "output_type": "stream",
     "text": [
      "WARNING:tensorflow:Model was constructed with shape (None, 28, 28) for input Tensor(\"flatten_4_input:0\", shape=(None, 28, 28), dtype=float32), but it was called on an input with incompatible shape (None, 784).\n",
      "263/263 [==============================] - 1s 2ms/step - loss: 0.2255 - accuracy: 0.9710\n"
     ]
    },
    {
     "data": {
      "text/plain": [
       "[0.22547945380210876, 0.9709523916244507]"
      ]
     },
     "execution_count": 62,
     "metadata": {},
     "output_type": "execute_result"
    }
   ],
   "source": [
    "model5.evaluate(X_test, y_test)"
   ]
  },
  {
   "cell_type": "code",
   "execution_count": 63,
   "metadata": {},
   "outputs": [
    {
     "name": "stdout",
     "output_type": "stream",
     "text": [
      "WARNING:tensorflow:Model was constructed with shape (None, 28, 28) for input Tensor(\"flatten_4_input:0\", shape=(None, 28, 28), dtype=float32), but it was called on an input with incompatible shape (32, 784).\n"
     ]
    }
   ],
   "source": [
    "y_proba5 = model5.predict_classes(test_X)\n",
    "write_preds(y_proba5, \"mlp5.csv\")"
   ]
  },
  {
   "cell_type": "code",
   "execution_count": 64,
   "metadata": {},
   "outputs": [
    {
     "name": "stdout",
     "output_type": "stream",
     "text": [
      "WARNING:tensorflow:Model was constructed with shape (None, 28, 28) for input Tensor(\"flatten_4_input:0\", shape=(None, 28, 28), dtype=float32), but it was called on an input with incompatible shape (None, 784).\n"
     ]
    },
    {
     "data": {
      "image/png": "[encoded data removed]",
      "text/plain": [
       "<Figure size 720x432 with 2 Axes>"
      ]
     },
     "metadata": {
      "needs_background": "light"
     },
     "output_type": "display_data"
    }
   ],
   "source": [
    "y_pred5 = model5.predict(X_test)\n",
    "y_pred5_classes = np.argmax(y_pred5, axis=1)\n",
    "\n",
    "conf5=confusion_matrix(y_true,y_pred5_classes)\n",
    "plot_confusion_matrix(conf5, classes = range(10))"
   ]
  },
  {
   "cell_type": "markdown",
   "metadata": {},
   "source": [
    "### KaggleID: JThomas2020 Score: 0.97046"
   ]
  },
  {
   "cell_type": "markdown",
   "metadata": {},
   "source": [
    "Model5 was an additional set to determine if fitting to a model indluding dropout would help predictions.  The model performed very well against the training set.  The model intialized with a high score and slightly increased with each epoch. However, the score against unseen data decrease over 2%. This means that the model is slightly overtrained. Although the model does perform well. It may lose more accuracy against more unknown data. "
   ]
  }
 ],
 "metadata": {
  "kernelspec": {
   "display_name": "Python 3",
   "language": "python",
   "name": "python3"
  },
  "language_info": {
   "codemirror_mode": {
    "name": "ipython",
    "version": 3
   },
   "file_extension": ".py",
   "mimetype": "text/x-python",
   "name": "python",
   "nbconvert_exporter": "python",
   "pygments_lexer": "ipython3",
   "version": "3.8.3"
  }
 },
 "nbformat": 4,
 "nbformat_minor": 4
}
