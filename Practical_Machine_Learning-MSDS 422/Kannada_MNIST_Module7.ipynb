{
 "cells": [
  {
   "cell_type": "code",
   "execution_count": 1,
   "metadata": {},
   "outputs": [
    {
     "name": "stderr",
     "output_type": "stream",
     "text": [
      "C:\\Users\\james\\anaconda3\\lib\\site-packages\\numpy\\_distributor_init.py:30: UserWarning: loaded more than 1 DLL from .libs:\n",
      "C:\\Users\\james\\anaconda3\\lib\\site-packages\\numpy\\.libs\\libopenblas.PYQHXLVVQ7VESDPUVUADXEVJOBGHJPAY.gfortran-win_amd64.dll\n",
      "C:\\Users\\james\\anaconda3\\lib\\site-packages\\numpy\\.libs\\libopenblas.WCDJNK7YVMPZQ2ME2ZZHJJRJ3JIKNDB7.gfortran-win_amd64.dll\n",
      "  warnings.warn(\"loaded more than 1 DLL from .libs:\"\n"
     ]
    }
   ],
   "source": [
    "# import packages\n",
    "import itertools\n",
    "import matplotlib.pyplot as plt \n",
    "import numpy as np\n",
    "import pandas as pd\n",
    "import seaborn as sns\n",
    "import time\n",
    "\n",
    "from keras import metrics\n",
    "from keras.models import Sequential\n",
    "\n",
    "from keras.layers.core import Dense\n",
    "from keras.layers.core import Activation\n",
    "from keras.layers.core import Dropout\n",
    "\n",
    "from keras.optimizers import Adam\n",
    "from keras.optimizers import RMSprop\n",
    "\n",
    "from keras.utils import np_utils\n",
    "\n",
    "from sklearn.metrics import accuracy_score\n",
    "from sklearn.metrics import classification_report\n",
    "from sklearn.metrics import confusion_matrix\n",
    "from sklearn.metrics import multilabel_confusion_matrix\n",
    "\n",
    "from sklearn.model_selection import train_test_split\n",
    "\n",
    "from sklearn.preprocessing import StandardScaler\n",
    "\n",
    "from tensorflow import keras"
   ]
  },
  {
   "cell_type": "code",
   "execution_count": 2,
   "metadata": {},
   "outputs": [],
   "source": [
    "train = pd.read_csv(\"train.csv\")\n",
    "test = pd.read_csv(\"test.csv\")\n",
    "sample = pd.read_csv(\"sample_submission.csv\")\n",
    "all_data = pd.concat([train, test])"
   ]
  },
  {
   "cell_type": "markdown",
   "metadata": {},
   "source": [
    "# EDA"
   ]
  },
  {
   "cell_type": "code",
   "execution_count": 3,
   "metadata": {},
   "outputs": [
    {
     "data": {
      "text/plain": [
       "Index(['label', 'pixel0', 'pixel1', 'pixel2', 'pixel3', 'pixel4', 'pixel5',\n",
       "       'pixel6', 'pixel7', 'pixel8',\n",
       "       ...\n",
       "       'pixel774', 'pixel775', 'pixel776', 'pixel777', 'pixel778', 'pixel779',\n",
       "       'pixel780', 'pixel781', 'pixel782', 'pixel783'],\n",
       "      dtype='object', length=785)"
      ]
     },
     "execution_count": 3,
     "metadata": {},
     "output_type": "execute_result"
    }
   ],
   "source": [
    "train.describe().columns"
   ]
  },
  {
   "cell_type": "code",
   "execution_count": 4,
   "metadata": {},
   "outputs": [
    {
     "data": {
      "text/html": [
       "<div>\n",
       "<style scoped>\n",
       "    .dataframe tbody tr th:only-of-type {\n",
       "        vertical-align: middle;\n",
       "    }\n",
       "\n",
       "    .dataframe tbody tr th {\n",
       "        vertical-align: top;\n",
       "    }\n",
       "\n",
       "    .dataframe thead th {\n",
       "        text-align: right;\n",
       "    }\n",
       "</style>\n",
       "<table border=\"1\" class=\"dataframe\">\n",
       "  <thead>\n",
       "    <tr style=\"text-align: right;\">\n",
       "      <th></th>\n",
       "      <th>label</th>\n",
       "      <th>pixel0</th>\n",
       "      <th>pixel1</th>\n",
       "      <th>pixel2</th>\n",
       "      <th>pixel3</th>\n",
       "      <th>pixel4</th>\n",
       "      <th>pixel5</th>\n",
       "      <th>pixel6</th>\n",
       "      <th>pixel7</th>\n",
       "      <th>pixel8</th>\n",
       "      <th>...</th>\n",
       "      <th>pixel774</th>\n",
       "      <th>pixel775</th>\n",
       "      <th>pixel776</th>\n",
       "      <th>pixel777</th>\n",
       "      <th>pixel778</th>\n",
       "      <th>pixel779</th>\n",
       "      <th>pixel780</th>\n",
       "      <th>pixel781</th>\n",
       "      <th>pixel782</th>\n",
       "      <th>pixel783</th>\n",
       "    </tr>\n",
       "  </thead>\n",
       "  <tbody>\n",
       "    <tr>\n",
       "      <th>0</th>\n",
       "      <td>0</td>\n",
       "      <td>0</td>\n",
       "      <td>0</td>\n",
       "      <td>0</td>\n",
       "      <td>0</td>\n",
       "      <td>0</td>\n",
       "      <td>0</td>\n",
       "      <td>0</td>\n",
       "      <td>0</td>\n",
       "      <td>0</td>\n",
       "      <td>...</td>\n",
       "      <td>0</td>\n",
       "      <td>0</td>\n",
       "      <td>0</td>\n",
       "      <td>0</td>\n",
       "      <td>0</td>\n",
       "      <td>0</td>\n",
       "      <td>0</td>\n",
       "      <td>0</td>\n",
       "      <td>0</td>\n",
       "      <td>0</td>\n",
       "    </tr>\n",
       "    <tr>\n",
       "      <th>1</th>\n",
       "      <td>1</td>\n",
       "      <td>0</td>\n",
       "      <td>0</td>\n",
       "      <td>0</td>\n",
       "      <td>0</td>\n",
       "      <td>0</td>\n",
       "      <td>0</td>\n",
       "      <td>0</td>\n",
       "      <td>0</td>\n",
       "      <td>0</td>\n",
       "      <td>...</td>\n",
       "      <td>0</td>\n",
       "      <td>0</td>\n",
       "      <td>0</td>\n",
       "      <td>0</td>\n",
       "      <td>0</td>\n",
       "      <td>0</td>\n",
       "      <td>0</td>\n",
       "      <td>0</td>\n",
       "      <td>0</td>\n",
       "      <td>0</td>\n",
       "    </tr>\n",
       "    <tr>\n",
       "      <th>2</th>\n",
       "      <td>2</td>\n",
       "      <td>0</td>\n",
       "      <td>0</td>\n",
       "      <td>0</td>\n",
       "      <td>0</td>\n",
       "      <td>0</td>\n",
       "      <td>0</td>\n",
       "      <td>0</td>\n",
       "      <td>0</td>\n",
       "      <td>0</td>\n",
       "      <td>...</td>\n",
       "      <td>0</td>\n",
       "      <td>0</td>\n",
       "      <td>0</td>\n",
       "      <td>0</td>\n",
       "      <td>0</td>\n",
       "      <td>0</td>\n",
       "      <td>0</td>\n",
       "      <td>0</td>\n",
       "      <td>0</td>\n",
       "      <td>0</td>\n",
       "    </tr>\n",
       "    <tr>\n",
       "      <th>3</th>\n",
       "      <td>3</td>\n",
       "      <td>0</td>\n",
       "      <td>0</td>\n",
       "      <td>0</td>\n",
       "      <td>0</td>\n",
       "      <td>0</td>\n",
       "      <td>0</td>\n",
       "      <td>0</td>\n",
       "      <td>0</td>\n",
       "      <td>0</td>\n",
       "      <td>...</td>\n",
       "      <td>0</td>\n",
       "      <td>0</td>\n",
       "      <td>0</td>\n",
       "      <td>0</td>\n",
       "      <td>0</td>\n",
       "      <td>0</td>\n",
       "      <td>0</td>\n",
       "      <td>0</td>\n",
       "      <td>0</td>\n",
       "      <td>0</td>\n",
       "    </tr>\n",
       "    <tr>\n",
       "      <th>4</th>\n",
       "      <td>4</td>\n",
       "      <td>0</td>\n",
       "      <td>0</td>\n",
       "      <td>0</td>\n",
       "      <td>0</td>\n",
       "      <td>0</td>\n",
       "      <td>0</td>\n",
       "      <td>0</td>\n",
       "      <td>0</td>\n",
       "      <td>0</td>\n",
       "      <td>...</td>\n",
       "      <td>0</td>\n",
       "      <td>0</td>\n",
       "      <td>0</td>\n",
       "      <td>0</td>\n",
       "      <td>0</td>\n",
       "      <td>0</td>\n",
       "      <td>0</td>\n",
       "      <td>0</td>\n",
       "      <td>0</td>\n",
       "      <td>0</td>\n",
       "    </tr>\n",
       "  </tbody>\n",
       "</table>\n",
       "<p>5 rows × 785 columns</p>\n",
       "</div>"
      ],
      "text/plain": [
       "   label  pixel0  pixel1  pixel2  pixel3  pixel4  pixel5  pixel6  pixel7  \\\n",
       "0      0       0       0       0       0       0       0       0       0   \n",
       "1      1       0       0       0       0       0       0       0       0   \n",
       "2      2       0       0       0       0       0       0       0       0   \n",
       "3      3       0       0       0       0       0       0       0       0   \n",
       "4      4       0       0       0       0       0       0       0       0   \n",
       "\n",
       "   pixel8  ...  pixel774  pixel775  pixel776  pixel777  pixel778  pixel779  \\\n",
       "0       0  ...         0         0         0         0         0         0   \n",
       "1       0  ...         0         0         0         0         0         0   \n",
       "2       0  ...         0         0         0         0         0         0   \n",
       "3       0  ...         0         0         0         0         0         0   \n",
       "4       0  ...         0         0         0         0         0         0   \n",
       "\n",
       "   pixel780  pixel781  pixel782  pixel783  \n",
       "0         0         0         0         0  \n",
       "1         0         0         0         0  \n",
       "2         0         0         0         0  \n",
       "3         0         0         0         0  \n",
       "4         0         0         0         0  \n",
       "\n",
       "[5 rows x 785 columns]"
      ]
     },
     "execution_count": 4,
     "metadata": {},
     "output_type": "execute_result"
    }
   ],
   "source": [
    "train.head()"
   ]
  },
  {
   "cell_type": "code",
   "execution_count": 5,
   "metadata": {},
   "outputs": [
    {
     "data": {
      "text/html": [
       "<div>\n",
       "<style scoped>\n",
       "    .dataframe tbody tr th:only-of-type {\n",
       "        vertical-align: middle;\n",
       "    }\n",
       "\n",
       "    .dataframe tbody tr th {\n",
       "        vertical-align: top;\n",
       "    }\n",
       "\n",
       "    .dataframe thead th {\n",
       "        text-align: right;\n",
       "    }\n",
       "</style>\n",
       "<table border=\"1\" class=\"dataframe\">\n",
       "  <thead>\n",
       "    <tr style=\"text-align: right;\">\n",
       "      <th></th>\n",
       "      <th>label</th>\n",
       "      <th>pixel0</th>\n",
       "      <th>pixel1</th>\n",
       "      <th>pixel2</th>\n",
       "      <th>pixel3</th>\n",
       "      <th>pixel4</th>\n",
       "      <th>pixel5</th>\n",
       "      <th>pixel6</th>\n",
       "      <th>pixel7</th>\n",
       "      <th>pixel8</th>\n",
       "      <th>...</th>\n",
       "      <th>pixel774</th>\n",
       "      <th>pixel775</th>\n",
       "      <th>pixel776</th>\n",
       "      <th>pixel777</th>\n",
       "      <th>pixel778</th>\n",
       "      <th>pixel779</th>\n",
       "      <th>pixel780</th>\n",
       "      <th>pixel781</th>\n",
       "      <th>pixel782</th>\n",
       "      <th>pixel783</th>\n",
       "    </tr>\n",
       "  </thead>\n",
       "  <tbody>\n",
       "    <tr>\n",
       "      <th>count</th>\n",
       "      <td>60000.000000</td>\n",
       "      <td>60000.0</td>\n",
       "      <td>60000.0</td>\n",
       "      <td>60000.0</td>\n",
       "      <td>60000.0</td>\n",
       "      <td>60000.0</td>\n",
       "      <td>60000.000000</td>\n",
       "      <td>60000.000000</td>\n",
       "      <td>60000.000000</td>\n",
       "      <td>60000.000000</td>\n",
       "      <td>...</td>\n",
       "      <td>60000.000000</td>\n",
       "      <td>60000.000000</td>\n",
       "      <td>60000.000000</td>\n",
       "      <td>60000.000000</td>\n",
       "      <td>60000.000000</td>\n",
       "      <td>60000.000000</td>\n",
       "      <td>60000.000000</td>\n",
       "      <td>60000.0</td>\n",
       "      <td>60000.000000</td>\n",
       "      <td>60000.0</td>\n",
       "    </tr>\n",
       "    <tr>\n",
       "      <th>mean</th>\n",
       "      <td>4.500000</td>\n",
       "      <td>0.0</td>\n",
       "      <td>0.0</td>\n",
       "      <td>0.0</td>\n",
       "      <td>0.0</td>\n",
       "      <td>0.0</td>\n",
       "      <td>0.008817</td>\n",
       "      <td>0.029467</td>\n",
       "      <td>0.037767</td>\n",
       "      <td>0.075933</td>\n",
       "      <td>...</td>\n",
       "      <td>0.015583</td>\n",
       "      <td>0.016450</td>\n",
       "      <td>0.013417</td>\n",
       "      <td>0.022300</td>\n",
       "      <td>0.012217</td>\n",
       "      <td>0.001383</td>\n",
       "      <td>0.003783</td>\n",
       "      <td>0.0</td>\n",
       "      <td>0.002717</td>\n",
       "      <td>0.0</td>\n",
       "    </tr>\n",
       "    <tr>\n",
       "      <th>std</th>\n",
       "      <td>2.872305</td>\n",
       "      <td>0.0</td>\n",
       "      <td>0.0</td>\n",
       "      <td>0.0</td>\n",
       "      <td>0.0</td>\n",
       "      <td>0.0</td>\n",
       "      <td>1.474271</td>\n",
       "      <td>2.700491</td>\n",
       "      <td>2.726371</td>\n",
       "      <td>3.993023</td>\n",
       "      <td>...</td>\n",
       "      <td>1.443852</td>\n",
       "      <td>1.958914</td>\n",
       "      <td>1.342572</td>\n",
       "      <td>2.051846</td>\n",
       "      <td>1.730959</td>\n",
       "      <td>0.338846</td>\n",
       "      <td>0.926724</td>\n",
       "      <td>0.0</td>\n",
       "      <td>0.665445</td>\n",
       "      <td>0.0</td>\n",
       "    </tr>\n",
       "    <tr>\n",
       "      <th>min</th>\n",
       "      <td>0.000000</td>\n",
       "      <td>0.0</td>\n",
       "      <td>0.0</td>\n",
       "      <td>0.0</td>\n",
       "      <td>0.0</td>\n",
       "      <td>0.0</td>\n",
       "      <td>0.000000</td>\n",
       "      <td>0.000000</td>\n",
       "      <td>0.000000</td>\n",
       "      <td>0.000000</td>\n",
       "      <td>...</td>\n",
       "      <td>0.000000</td>\n",
       "      <td>0.000000</td>\n",
       "      <td>0.000000</td>\n",
       "      <td>0.000000</td>\n",
       "      <td>0.000000</td>\n",
       "      <td>0.000000</td>\n",
       "      <td>0.000000</td>\n",
       "      <td>0.0</td>\n",
       "      <td>0.000000</td>\n",
       "      <td>0.0</td>\n",
       "    </tr>\n",
       "    <tr>\n",
       "      <th>25%</th>\n",
       "      <td>2.000000</td>\n",
       "      <td>0.0</td>\n",
       "      <td>0.0</td>\n",
       "      <td>0.0</td>\n",
       "      <td>0.0</td>\n",
       "      <td>0.0</td>\n",
       "      <td>0.000000</td>\n",
       "      <td>0.000000</td>\n",
       "      <td>0.000000</td>\n",
       "      <td>0.000000</td>\n",
       "      <td>...</td>\n",
       "      <td>0.000000</td>\n",
       "      <td>0.000000</td>\n",
       "      <td>0.000000</td>\n",
       "      <td>0.000000</td>\n",
       "      <td>0.000000</td>\n",
       "      <td>0.000000</td>\n",
       "      <td>0.000000</td>\n",
       "      <td>0.0</td>\n",
       "      <td>0.000000</td>\n",
       "      <td>0.0</td>\n",
       "    </tr>\n",
       "    <tr>\n",
       "      <th>50%</th>\n",
       "      <td>4.500000</td>\n",
       "      <td>0.0</td>\n",
       "      <td>0.0</td>\n",
       "      <td>0.0</td>\n",
       "      <td>0.0</td>\n",
       "      <td>0.0</td>\n",
       "      <td>0.000000</td>\n",
       "      <td>0.000000</td>\n",
       "      <td>0.000000</td>\n",
       "      <td>0.000000</td>\n",
       "      <td>...</td>\n",
       "      <td>0.000000</td>\n",
       "      <td>0.000000</td>\n",
       "      <td>0.000000</td>\n",
       "      <td>0.000000</td>\n",
       "      <td>0.000000</td>\n",
       "      <td>0.000000</td>\n",
       "      <td>0.000000</td>\n",
       "      <td>0.0</td>\n",
       "      <td>0.000000</td>\n",
       "      <td>0.0</td>\n",
       "    </tr>\n",
       "    <tr>\n",
       "      <th>75%</th>\n",
       "      <td>7.000000</td>\n",
       "      <td>0.0</td>\n",
       "      <td>0.0</td>\n",
       "      <td>0.0</td>\n",
       "      <td>0.0</td>\n",
       "      <td>0.0</td>\n",
       "      <td>0.000000</td>\n",
       "      <td>0.000000</td>\n",
       "      <td>0.000000</td>\n",
       "      <td>0.000000</td>\n",
       "      <td>...</td>\n",
       "      <td>0.000000</td>\n",
       "      <td>0.000000</td>\n",
       "      <td>0.000000</td>\n",
       "      <td>0.000000</td>\n",
       "      <td>0.000000</td>\n",
       "      <td>0.000000</td>\n",
       "      <td>0.000000</td>\n",
       "      <td>0.0</td>\n",
       "      <td>0.000000</td>\n",
       "      <td>0.0</td>\n",
       "    </tr>\n",
       "    <tr>\n",
       "      <th>max</th>\n",
       "      <td>9.000000</td>\n",
       "      <td>0.0</td>\n",
       "      <td>0.0</td>\n",
       "      <td>0.0</td>\n",
       "      <td>0.0</td>\n",
       "      <td>0.0</td>\n",
       "      <td>255.000000</td>\n",
       "      <td>255.000000</td>\n",
       "      <td>255.000000</td>\n",
       "      <td>255.000000</td>\n",
       "      <td>...</td>\n",
       "      <td>255.000000</td>\n",
       "      <td>255.000000</td>\n",
       "      <td>157.000000</td>\n",
       "      <td>255.000000</td>\n",
       "      <td>255.000000</td>\n",
       "      <td>83.000000</td>\n",
       "      <td>227.000000</td>\n",
       "      <td>0.0</td>\n",
       "      <td>163.000000</td>\n",
       "      <td>0.0</td>\n",
       "    </tr>\n",
       "  </tbody>\n",
       "</table>\n",
       "<p>8 rows × 785 columns</p>\n",
       "</div>"
      ],
      "text/plain": [
       "              label   pixel0   pixel1   pixel2   pixel3   pixel4  \\\n",
       "count  60000.000000  60000.0  60000.0  60000.0  60000.0  60000.0   \n",
       "mean       4.500000      0.0      0.0      0.0      0.0      0.0   \n",
       "std        2.872305      0.0      0.0      0.0      0.0      0.0   \n",
       "min        0.000000      0.0      0.0      0.0      0.0      0.0   \n",
       "25%        2.000000      0.0      0.0      0.0      0.0      0.0   \n",
       "50%        4.500000      0.0      0.0      0.0      0.0      0.0   \n",
       "75%        7.000000      0.0      0.0      0.0      0.0      0.0   \n",
       "max        9.000000      0.0      0.0      0.0      0.0      0.0   \n",
       "\n",
       "             pixel5        pixel6        pixel7        pixel8  ...  \\\n",
       "count  60000.000000  60000.000000  60000.000000  60000.000000  ...   \n",
       "mean       0.008817      0.029467      0.037767      0.075933  ...   \n",
       "std        1.474271      2.700491      2.726371      3.993023  ...   \n",
       "min        0.000000      0.000000      0.000000      0.000000  ...   \n",
       "25%        0.000000      0.000000      0.000000      0.000000  ...   \n",
       "50%        0.000000      0.000000      0.000000      0.000000  ...   \n",
       "75%        0.000000      0.000000      0.000000      0.000000  ...   \n",
       "max      255.000000    255.000000    255.000000    255.000000  ...   \n",
       "\n",
       "           pixel774      pixel775      pixel776      pixel777      pixel778  \\\n",
       "count  60000.000000  60000.000000  60000.000000  60000.000000  60000.000000   \n",
       "mean       0.015583      0.016450      0.013417      0.022300      0.012217   \n",
       "std        1.443852      1.958914      1.342572      2.051846      1.730959   \n",
       "min        0.000000      0.000000      0.000000      0.000000      0.000000   \n",
       "25%        0.000000      0.000000      0.000000      0.000000      0.000000   \n",
       "50%        0.000000      0.000000      0.000000      0.000000      0.000000   \n",
       "75%        0.000000      0.000000      0.000000      0.000000      0.000000   \n",
       "max      255.000000    255.000000    157.000000    255.000000    255.000000   \n",
       "\n",
       "           pixel779      pixel780  pixel781      pixel782  pixel783  \n",
       "count  60000.000000  60000.000000   60000.0  60000.000000   60000.0  \n",
       "mean       0.001383      0.003783       0.0      0.002717       0.0  \n",
       "std        0.338846      0.926724       0.0      0.665445       0.0  \n",
       "min        0.000000      0.000000       0.0      0.000000       0.0  \n",
       "25%        0.000000      0.000000       0.0      0.000000       0.0  \n",
       "50%        0.000000      0.000000       0.0      0.000000       0.0  \n",
       "75%        0.000000      0.000000       0.0      0.000000       0.0  \n",
       "max       83.000000    227.000000       0.0    163.000000       0.0  \n",
       "\n",
       "[8 rows x 785 columns]"
      ]
     },
     "execution_count": 5,
     "metadata": {},
     "output_type": "execute_result"
    }
   ],
   "source": [
    "train.describe()"
   ]
  },
  {
   "cell_type": "code",
   "execution_count": 6,
   "metadata": {},
   "outputs": [
    {
     "name": "stdout",
     "output_type": "stream",
     "text": [
      "<class 'pandas.core.frame.DataFrame'>\n",
      "RangeIndex: 60000 entries, 0 to 59999\n",
      "Columns: 785 entries, label to pixel783\n",
      "dtypes: int64(785)\n",
      "memory usage: 359.3 MB\n"
     ]
    }
   ],
   "source": [
    "train.info()"
   ]
  },
  {
   "cell_type": "code",
   "execution_count": 7,
   "metadata": {},
   "outputs": [
    {
     "data": {
      "text/plain": [
       "0    785\n",
       "dtype: int64"
      ]
     },
     "execution_count": 7,
     "metadata": {},
     "output_type": "execute_result"
    }
   ],
   "source": [
    "train.isnull().sum().value_counts()"
   ]
  },
  {
   "cell_type": "code",
   "execution_count": 8,
   "metadata": {},
   "outputs": [],
   "source": [
    "# separate dependent and independent variables\n",
    "X = train.drop('label', axis = 1).values\n",
    "y = train['label'].values\n",
    "test_X = test.drop('id', axis = 1).values\n",
    "\n",
    "all_data = np.concatenate((X,test_X))"
   ]
  },
  {
   "cell_type": "code",
   "execution_count": 9,
   "metadata": {},
   "outputs": [
    {
     "name": "stdout",
     "output_type": "stream",
     "text": [
      "False\n",
      "False\n",
      "False\n",
      "False\n"
     ]
    }
   ],
   "source": [
    "#check for inf or nan values in data\n",
    "print(np.isnan(X).any())\n",
    "print(np.isinf(X).any())\n",
    "print(np.isnan(y).any())\n",
    "print(np.isinf(y).any())"
   ]
  },
  {
   "cell_type": "code",
   "execution_count": 10,
   "metadata": {},
   "outputs": [
    {
     "data": {
      "image/png": "[encoded data removed]",
      "text/plain": [
       "<Figure size 1584x1440 with 25 Axes>"
      ]
     },
     "metadata": {
      "needs_background": "light"
     },
     "output_type": "display_data"
    }
   ],
   "source": [
    "# Show 25 digits of data\n",
    "fig, axis = plt.subplots(5, 5, figsize=(22, 20))\n",
    "\n",
    "for i, ax in enumerate(axis.flat):\n",
    "    ax.imshow(X[i].reshape(28, 28), cmap='binary')\n",
    "    ax.set(title = \"Real digit is {}\".format(y[i]))"
   ]
  },
  {
   "cell_type": "markdown",
   "metadata": {},
   "source": [
    "## Pre-processing"
   ]
  },
  {
   "cell_type": "code",
   "execution_count": 11,
   "metadata": {},
   "outputs": [],
   "source": [
    "X = X/255\n",
    "test_X = test_X /255"
   ]
  },
  {
   "cell_type": "code",
   "execution_count": 12,
   "metadata": {},
   "outputs": [],
   "source": [
    "num_classes = 10\n",
    "y = np_utils.to_categorical(y, num_classes)"
   ]
  },
  {
   "cell_type": "code",
   "execution_count": 13,
   "metadata": {},
   "outputs": [
    {
     "data": {
      "text/plain": [
       "784"
      ]
     },
     "execution_count": 13,
     "metadata": {},
     "output_type": "execute_result"
    }
   ],
   "source": [
    "input_dim = X.shape[1]\n",
    "input_dim"
   ]
  },
  {
   "cell_type": "code",
   "execution_count": 14,
   "metadata": {},
   "outputs": [],
   "source": [
    "X_train,X_test,y_train,y_test = train_test_split(X,y,test_size = 0.2,random_state=42)"
   ]
  },
  {
   "cell_type": "code",
   "execution_count": 15,
   "metadata": {},
   "outputs": [],
   "source": [
    "#Function to visualize model behaviors\n",
    "def draw_model(model):\n",
    "    plt.figure()\n",
    "    plt.subplot(2,1,1)\n",
    "    plt.plot(model.history['mae'])\n",
    "    plt.plot(model.history['acc'])\n",
    "    plt.title('model accuracy')\n",
    "    plt.ylabel('accuracy')\n",
    "    plt.xlabel('epoch')\n",
    "    plt.legend(['train', 'test'], loc='lower right')\n",
    "    plt.subplot(2,1,2)\n",
    "    plt.plot(model.history['loss'])\n",
    "    plt.plot(model.history['val_loss'])\n",
    "    plt.title('model loss')\n",
    "    plt.ylabel('loss')\n",
    "    plt.xlabel('epoch')\n",
    "    plt.legend(['train', 'test'], loc='upper right')\n",
    "\n",
    "    plt.tight_layout()\n",
    "    plt.show()    "
   ]
  },
  {
   "cell_type": "code",
   "execution_count": 16,
   "metadata": {},
   "outputs": [],
   "source": [
    "# funtion to write predictions\n",
    "def write_preds(preds, fname):\n",
    "    pd.DataFrame({\"id\": list(range(1,len(preds)+1)), \"label\":   preds}).to_csv(fname, index=False)"
   ]
  },
  {
   "cell_type": "code",
   "execution_count": 18,
   "metadata": {},
   "outputs": [],
   "source": [
    "#function prints and plots the confusion matrix.\n",
    "\n",
    "def plot_confusion_matrix(cm, classes,\n",
    "                          normalize=False,\n",
    "                          title='Confusion matrix',\n",
    "                          cmap=plt.cm.Blues):\n",
    "    plt.figure(figsize=(10,6))\n",
    "    plt.imshow(cm, interpolation='nearest', cmap=cmap)\n",
    "    plt.title(title)\n",
    "    plt.colorbar()\n",
    "    tick_marks = np.arange(len(classes))\n",
    "    plt.xticks(tick_marks, classes, rotation=45)\n",
    "    plt.yticks(tick_marks, classes)\n",
    "\n",
    "    if normalize:\n",
    "        cm = cm.astype('float') / cm.sum(axis=1)[:, np.newaxis]\n",
    "\n",
    "    thresh = cm.max() / 2.\n",
    "    for i, j in itertools.product(range(cm.shape[0]), range(cm.shape[1])):\n",
    "        plt.text(j, i, cm[i, j],\n",
    "                 horizontalalignment=\"center\",\n",
    "                 color=\"white\" if cm[i, j] > thresh else \"black\")\n",
    "\n",
    "    plt.tight_layout()\n",
    "    plt.ylabel('True label')\n",
    "    plt.xlabel('Predicted label')"
   ]
  },
  {
   "cell_type": "code",
   "execution_count": 19,
   "metadata": {},
   "outputs": [],
   "source": [
    "#reset keras values\n",
    "keras.backend.clear_session()"
   ]
  },
  {
   "cell_type": "markdown",
   "metadata": {},
   "source": [
    "## Model 1"
   ]
  },
  {
   "cell_type": "code",
   "execution_count": 20,
   "metadata": {},
   "outputs": [],
   "source": [
    "model1 = keras.models.Sequential([\n",
    "    keras.layers.Flatten(input_shape=[28, 28]),\n",
    "    keras.layers.Dense(10, activation=\"relu\"),\n",
    "    keras.layers.Dense(10, activation=\"softmax\")\n",
    "])\n",
    "\n",
    "# we'll use categorical xent for the loss, and RMSprop as the optimizer\n",
    "model1.compile(loss='categorical_crossentropy', optimizer='RMSprop', metrics = ['accuracy'])"
   ]
  },
  {
   "cell_type": "code",
   "execution_count": 21,
   "metadata": {},
   "outputs": [
    {
     "name": "stdout",
     "output_type": "stream",
     "text": [
      "Model: \"sequential\"\n",
      "_________________________________________________________________\n",
      "Layer (type)                 Output Shape              Param #   \n",
      "=================================================================\n",
      "flatten (Flatten)            (None, 784)               0         \n",
      "_________________________________________________________________\n",
      "dense (Dense)                (None, 10)                7850      \n",
      "_________________________________________________________________\n",
      "dense_1 (Dense)              (None, 10)                110       \n",
      "=================================================================\n",
      "Total params: 7,960\n",
      "Trainable params: 7,960\n",
      "Non-trainable params: 0\n",
      "_________________________________________________________________\n"
     ]
    }
   ],
   "source": [
    "model1.summary()"
   ]
  },
  {
   "cell_type": "code",
   "execution_count": 22,
   "metadata": {},
   "outputs": [
    {
     "data": {
      "text/plain": [
       "'dense'"
      ]
     },
     "execution_count": 22,
     "metadata": {},
     "output_type": "execute_result"
    }
   ],
   "source": [
    "hidden1 = model1.layers[1]\n",
    "hidden1.name"
   ]
  },
  {
   "cell_type": "code",
   "execution_count": 23,
   "metadata": {},
   "outputs": [],
   "source": [
    "# All the parameters of a layer can be accessed using its get_weights() and set_weights() methods. For a Dense layer,\n",
    "# this includes both the connection weights and the bias terms\n",
    "weights, biases = hidden1.get_weights()"
   ]
  },
  {
   "cell_type": "code",
   "execution_count": 24,
   "metadata": {},
   "outputs": [
    {
     "data": {
      "text/plain": [
       "(784, 10)"
      ]
     },
     "execution_count": 24,
     "metadata": {},
     "output_type": "execute_result"
    }
   ],
   "source": [
    "weights.shape"
   ]
  },
  {
   "cell_type": "code",
   "execution_count": 25,
   "metadata": {},
   "outputs": [
    {
     "name": "stdout",
     "output_type": "stream",
     "text": [
      "Epoch 1/30\n",
      "WARNING:tensorflow:Model was constructed with shape (None, 28, 28) for input Tensor(\"flatten_input:0\", shape=(None, 28, 28), dtype=float32), but it was called on an input with incompatible shape (32, 784).\n",
      "WARNING:tensorflow:Model was constructed with shape (None, 28, 28) for input Tensor(\"flatten_input:0\", shape=(None, 28, 28), dtype=float32), but it was called on an input with incompatible shape (32, 784).\n",
      "WARNING:tensorflow:Model was constructed with shape (None, 28, 28) for input Tensor(\"flatten_input:0\", shape=(None, 28, 28), dtype=float32), but it was called on an input with incompatible shape (32, 784).\n",
      "1200/1200 - 2s - loss: 0.4354 - accuracy: 0.8843 - val_loss: 0.1838 - val_accuracy: 0.9520\n",
      "Epoch 2/30\n",
      "1200/1200 - 2s - loss: 0.1501 - accuracy: 0.9583 - val_loss: 0.1518 - val_accuracy: 0.9592\n",
      "Epoch 3/30\n",
      "1200/1200 - 2s - loss: 0.1237 - accuracy: 0.9649 - val_loss: 0.1402 - val_accuracy: 0.9615\n",
      "Epoch 4/30\n",
      "1200/1200 - 2s - loss: 0.1112 - accuracy: 0.9680 - val_loss: 0.1367 - val_accuracy: 0.9619\n",
      "Epoch 5/30\n",
      "1200/1200 - 2s - loss: 0.1047 - accuracy: 0.9706 - val_loss: 0.1334 - val_accuracy: 0.9627\n",
      "Epoch 6/30\n",
      "1200/1200 - 2s - loss: 0.0989 - accuracy: 0.9722 - val_loss: 0.1363 - val_accuracy: 0.9625\n",
      "Epoch 7/30\n",
      "1200/1200 - 2s - loss: 0.0957 - accuracy: 0.9735 - val_loss: 0.1308 - val_accuracy: 0.9639\n",
      "Epoch 8/30\n",
      "1200/1200 - 2s - loss: 0.0927 - accuracy: 0.9743 - val_loss: 0.1347 - val_accuracy: 0.9638\n",
      "Epoch 9/30\n",
      "1200/1200 - 2s - loss: 0.0908 - accuracy: 0.9752 - val_loss: 0.1342 - val_accuracy: 0.9633\n",
      "Epoch 10/30\n",
      "1200/1200 - 2s - loss: 0.0890 - accuracy: 0.9754 - val_loss: 0.1335 - val_accuracy: 0.9650\n",
      "Epoch 11/30\n",
      "1200/1200 - 2s - loss: 0.0867 - accuracy: 0.9767 - val_loss: 0.1375 - val_accuracy: 0.9641\n",
      "Epoch 12/30\n",
      "1200/1200 - 2s - loss: 0.0862 - accuracy: 0.9764 - val_loss: 0.1387 - val_accuracy: 0.9641\n",
      "Epoch 13/30\n",
      "1200/1200 - 2s - loss: 0.0847 - accuracy: 0.9778 - val_loss: 0.1352 - val_accuracy: 0.9644\n",
      "Epoch 14/30\n",
      "1200/1200 - 2s - loss: 0.0833 - accuracy: 0.9779 - val_loss: 0.1395 - val_accuracy: 0.9640\n",
      "Epoch 15/30\n",
      "1200/1200 - 2s - loss: 0.0829 - accuracy: 0.9783 - val_loss: 0.1406 - val_accuracy: 0.9641\n",
      "Epoch 16/30\n",
      "1200/1200 - 2s - loss: 0.0816 - accuracy: 0.9787 - val_loss: 0.1381 - val_accuracy: 0.9641\n",
      "Epoch 17/30\n",
      "1200/1200 - 2s - loss: 0.0812 - accuracy: 0.9789 - val_loss: 0.1456 - val_accuracy: 0.9648\n",
      "Epoch 18/30\n",
      "1200/1200 - 2s - loss: 0.0814 - accuracy: 0.9788 - val_loss: 0.1415 - val_accuracy: 0.9648\n",
      "Epoch 19/30\n",
      "1200/1200 - 2s - loss: 0.0804 - accuracy: 0.9789 - val_loss: 0.1413 - val_accuracy: 0.9655\n",
      "Epoch 20/30\n",
      "1200/1200 - 2s - loss: 0.0799 - accuracy: 0.9801 - val_loss: 0.1476 - val_accuracy: 0.9643\n",
      "Epoch 21/30\n",
      "1200/1200 - 2s - loss: 0.0793 - accuracy: 0.9802 - val_loss: 0.1517 - val_accuracy: 0.9636\n",
      "Epoch 22/30\n",
      "1200/1200 - 2s - loss: 0.0792 - accuracy: 0.9797 - val_loss: 0.1456 - val_accuracy: 0.9636\n",
      "Epoch 23/30\n",
      "1200/1200 - 2s - loss: 0.0785 - accuracy: 0.9801 - val_loss: 0.1480 - val_accuracy: 0.9636\n",
      "Epoch 24/30\n",
      "1200/1200 - 2s - loss: 0.0771 - accuracy: 0.9806 - val_loss: 0.1490 - val_accuracy: 0.9650\n",
      "Epoch 25/30\n",
      "1200/1200 - 2s - loss: 0.0777 - accuracy: 0.9797 - val_loss: 0.1496 - val_accuracy: 0.9642\n",
      "Epoch 26/30\n",
      "1200/1200 - 2s - loss: 0.0773 - accuracy: 0.9802 - val_loss: 0.1500 - val_accuracy: 0.9649\n",
      "Epoch 27/30\n",
      "1200/1200 - 2s - loss: 0.0765 - accuracy: 0.9809 - val_loss: 0.1561 - val_accuracy: 0.9632\n",
      "Epoch 28/30\n",
      "1200/1200 - 2s - loss: 0.0766 - accuracy: 0.9808 - val_loss: 0.1527 - val_accuracy: 0.9635\n",
      "Epoch 29/30\n",
      "1200/1200 - 2s - loss: 0.0757 - accuracy: 0.9810 - val_loss: 0.1560 - val_accuracy: 0.9630\n",
      "Epoch 30/30\n",
      "1200/1200 - 2s - loss: 0.0764 - accuracy: 0.9811 - val_loss: 0.1537 - val_accuracy: 0.9641\n",
      "Training took 61.35s\n"
     ]
    }
   ],
   "source": [
    "start = time.time()\n",
    "modelfit1 = model1.fit(X_train, y_train, epochs=30,validation_split=0.2, verbose=2)\n",
    "end = time.time()\n",
    "print(\"Training took {:.2f}s\".format(end - start))"
   ]
  },
  {
   "cell_type": "code",
   "execution_count": 26,
   "metadata": {},
   "outputs": [
    {
     "data": {
      "text/plain": [
       "dict_keys(['loss', 'accuracy', 'val_loss', 'val_accuracy'])"
      ]
     },
     "execution_count": 26,
     "metadata": {},
     "output_type": "execute_result"
    }
   ],
   "source": [
    "modelfit1.history.keys()"
   ]
  },
  {
   "cell_type": "code",
   "execution_count": 27,
   "metadata": {},
   "outputs": [
    {
     "data": {
      "image/png": "[encoded data removed]",
      "text/plain": [
       "<Figure size 576x360 with 1 Axes>"
      ]
     },
     "metadata": {
      "needs_background": "light"
     },
     "output_type": "display_data"
    }
   ],
   "source": [
    "# Learning curves: the mean training loss and accuracy measured over each epoch, and the mean validation loss and \n",
    "# accuracy measured at the end of each epoch\n",
    "pd.DataFrame(modelfit1.history).plot(figsize=(8, 5))\n",
    "plt.grid(True)\n",
    "plt.gca().set_ylim(0, 1)\n",
    "plt.show()"
   ]
  },
  {
   "cell_type": "code",
   "execution_count": 28,
   "metadata": {},
   "outputs": [
    {
     "name": "stdout",
     "output_type": "stream",
     "text": [
      "375/375 [==============================] - 0s 1ms/step - loss: 0.1312 - accuracy: 0.9681\n"
     ]
    },
    {
     "data": {
      "text/plain": [
       "[0.13123245537281036, 0.9680833220481873]"
      ]
     },
     "execution_count": 28,
     "metadata": {},
     "output_type": "execute_result"
    }
   ],
   "source": [
    "model1.evaluate(X_test, y_test)"
   ]
  },
  {
   "cell_type": "code",
   "execution_count": 29,
   "metadata": {},
   "outputs": [
    {
     "name": "stdout",
     "output_type": "stream",
     "text": [
      "WARNING:tensorflow:From <ipython-input-29-f2d68ae0265b>:1: Sequential.predict_classes (from tensorflow.python.keras.engine.sequential) is deprecated and will be removed after 2021-01-01.\n",
      "Instructions for updating:\n",
      "Please use instead:* `np.argmax(model.predict(x), axis=-1)`,   if your model does multi-class classification   (e.g. if it uses a `softmax` last-layer activation).* `(model.predict(x) > 0.5).astype(\"int32\")`,   if your model does binary classification   (e.g. if it uses a `sigmoid` last-layer activation).\n",
      "WARNING:tensorflow:Model was constructed with shape (None, 28, 28) for input Tensor(\"flatten_input:0\", shape=(None, 28, 28), dtype=float32), but it was called on an input with incompatible shape (None, 784).\n"
     ]
    },
    {
     "data": {
      "text/plain": [
       "array([3, 0, 2, ..., 1, 6, 3], dtype=int64)"
      ]
     },
     "execution_count": 29,
     "metadata": {},
     "output_type": "execute_result"
    }
   ],
   "source": [
    "y_proba = model1.predict_classes(test_X)\n",
    "y_proba.round(2)"
   ]
  },
  {
   "cell_type": "code",
   "execution_count": 31,
   "metadata": {},
   "outputs": [],
   "source": [
    "y_true = np.argmax(y_test, axis = 1)"
   ]
  },
  {
   "cell_type": "code",
   "execution_count": 32,
   "metadata": {},
   "outputs": [
    {
     "name": "stdout",
     "output_type": "stream",
     "text": [
      "WARNING:tensorflow:Model was constructed with shape (None, 28, 28) for input Tensor(\"flatten_input:0\", shape=(None, 28, 28), dtype=float32), but it was called on an input with incompatible shape (32, 784).\n"
     ]
    },
    {
     "data": {
      "image/png": "[encoded data removed]",
      "text/plain": [
       "<Figure size 720x432 with 2 Axes>"
      ]
     },
     "metadata": {
      "needs_background": "light"
     },
     "output_type": "display_data"
    }
   ],
   "source": [
    "y_pred1 = model1.predict(X_test)\n",
    "y_pred1_classes = np.argmax(y_pred1, axis=1)\n",
    "\n",
    "conf1 = confusion_matrix(y_true,y_pred1_classes)\n",
    "plot_confusion_matrix(conf1,classes = range(10))"
   ]
  },
  {
   "cell_type": "markdown",
   "metadata": {},
   "source": [
    "This model perfomed slightly better against the validation set after fitting to the training set. This is likely due to luck rather than the model parameters. This instance of \"luck\" indicate a balanced model with appropriate variance."
   ]
  },
  {
   "cell_type": "markdown",
   "metadata": {},
   "source": [
    "## Model 2"
   ]
  },
  {
   "cell_type": "code",
   "execution_count": 33,
   "metadata": {},
   "outputs": [],
   "source": [
    "model2 = keras.models.Sequential([\n",
    "    keras.layers.Flatten(input_shape=[28, 28]),\n",
    "    keras.layers.Dense(20, activation ='relu'),\n",
    "    keras.layers.Dense(10, activation=\"softmax\")\n",
    "])\n",
    "\n",
    "# we'll use categorical xent for the loss, and RMSprop as the optimizer\n",
    "model2.compile(loss='categorical_crossentropy', optimizer='RMSprop', metrics = ['accuracy'])"
   ]
  },
  {
   "cell_type": "code",
   "execution_count": 34,
   "metadata": {},
   "outputs": [
    {
     "name": "stdout",
     "output_type": "stream",
     "text": [
      "Model: \"sequential_1\"\n",
      "_________________________________________________________________\n",
      "Layer (type)                 Output Shape              Param #   \n",
      "=================================================================\n",
      "flatten_1 (Flatten)          (None, 784)               0         \n",
      "_________________________________________________________________\n",
      "dense_2 (Dense)              (None, 20)                15700     \n",
      "_________________________________________________________________\n",
      "dense_3 (Dense)              (None, 10)                210       \n",
      "=================================================================\n",
      "Total params: 15,910\n",
      "Trainable params: 15,910\n",
      "Non-trainable params: 0\n",
      "_________________________________________________________________\n"
     ]
    }
   ],
   "source": [
    "model2.summary()"
   ]
  },
  {
   "cell_type": "code",
   "execution_count": 35,
   "metadata": {},
   "outputs": [
    {
     "name": "stdout",
     "output_type": "stream",
     "text": [
      "Epoch 1/30\n",
      "WARNING:tensorflow:Model was constructed with shape (None, 28, 28) for input Tensor(\"flatten_1_input:0\", shape=(None, 28, 28), dtype=float32), but it was called on an input with incompatible shape (32, 784).\n",
      "WARNING:tensorflow:Model was constructed with shape (None, 28, 28) for input Tensor(\"flatten_1_input:0\", shape=(None, 28, 28), dtype=float32), but it was called on an input with incompatible shape (32, 784).\n",
      "1181/1200 [============================>.] - ETA: 0s - loss: 0.2883 - accuracy: 0.9278WARNING:tensorflow:Model was constructed with shape (None, 28, 28) for input Tensor(\"flatten_1_input:0\", shape=(None, 28, 28), dtype=float32), but it was called on an input with incompatible shape (32, 784).\n",
      "1200/1200 [==============================] - 3s 2ms/step - loss: 0.2852 - accuracy: 0.9285 - val_loss: 0.1464 - val_accuracy: 0.9600\n",
      "Epoch 2/30\n",
      "1200/1200 [==============================] - 2s 2ms/step - loss: 0.1196 - accuracy: 0.9655 - val_loss: 0.1281 - val_accuracy: 0.9650\n",
      "Epoch 3/30\n",
      "1200/1200 [==============================] - 2s 2ms/step - loss: 0.1030 - accuracy: 0.9709 - val_loss: 0.1239 - val_accuracy: 0.9660\n",
      "Epoch 4/30\n",
      "1200/1200 [==============================] - 2s 2ms/step - loss: 0.0928 - accuracy: 0.9736 - val_loss: 0.1221 - val_accuracy: 0.9663\n",
      "Epoch 5/30\n",
      "1200/1200 [==============================] - 2s 2ms/step - loss: 0.0857 - accuracy: 0.9753 - val_loss: 0.1209 - val_accuracy: 0.9678\n",
      "Epoch 6/30\n",
      "1200/1200 [==============================] - 2s 2ms/step - loss: 0.0808 - accuracy: 0.9771 - val_loss: 0.1190 - val_accuracy: 0.9680\n",
      "Epoch 7/30\n",
      "1200/1200 [==============================] - 2s 2ms/step - loss: 0.0762 - accuracy: 0.9796 - val_loss: 0.1193 - val_accuracy: 0.9690\n",
      "Epoch 8/30\n",
      "1200/1200 [==============================] - 2s 2ms/step - loss: 0.0728 - accuracy: 0.9809 - val_loss: 0.1139 - val_accuracy: 0.9699\n",
      "Epoch 9/30\n",
      "1200/1200 [==============================] - 2s 2ms/step - loss: 0.0684 - accuracy: 0.9823 - val_loss: 0.1153 - val_accuracy: 0.9711\n",
      "Epoch 10/30\n",
      "1200/1200 [==============================] - 2s 2ms/step - loss: 0.0658 - accuracy: 0.9831 - val_loss: 0.1187 - val_accuracy: 0.9699\n",
      "Epoch 11/30\n",
      "1200/1200 [==============================] - 2s 2ms/step - loss: 0.0625 - accuracy: 0.9840 - val_loss: 0.1125 - val_accuracy: 0.9716\n",
      "Epoch 12/30\n",
      "1200/1200 [==============================] - 2s 2ms/step - loss: 0.0595 - accuracy: 0.9848 - val_loss: 0.1132 - val_accuracy: 0.9728\n",
      "Epoch 13/30\n",
      "1200/1200 [==============================] - 2s 2ms/step - loss: 0.0573 - accuracy: 0.9853 - val_loss: 0.1123 - val_accuracy: 0.9728\n",
      "Epoch 14/30\n",
      "1200/1200 [==============================] - 2s 2ms/step - loss: 0.0555 - accuracy: 0.9860 - val_loss: 0.1203 - val_accuracy: 0.9705\n",
      "Epoch 15/30\n",
      "1200/1200 [==============================] - 2s 2ms/step - loss: 0.0531 - accuracy: 0.9870 - val_loss: 0.1187 - val_accuracy: 0.9712\n",
      "Epoch 16/30\n",
      "1200/1200 [==============================] - 2s 2ms/step - loss: 0.0516 - accuracy: 0.9876 - val_loss: 0.1214 - val_accuracy: 0.9721\n",
      "Epoch 17/30\n",
      "1200/1200 [==============================] - 2s 2ms/step - loss: 0.0504 - accuracy: 0.9876 - val_loss: 0.1239 - val_accuracy: 0.9726\n",
      "Epoch 18/30\n",
      "1200/1200 [==============================] - 2s 2ms/step - loss: 0.0478 - accuracy: 0.9884 - val_loss: 0.1283 - val_accuracy: 0.9722\n",
      "Epoch 19/30\n",
      "1200/1200 [==============================] - 2s 2ms/step - loss: 0.0476 - accuracy: 0.9889 - val_loss: 0.1245 - val_accuracy: 0.9730\n",
      "Epoch 20/30\n",
      "1200/1200 [==============================] - 2s 2ms/step - loss: 0.0461 - accuracy: 0.9892 - val_loss: 0.1265 - val_accuracy: 0.9735\n",
      "Epoch 21/30\n",
      "1200/1200 [==============================] - 2s 2ms/step - loss: 0.0451 - accuracy: 0.9895 - val_loss: 0.1305 - val_accuracy: 0.9728\n",
      "Epoch 22/30\n",
      "1200/1200 [==============================] - 2s 2ms/step - loss: 0.0445 - accuracy: 0.9897 - val_loss: 0.1298 - val_accuracy: 0.9725\n",
      "Epoch 23/30\n",
      "1200/1200 [==============================] - 2s 2ms/step - loss: 0.0435 - accuracy: 0.9904 - val_loss: 0.1336 - val_accuracy: 0.9725\n",
      "Epoch 24/30\n",
      "1200/1200 [==============================] - 2s 2ms/step - loss: 0.0427 - accuracy: 0.9906 - val_loss: 0.1325 - val_accuracy: 0.9727\n",
      "Epoch 25/30\n",
      "1200/1200 [==============================] - 2s 2ms/step - loss: 0.0410 - accuracy: 0.9909 - val_loss: 0.1412 - val_accuracy: 0.9725\n",
      "Epoch 26/30\n",
      "1200/1200 [==============================] - 2s 2ms/step - loss: 0.0405 - accuracy: 0.9911 - val_loss: 0.1399 - val_accuracy: 0.9721\n",
      "Epoch 27/30\n",
      "1200/1200 [==============================] - 2s 2ms/step - loss: 0.0402 - accuracy: 0.9911 - val_loss: 0.1437 - val_accuracy: 0.9724\n",
      "Epoch 28/30\n",
      "1200/1200 [==============================] - 2s 2ms/step - loss: 0.0386 - accuracy: 0.9911 - val_loss: 0.1471 - val_accuracy: 0.9718\n",
      "Epoch 29/30\n",
      "1200/1200 [==============================] - 2s 2ms/step - loss: 0.0383 - accuracy: 0.9918 - val_loss: 0.1542 - val_accuracy: 0.9705\n",
      "Epoch 30/30\n",
      "1200/1200 [==============================] - 2s 2ms/step - loss: 0.0378 - accuracy: 0.9918 - val_loss: 0.1579 - val_accuracy: 0.9708\n",
      "Training took 66.74s\n"
     ]
    }
   ],
   "source": [
    "start=time.time()\n",
    "modelfit2 = model2.fit(X_train, y_train, epochs=30, validation_split=0.2)\n",
    "end=time.time()\n",
    "print(\"Training took {:.2f}s\".format(end - start))"
   ]
  },
  {
   "cell_type": "code",
   "execution_count": 36,
   "metadata": {},
   "outputs": [
    {
     "data": {
      "text/plain": [
       "dict_keys(['loss', 'accuracy', 'val_loss', 'val_accuracy'])"
      ]
     },
     "execution_count": 36,
     "metadata": {},
     "output_type": "execute_result"
    }
   ],
   "source": [
    "modelfit2.history.keys()"
   ]
  },
  {
   "cell_type": "code",
   "execution_count": 37,
   "metadata": {},
   "outputs": [
    {
     "data": {
      "image/png": "[encoded data removed]",
      "text/plain": [
       "<Figure size 576x360 with 1 Axes>"
      ]
     },
     "metadata": {
      "needs_background": "light"
     },
     "output_type": "display_data"
    }
   ],
   "source": [
    "# Learning curves: the mean training loss and accuracy measured over each epoch, and the mean validation loss and \n",
    "# accuracy measured at the end of each epoch\n",
    "pd.DataFrame(modelfit2.history).plot(figsize=(8, 5))\n",
    "plt.grid(True)\n",
    "plt.gca().set_ylim(0, 1)\n",
    "plt.show()"
   ]
  },
  {
   "cell_type": "code",
   "execution_count": 38,
   "metadata": {},
   "outputs": [
    {
     "name": "stdout",
     "output_type": "stream",
     "text": [
      "375/375 [==============================] - 0s 1ms/step - loss: 0.1314 - accuracy: 0.9744\n"
     ]
    },
    {
     "data": {
      "text/plain": [
       "[0.1314161866903305, 0.9744166731834412]"
      ]
     },
     "execution_count": 38,
     "metadata": {},
     "output_type": "execute_result"
    }
   ],
   "source": [
    "model2.evaluate(X_test, y_test)"
   ]
  },
  {
   "cell_type": "code",
   "execution_count": 39,
   "metadata": {},
   "outputs": [
    {
     "name": "stdout",
     "output_type": "stream",
     "text": [
      "WARNING:tensorflow:Model was constructed with shape (None, 28, 28) for input Tensor(\"flatten_1_input:0\", shape=(None, 28, 28), dtype=float32), but it was called on an input with incompatible shape (None, 784).\n"
     ]
    }
   ],
   "source": [
    "y_proba2 = model2.predict_classes(test_X)\n",
    "write_preds(y_proba2, \"mlp2.csv\")"
   ]
  },
  {
   "cell_type": "code",
   "execution_count": 40,
   "metadata": {},
   "outputs": [
    {
     "name": "stdout",
     "output_type": "stream",
     "text": [
      "WARNING:tensorflow:Model was constructed with shape (None, 28, 28) for input Tensor(\"flatten_1_input:0\", shape=(None, 28, 28), dtype=float32), but it was called on an input with incompatible shape (32, 784).\n"
     ]
    },
    {
     "data": {
      "image/png": "[encoded data removed]",
      "text/plain": [
       "<Figure size 720x432 with 2 Axes>"
      ]
     },
     "metadata": {
      "needs_background": "light"
     },
     "output_type": "display_data"
    }
   ],
   "source": [
    "y_pred2 = model2.predict(X_test)\n",
    "y_pred2_classes = np.argmax(y_pred2, axis=1)\n",
    "\n",
    "conf2 = confusion_matrix(y_true,y_pred2_classes)\n",
    "plot_confusion_matrix(conf2,classes = range(10))"
   ]
  },
  {
   "cell_type": "markdown",
   "metadata": {},
   "source": [
    "Model2 performed better than model1. This is likely due to the addition of nodes in the layers. The additional layers assisted in accurate generalized predictions. "
   ]
  },
  {
   "cell_type": "markdown",
   "metadata": {},
   "source": [
    "## Model 3"
   ]
  },
  {
   "cell_type": "code",
   "execution_count": 41,
   "metadata": {},
   "outputs": [],
   "source": [
    "model3 = keras.models.Sequential([\n",
    "    keras.layers.Flatten(input_shape=[28, 28]),\n",
    "    keras.layers.Dense(10, activation ='relu'),\n",
    "    keras.layers.Dense(10, activation ='relu'),\n",
    "    keras.layers.Dense(10, activation ='relu'),\n",
    "    keras.layers.Dense(10, activation ='relu'),\n",
    "    keras.layers.Dense(10, activation=\"softmax\")\n",
    "])\n",
    "\n",
    "# we'll use categorical xent for the loss, and RMSprop as the optimizer\n",
    "model3.compile(loss='categorical_crossentropy', optimizer='RMSprop', metrics = ['accuracy'])"
   ]
  },
  {
   "cell_type": "code",
   "execution_count": 42,
   "metadata": {},
   "outputs": [
    {
     "name": "stdout",
     "output_type": "stream",
     "text": [
      "Model: \"sequential_2\"\n",
      "_________________________________________________________________\n",
      "Layer (type)                 Output Shape              Param #   \n",
      "=================================================================\n",
      "flatten_2 (Flatten)          (None, 784)               0         \n",
      "_________________________________________________________________\n",
      "dense_4 (Dense)              (None, 10)                7850      \n",
      "_________________________________________________________________\n",
      "dense_5 (Dense)              (None, 10)                110       \n",
      "_________________________________________________________________\n",
      "dense_6 (Dense)              (None, 10)                110       \n",
      "_________________________________________________________________\n",
      "dense_7 (Dense)              (None, 10)                110       \n",
      "_________________________________________________________________\n",
      "dense_8 (Dense)              (None, 10)                110       \n",
      "=================================================================\n",
      "Total params: 8,290\n",
      "Trainable params: 8,290\n",
      "Non-trainable params: 0\n",
      "_________________________________________________________________\n"
     ]
    }
   ],
   "source": [
    "model3.summary()"
   ]
  },
  {
   "cell_type": "code",
   "execution_count": 43,
   "metadata": {},
   "outputs": [
    {
     "name": "stdout",
     "output_type": "stream",
     "text": [
      "Epoch 1/30\n",
      "WARNING:tensorflow:Model was constructed with shape (None, 28, 28) for input Tensor(\"flatten_2_input:0\", shape=(None, 28, 28), dtype=float32), but it was called on an input with incompatible shape (32, 784).\n",
      "WARNING:tensorflow:Model was constructed with shape (None, 28, 28) for input Tensor(\"flatten_2_input:0\", shape=(None, 28, 28), dtype=float32), but it was called on an input with incompatible shape (32, 784).\n",
      "1174/1200 [============================>.] - ETA: 0s - loss: 0.6847 - accuracy: 0.7740WARNING:tensorflow:Model was constructed with shape (None, 28, 28) for input Tensor(\"flatten_2_input:0\", shape=(None, 28, 28), dtype=float32), but it was called on an input with incompatible shape (32, 784).\n",
      "1200/1200 [==============================] - 3s 3ms/step - loss: 0.6760 - accuracy: 0.7777 - val_loss: 0.2322 - val_accuracy: 0.9347\n",
      "Epoch 2/30\n",
      "1200/1200 [==============================] - 3s 2ms/step - loss: 0.1924 - accuracy: 0.9465 - val_loss: 0.1867 - val_accuracy: 0.9455\n",
      "Epoch 3/30\n",
      "1200/1200 [==============================] - 3s 2ms/step - loss: 0.1536 - accuracy: 0.9574 - val_loss: 0.1532 - val_accuracy: 0.9567\n",
      "Epoch 4/30\n",
      "1200/1200 [==============================] - 3s 2ms/step - loss: 0.1350 - accuracy: 0.9620 - val_loss: 0.1496 - val_accuracy: 0.9597\n",
      "Epoch 5/30\n",
      "1200/1200 [==============================] - 3s 2ms/step - loss: 0.1237 - accuracy: 0.9662 - val_loss: 0.1404 - val_accuracy: 0.9615\n",
      "Epoch 6/30\n",
      "1200/1200 [==============================] - 3s 2ms/step - loss: 0.1148 - accuracy: 0.9685 - val_loss: 0.1445 - val_accuracy: 0.9598\n",
      "Epoch 7/30\n",
      "1200/1200 [==============================] - 3s 2ms/step - loss: 0.1099 - accuracy: 0.9696 - val_loss: 0.1360 - val_accuracy: 0.9630\n",
      "Epoch 8/30\n",
      "1200/1200 [==============================] - 3s 2ms/step - loss: 0.1036 - accuracy: 0.9719 - val_loss: 0.1344 - val_accuracy: 0.9626\n",
      "Epoch 9/30\n",
      "1200/1200 [==============================] - 3s 2ms/step - loss: 0.1005 - accuracy: 0.9730 - val_loss: 0.1286 - val_accuracy: 0.9653\n",
      "Epoch 10/30\n",
      "1200/1200 [==============================] - 3s 2ms/step - loss: 0.0967 - accuracy: 0.9736 - val_loss: 0.1353 - val_accuracy: 0.9634\n",
      "Epoch 11/30\n",
      "1200/1200 [==============================] - 3s 2ms/step - loss: 0.0936 - accuracy: 0.9751 - val_loss: 0.1334 - val_accuracy: 0.9628\n",
      "Epoch 12/30\n",
      "1200/1200 [==============================] - 3s 2ms/step - loss: 0.0915 - accuracy: 0.9757 - val_loss: 0.1487 - val_accuracy: 0.9617\n",
      "Epoch 13/30\n",
      "1200/1200 [==============================] - 3s 2ms/step - loss: 0.0900 - accuracy: 0.9767 - val_loss: 0.1364 - val_accuracy: 0.9623\n",
      "Epoch 14/30\n",
      "1200/1200 [==============================] - 3s 2ms/step - loss: 0.0877 - accuracy: 0.9770 - val_loss: 0.1295 - val_accuracy: 0.9651\n",
      "Epoch 15/30\n",
      "1200/1200 [==============================] - 3s 2ms/step - loss: 0.0860 - accuracy: 0.9778 - val_loss: 0.1356 - val_accuracy: 0.9645\n",
      "Epoch 16/30\n",
      "1200/1200 [==============================] - 3s 2ms/step - loss: 0.0852 - accuracy: 0.9782 - val_loss: 0.1463 - val_accuracy: 0.9609\n",
      "Epoch 17/30\n",
      "1200/1200 [==============================] - 3s 2ms/step - loss: 0.0840 - accuracy: 0.9785 - val_loss: 0.1338 - val_accuracy: 0.9652\n",
      "Epoch 18/30\n",
      "1200/1200 [==============================] - 3s 2ms/step - loss: 0.0837 - accuracy: 0.9787 - val_loss: 0.1441 - val_accuracy: 0.9619\n",
      "Epoch 19/30\n",
      "1200/1200 [==============================] - 3s 2ms/step - loss: 0.0813 - accuracy: 0.9796 - val_loss: 0.1461 - val_accuracy: 0.9640\n",
      "Epoch 20/30\n",
      "1200/1200 [==============================] - 3s 2ms/step - loss: 0.0804 - accuracy: 0.9795 - val_loss: 0.1519 - val_accuracy: 0.9611\n",
      "Epoch 21/30\n",
      "1200/1200 [==============================] - 3s 2ms/step - loss: 0.0801 - accuracy: 0.9804 - val_loss: 0.1497 - val_accuracy: 0.9622\n",
      "Epoch 22/30\n",
      "1200/1200 [==============================] - 3s 2ms/step - loss: 0.0797 - accuracy: 0.9799 - val_loss: 0.1497 - val_accuracy: 0.9614\n",
      "Epoch 23/30\n",
      "1200/1200 [==============================] - 3s 2ms/step - loss: 0.0771 - accuracy: 0.9803 - val_loss: 0.1477 - val_accuracy: 0.9639\n",
      "Epoch 24/30\n",
      "1200/1200 [==============================] - 3s 2ms/step - loss: 0.0786 - accuracy: 0.9798 - val_loss: 0.1493 - val_accuracy: 0.9611\n",
      "Epoch 25/30\n",
      "1200/1200 [==============================] - 3s 2ms/step - loss: 0.0764 - accuracy: 0.9803 - val_loss: 0.1434 - val_accuracy: 0.9647\n",
      "Epoch 26/30\n",
      "1200/1200 [==============================] - 3s 2ms/step - loss: 0.0749 - accuracy: 0.9811 - val_loss: 0.1635 - val_accuracy: 0.9580\n",
      "Epoch 27/30\n",
      "1200/1200 [==============================] - 3s 2ms/step - loss: 0.0749 - accuracy: 0.9807 - val_loss: 0.1662 - val_accuracy: 0.9598\n",
      "Epoch 28/30\n",
      "1200/1200 [==============================] - 3s 2ms/step - loss: 0.0749 - accuracy: 0.9810 - val_loss: 0.1583 - val_accuracy: 0.9635\n",
      "Epoch 29/30\n",
      "1200/1200 [==============================] - 3s 2ms/step - loss: 0.0742 - accuracy: 0.9813 - val_loss: 0.1545 - val_accuracy: 0.9628\n",
      "Epoch 30/30\n",
      "1200/1200 [==============================] - 3s 2ms/step - loss: 0.0744 - accuracy: 0.9808 - val_loss: 0.1643 - val_accuracy: 0.9623\n",
      "Training took 83.40s\n"
     ]
    }
   ],
   "source": [
    "start=time.time()\n",
    "modelfit3 = model3.fit(X_train, y_train, epochs=30, validation_split=0.2)\n",
    "end=time.time()\n",
    "print(\"Training took {:.2f}s\".format(end - start))"
   ]
  },
  {
   "cell_type": "code",
   "execution_count": 44,
   "metadata": {},
   "outputs": [
    {
     "data": {
      "text/plain": [
       "dict_keys(['loss', 'accuracy', 'val_loss', 'val_accuracy'])"
      ]
     },
     "execution_count": 44,
     "metadata": {},
     "output_type": "execute_result"
    }
   ],
   "source": [
    "modelfit3.history.keys()"
   ]
  },
  {
   "cell_type": "code",
   "execution_count": 45,
   "metadata": {},
   "outputs": [
    {
     "data": {
      "image/png": "[encoded data removed]",
      "text/plain": [
       "<Figure size 576x360 with 1 Axes>"
      ]
     },
     "metadata": {
      "needs_background": "light"
     },
     "output_type": "display_data"
    }
   ],
   "source": [
    "# Learning curves: the mean training loss and accuracy measured over each epoch, and the mean validation loss and \n",
    "# accuracy measured at the end of each epoch\n",
    "pd.DataFrame(modelfit3.history).plot(figsize=(8, 5))\n",
    "plt.grid(True)\n",
    "plt.gca().set_ylim(0, 1)\n",
    "plt.show()"
   ]
  },
  {
   "cell_type": "code",
   "execution_count": 46,
   "metadata": {},
   "outputs": [
    {
     "name": "stdout",
     "output_type": "stream",
     "text": [
      "375/375 [==============================] - 0s 1ms/step - loss: 0.1704 - accuracy: 0.9644\n"
     ]
    },
    {
     "data": {
      "text/plain": [
       "[0.17040984332561493, 0.9644166827201843]"
      ]
     },
     "execution_count": 46,
     "metadata": {},
     "output_type": "execute_result"
    }
   ],
   "source": [
    "model3.evaluate(X_test, y_test)"
   ]
  },
  {
   "cell_type": "code",
   "execution_count": 47,
   "metadata": {},
   "outputs": [
    {
     "name": "stdout",
     "output_type": "stream",
     "text": [
      "WARNING:tensorflow:Model was constructed with shape (None, 28, 28) for input Tensor(\"flatten_2_input:0\", shape=(None, 28, 28), dtype=float32), but it was called on an input with incompatible shape (None, 784).\n"
     ]
    }
   ],
   "source": [
    "y_proba3 = model3.predict_classes(test_X)\n",
    "write_preds(y_proba3, \"mlp3.csv\")"
   ]
  },
  {
   "cell_type": "code",
   "execution_count": 48,
   "metadata": {},
   "outputs": [
    {
     "name": "stdout",
     "output_type": "stream",
     "text": [
      "WARNING:tensorflow:Model was constructed with shape (None, 28, 28) for input Tensor(\"flatten_2_input:0\", shape=(None, 28, 28), dtype=float32), but it was called on an input with incompatible shape (32, 784).\n"
     ]
    },
    {
     "data": {
      "image/png": "[encoded data removed]",
      "text/plain": [
       "<Figure size 720x432 with 2 Axes>"
      ]
     },
     "metadata": {
      "needs_background": "light"
     },
     "output_type": "display_data"
    }
   ],
   "source": [
    "y_pred3 = model3.predict(X_test)\n",
    "y_pred3_classes = np.argmax(y_pred3, axis=1)\n",
    "\n",
    "conf3 = confusion_matrix(y_true,y_pred3_classes)\n",
    "plot_confusion_matrix(conf3,classes = range(10))"
   ]
  },
  {
   "cell_type": "markdown",
   "metadata": {},
   "source": [
    "Model3 performed slightly worse than model2, the model is likely overfit due to a higher node to layer ratio. Adding more nodes, skewed the weights in the output nodes thus decreasing the score on unseen data. I hypothesize that the fourth model will have a slightly better score than model2 due to similar nodes with more layers."
   ]
  },
  {
   "cell_type": "markdown",
   "metadata": {},
   "source": [
    "## Model 4"
   ]
  },
  {
   "cell_type": "code",
   "execution_count": 49,
   "metadata": {},
   "outputs": [],
   "source": [
    "model4 = keras.models.Sequential([\n",
    "    keras.layers.Flatten(input_shape=[28, 28]),\n",
    "    keras.layers.Dense(20, activation ='relu'),\n",
    "    keras.layers.Dense(20, activation ='relu'),\n",
    "    keras.layers.Dense(20, activation ='relu'),\n",
    "    keras.layers.Dense(20, activation ='relu'),\n",
    "    keras.layers.Dense(10, activation=\"softmax\")\n",
    "])\n",
    "\n",
    "model4.compile(loss='categorical_crossentropy', optimizer='RMSprop', metrics = ['accuracy'])"
   ]
  },
  {
   "cell_type": "code",
   "execution_count": 50,
   "metadata": {},
   "outputs": [
    {
     "name": "stdout",
     "output_type": "stream",
     "text": [
      "Model: \"sequential_3\"\n",
      "_________________________________________________________________\n",
      "Layer (type)                 Output Shape              Param #   \n",
      "=================================================================\n",
      "flatten_3 (Flatten)          (None, 784)               0         \n",
      "_________________________________________________________________\n",
      "dense_9 (Dense)              (None, 20)                15700     \n",
      "_________________________________________________________________\n",
      "dense_10 (Dense)             (None, 20)                420       \n",
      "_________________________________________________________________\n",
      "dense_11 (Dense)             (None, 20)                420       \n",
      "_________________________________________________________________\n",
      "dense_12 (Dense)             (None, 20)                420       \n",
      "_________________________________________________________________\n",
      "dense_13 (Dense)             (None, 10)                210       \n",
      "=================================================================\n",
      "Total params: 17,170\n",
      "Trainable params: 17,170\n",
      "Non-trainable params: 0\n",
      "_________________________________________________________________\n"
     ]
    }
   ],
   "source": [
    "model4.summary()"
   ]
  },
  {
   "cell_type": "code",
   "execution_count": 51,
   "metadata": {},
   "outputs": [
    {
     "name": "stdout",
     "output_type": "stream",
     "text": [
      "Epoch 1/30\n",
      "WARNING:tensorflow:Model was constructed with shape (None, 28, 28) for input Tensor(\"flatten_3_input:0\", shape=(None, 28, 28), dtype=float32), but it was called on an input with incompatible shape (32, 784).\n",
      "WARNING:tensorflow:Model was constructed with shape (None, 28, 28) for input Tensor(\"flatten_3_input:0\", shape=(None, 28, 28), dtype=float32), but it was called on an input with incompatible shape (32, 784).\n",
      "1194/1200 [============================>.] - ETA: 0s - loss: 0.3793 - accuracy: 0.8887WARNING:tensorflow:Model was constructed with shape (None, 28, 28) for input Tensor(\"flatten_3_input:0\", shape=(None, 28, 28), dtype=float32), but it was called on an input with incompatible shape (32, 784).\n",
      "1200/1200 [==============================] - 3s 3ms/step - loss: 0.3781 - accuracy: 0.8889 - val_loss: 0.1552 - val_accuracy: 0.9581\n",
      "Epoch 2/30\n",
      "1200/1200 [==============================] - 3s 2ms/step - loss: 0.1252 - accuracy: 0.9640 - val_loss: 0.1428 - val_accuracy: 0.9614\n",
      "Epoch 3/30\n",
      "1200/1200 [==============================] - 3s 2ms/step - loss: 0.1037 - accuracy: 0.9709 - val_loss: 0.1254 - val_accuracy: 0.9659\n",
      "Epoch 4/30\n",
      "1200/1200 [==============================] - 3s 2ms/step - loss: 0.0906 - accuracy: 0.9750 - val_loss: 0.1195 - val_accuracy: 0.9679\n",
      "Epoch 5/30\n",
      "1200/1200 [==============================] - 3s 2ms/step - loss: 0.0813 - accuracy: 0.9781 - val_loss: 0.1093 - val_accuracy: 0.9700\n",
      "Epoch 6/30\n",
      "1200/1200 [==============================] - 3s 2ms/step - loss: 0.0752 - accuracy: 0.9801 - val_loss: 0.1082 - val_accuracy: 0.9708\n",
      "Epoch 7/30\n",
      "1200/1200 [==============================] - 3s 2ms/step - loss: 0.0691 - accuracy: 0.9817 - val_loss: 0.1035 - val_accuracy: 0.9729\n",
      "Epoch 8/30\n",
      "1200/1200 [==============================] - 3s 2ms/step - loss: 0.0645 - accuracy: 0.9835 - val_loss: 0.1120 - val_accuracy: 0.9714\n",
      "Epoch 9/30\n",
      "1200/1200 [==============================] - 3s 2ms/step - loss: 0.0612 - accuracy: 0.9836 - val_loss: 0.1111 - val_accuracy: 0.9739\n",
      "Epoch 10/30\n",
      "1200/1200 [==============================] - 3s 2ms/step - loss: 0.0561 - accuracy: 0.9856 - val_loss: 0.1190 - val_accuracy: 0.9716\n",
      "Epoch 11/30\n",
      "1200/1200 [==============================] - 3s 2ms/step - loss: 0.0537 - accuracy: 0.9861 - val_loss: 0.1243 - val_accuracy: 0.9705\n",
      "Epoch 12/30\n",
      "1200/1200 [==============================] - 3s 2ms/step - loss: 0.0518 - accuracy: 0.9876 - val_loss: 0.1358 - val_accuracy: 0.9703\n",
      "Epoch 13/30\n",
      "1200/1200 [==============================] - 3s 2ms/step - loss: 0.0495 - accuracy: 0.9880 - val_loss: 0.1224 - val_accuracy: 0.9742\n",
      "Epoch 14/30\n",
      "1200/1200 [==============================] - 3s 2ms/step - loss: 0.0473 - accuracy: 0.9885 - val_loss: 0.1329 - val_accuracy: 0.9712\n",
      "Epoch 15/30\n",
      "1200/1200 [==============================] - 3s 2ms/step - loss: 0.0455 - accuracy: 0.9890 - val_loss: 0.1227 - val_accuracy: 0.9721\n",
      "Epoch 16/30\n",
      "1200/1200 [==============================] - 3s 2ms/step - loss: 0.0428 - accuracy: 0.9897 - val_loss: 0.1366 - val_accuracy: 0.9733\n",
      "Epoch 17/30\n",
      "1200/1200 [==============================] - 3s 2ms/step - loss: 0.0426 - accuracy: 0.9897 - val_loss: 0.1498 - val_accuracy: 0.9704\n",
      "Epoch 18/30\n",
      "1200/1200 [==============================] - 3s 2ms/step - loss: 0.0413 - accuracy: 0.9902 - val_loss: 0.1472 - val_accuracy: 0.9736\n",
      "Epoch 19/30\n",
      "1200/1200 [==============================] - 3s 2ms/step - loss: 0.0390 - accuracy: 0.9905 - val_loss: 0.1609 - val_accuracy: 0.9725\n",
      "Epoch 20/30\n",
      "1200/1200 [==============================] - 3s 2ms/step - loss: 0.0388 - accuracy: 0.9905 - val_loss: 0.1532 - val_accuracy: 0.9726\n",
      "Epoch 21/30\n",
      "1200/1200 [==============================] - 3s 2ms/step - loss: 0.0382 - accuracy: 0.9917 - val_loss: 0.1581 - val_accuracy: 0.9731\n",
      "Epoch 22/30\n",
      "1200/1200 [==============================] - 3s 2ms/step - loss: 0.0365 - accuracy: 0.9912 - val_loss: 0.1694 - val_accuracy: 0.9711\n",
      "Epoch 23/30\n",
      "1200/1200 [==============================] - 3s 2ms/step - loss: 0.0358 - accuracy: 0.9917 - val_loss: 0.1822 - val_accuracy: 0.9720\n",
      "Epoch 24/30\n",
      "1200/1200 [==============================] - 3s 2ms/step - loss: 0.0345 - accuracy: 0.9925 - val_loss: 0.1896 - val_accuracy: 0.9730\n",
      "Epoch 25/30\n",
      "1200/1200 [==============================] - 3s 2ms/step - loss: 0.0332 - accuracy: 0.9927 - val_loss: 0.1861 - val_accuracy: 0.9722\n",
      "Epoch 26/30\n",
      "1200/1200 [==============================] - 3s 2ms/step - loss: 0.0315 - accuracy: 0.9927 - val_loss: 0.2235 - val_accuracy: 0.9695\n",
      "Epoch 27/30\n",
      "1200/1200 [==============================] - 3s 2ms/step - loss: 0.0318 - accuracy: 0.9924 - val_loss: 0.2240 - val_accuracy: 0.9704\n",
      "Epoch 28/30\n",
      "1200/1200 [==============================] - 3s 2ms/step - loss: 0.0309 - accuracy: 0.9929 - val_loss: 0.2377 - val_accuracy: 0.9716\n",
      "Epoch 29/30\n",
      "1200/1200 [==============================] - 3s 2ms/step - loss: 0.0301 - accuracy: 0.9929 - val_loss: 0.2172 - val_accuracy: 0.9705\n",
      "Epoch 30/30\n",
      "1200/1200 [==============================] - 3s 2ms/step - loss: 0.0305 - accuracy: 0.9935 - val_loss: 0.2094 - val_accuracy: 0.9725\n",
      "Training took 85.61s\n"
     ]
    }
   ],
   "source": [
    "start=time.time()\n",
    "modelfit4 = model4.fit(X_train, y_train, epochs=30, validation_split=0.2)\n",
    "end=time.time()\n",
    "print(\"Training took {:.2f}s\".format(end - start))"
   ]
  },
  {
   "cell_type": "code",
   "execution_count": 52,
   "metadata": {},
   "outputs": [
    {
     "data": {
      "text/plain": [
       "dict_keys(['loss', 'accuracy', 'val_loss', 'val_accuracy'])"
      ]
     },
     "execution_count": 52,
     "metadata": {},
     "output_type": "execute_result"
    }
   ],
   "source": [
    "modelfit4.history.keys()"
   ]
  },
  {
   "cell_type": "code",
   "execution_count": 53,
   "metadata": {},
   "outputs": [
    {
     "data": {
      "image/png": "[encoded data removed]",
      "text/plain": [
       "<Figure size 576x360 with 1 Axes>"
      ]
     },
     "metadata": {
      "needs_background": "light"
     },
     "output_type": "display_data"
    }
   ],
   "source": [
    "# Learning curves: the mean training loss and accuracy measured over each epoch, and the mean validation loss and \n",
    "# accuracy measured at the end of each epoch\n",
    "pd.DataFrame(modelfit4.history).plot(figsize=(8, 5))\n",
    "plt.grid(True)\n",
    "plt.gca().set_ylim(0, 1)\n",
    "plt.show()"
   ]
  },
  {
   "cell_type": "code",
   "execution_count": 54,
   "metadata": {},
   "outputs": [
    {
     "name": "stdout",
     "output_type": "stream",
     "text": [
      "375/375 [==============================] - 1s 1ms/step - loss: 0.1771 - accuracy: 0.9742\n"
     ]
    },
    {
     "data": {
      "text/plain": [
       "[0.17708884179592133, 0.9741666913032532]"
      ]
     },
     "execution_count": 54,
     "metadata": {},
     "output_type": "execute_result"
    }
   ],
   "source": [
    "model4.evaluate(X_test, y_test)"
   ]
  },
  {
   "cell_type": "code",
   "execution_count": 55,
   "metadata": {},
   "outputs": [
    {
     "name": "stdout",
     "output_type": "stream",
     "text": [
      "WARNING:tensorflow:Model was constructed with shape (None, 28, 28) for input Tensor(\"flatten_3_input:0\", shape=(None, 28, 28), dtype=float32), but it was called on an input with incompatible shape (None, 784).\n"
     ]
    }
   ],
   "source": [
    "y_proba4 = model4.predict_classes(test_X)\n",
    "write_preds(y_proba4, \"mlp4.csv\")"
   ]
  },
  {
   "cell_type": "code",
   "execution_count": 56,
   "metadata": {},
   "outputs": [
    {
     "name": "stdout",
     "output_type": "stream",
     "text": [
      "WARNING:tensorflow:Model was constructed with shape (None, 28, 28) for input Tensor(\"flatten_3_input:0\", shape=(None, 28, 28), dtype=float32), but it was called on an input with incompatible shape (32, 784).\n"
     ]
    },
    {
     "data": {
      "image/png": "[encoded data removed]",
      "text/plain": [
       "<Figure size 720x432 with 2 Axes>"
      ]
     },
     "metadata": {
      "needs_background": "light"
     },
     "output_type": "display_data"
    }
   ],
   "source": [
    "y_pred4 = model4.predict(X_test)\n",
    "y_pred4_classes = np.argmax(y_pred4, axis=1)\n",
    "\n",
    "conf4 = confusion_matrix(y_true,y_pred4_classes)\n",
    "plot_confusion_matrix(conf4,classes = range(10))"
   ]
  },
  {
   "cell_type": "markdown",
   "metadata": {},
   "source": [
    "Model4 performed similar to model2 which indicates that 20 nodes will most likely perform better than 10 with added layers. The additional layer allows the model to fit closer to the data without overfitting. more nodes will overfit, more layers with generalize more precise predictions."
   ]
  },
  {
   "cell_type": "markdown",
   "metadata": {},
   "source": [
    " ## Model 5"
   ]
  },
  {
   "cell_type": "code",
   "execution_count": 57,
   "metadata": {},
   "outputs": [],
   "source": [
    "model5 = keras.models.Sequential([\n",
    "    keras.layers.Flatten(input_shape=[28, 28]),\n",
    "    keras.layers.Dense(128, activation ='relu'),\n",
    "    keras.layers.Dropout(0.15),\n",
    "    keras.layers.Dense(128, activation ='relu'),\n",
    "    keras.layers.Dropout(0.15),\n",
    "    keras.layers.Dense(10, activation=\"softmax\")\n",
    "])\n",
    "\n",
    "model5.compile(loss='categorical_crossentropy', optimizer='RMSprop', metrics = ['accuracy'])"
   ]
  },
  {
   "cell_type": "code",
   "execution_count": 58,
   "metadata": {},
   "outputs": [
    {
     "name": "stdout",
     "output_type": "stream",
     "text": [
      "Model: \"sequential_4\"\n",
      "_________________________________________________________________\n",
      "Layer (type)                 Output Shape              Param #   \n",
      "=================================================================\n",
      "flatten_4 (Flatten)          (None, 784)               0         \n",
      "_________________________________________________________________\n",
      "dense_14 (Dense)             (None, 128)               100480    \n",
      "_________________________________________________________________\n",
      "dropout (Dropout)            (None, 128)               0         \n",
      "_________________________________________________________________\n",
      "dense_15 (Dense)             (None, 128)               16512     \n",
      "_________________________________________________________________\n",
      "dropout_1 (Dropout)          (None, 128)               0         \n",
      "_________________________________________________________________\n",
      "dense_16 (Dense)             (None, 10)                1290      \n",
      "=================================================================\n",
      "Total params: 118,282\n",
      "Trainable params: 118,282\n",
      "Non-trainable params: 0\n",
      "_________________________________________________________________\n"
     ]
    }
   ],
   "source": [
    "model5.summary()"
   ]
  },
  {
   "cell_type": "code",
   "execution_count": 59,
   "metadata": {},
   "outputs": [
    {
     "name": "stdout",
     "output_type": "stream",
     "text": [
      "Epoch 1/30\n",
      "WARNING:tensorflow:Model was constructed with shape (None, 28, 28) for input Tensor(\"flatten_4_input:0\", shape=(None, 28, 28), dtype=float32), but it was called on an input with incompatible shape (32, 784).\n",
      "WARNING:tensorflow:Model was constructed with shape (None, 28, 28) for input Tensor(\"flatten_4_input:0\", shape=(None, 28, 28), dtype=float32), but it was called on an input with incompatible shape (32, 784).\n",
      "1194/1200 [============================>.] - ETA: 0s - loss: 0.1986 - accuracy: 0.9427WARNING:tensorflow:Model was constructed with shape (None, 28, 28) for input Tensor(\"flatten_4_input:0\", shape=(None, 28, 28), dtype=float32), but it was called on an input with incompatible shape (32, 784).\n",
      "1200/1200 [==============================] - 4s 3ms/step - loss: 0.1978 - accuracy: 0.9429 - val_loss: 0.0937 - val_accuracy: 0.9726\n",
      "Epoch 2/30\n",
      "1200/1200 [==============================] - 3s 2ms/step - loss: 0.0846 - accuracy: 0.9758 - val_loss: 0.0829 - val_accuracy: 0.9785\n",
      "Epoch 3/30\n",
      "1200/1200 [==============================] - 3s 2ms/step - loss: 0.0654 - accuracy: 0.9823 - val_loss: 0.0786 - val_accuracy: 0.9800\n",
      "Epoch 4/30\n",
      "1200/1200 [==============================] - 3s 2ms/step - loss: 0.0547 - accuracy: 0.9858 - val_loss: 0.0839 - val_accuracy: 0.9808\n",
      "Epoch 5/30\n",
      "1200/1200 [==============================] - 3s 3ms/step - loss: 0.0508 - accuracy: 0.9878 - val_loss: 0.0821 - val_accuracy: 0.9820\n",
      "Epoch 6/30\n",
      "1200/1200 [==============================] - 3s 2ms/step - loss: 0.0455 - accuracy: 0.9888 - val_loss: 0.0921 - val_accuracy: 0.9814\n",
      "Epoch 7/30\n",
      "1200/1200 [==============================] - 3s 2ms/step - loss: 0.0400 - accuracy: 0.9907 - val_loss: 0.0929 - val_accuracy: 0.9835\n",
      "Epoch 8/30\n",
      "1200/1200 [==============================] - 3s 3ms/step - loss: 0.0387 - accuracy: 0.9911 - val_loss: 0.0988 - val_accuracy: 0.9833\n",
      "Epoch 9/30\n",
      "1200/1200 [==============================] - 3s 2ms/step - loss: 0.0363 - accuracy: 0.9915 - val_loss: 0.0943 - val_accuracy: 0.9837\n",
      "Epoch 10/30\n",
      "1200/1200 [==============================] - 3s 2ms/step - loss: 0.0349 - accuracy: 0.9925 - val_loss: 0.1009 - val_accuracy: 0.9826\n",
      "Epoch 11/30\n",
      "1200/1200 [==============================] - 3s 2ms/step - loss: 0.0336 - accuracy: 0.9932 - val_loss: 0.1163 - val_accuracy: 0.9829\n",
      "Epoch 12/30\n",
      "1200/1200 [==============================] - 3s 2ms/step - loss: 0.0312 - accuracy: 0.9937 - val_loss: 0.1171 - val_accuracy: 0.9825\n",
      "Epoch 13/30\n",
      "1200/1200 [==============================] - 3s 2ms/step - loss: 0.0325 - accuracy: 0.9928 - val_loss: 0.1147 - val_accuracy: 0.9840\n",
      "Epoch 14/30\n",
      "1200/1200 [==============================] - 3s 2ms/step - loss: 0.0280 - accuracy: 0.9936 - val_loss: 0.1148 - val_accuracy: 0.9849\n",
      "Epoch 15/30\n",
      "1200/1200 [==============================] - 3s 2ms/step - loss: 0.0264 - accuracy: 0.9940 - val_loss: 0.1194 - val_accuracy: 0.9836\n",
      "Epoch 16/30\n",
      "1200/1200 [==============================] - 3s 2ms/step - loss: 0.0261 - accuracy: 0.9950 - val_loss: 0.1151 - val_accuracy: 0.9847\n",
      "Epoch 17/30\n",
      "1200/1200 [==============================] - 3s 2ms/step - loss: 0.0253 - accuracy: 0.9952 - val_loss: 0.1386 - val_accuracy: 0.9831\n",
      "Epoch 18/30\n",
      "1200/1200 [==============================] - 3s 2ms/step - loss: 0.0258 - accuracy: 0.9950 - val_loss: 0.1336 - val_accuracy: 0.9849\n",
      "Epoch 19/30\n",
      "1200/1200 [==============================] - 3s 2ms/step - loss: 0.0248 - accuracy: 0.9950 - val_loss: 0.1184 - val_accuracy: 0.9848\n",
      "Epoch 20/30\n",
      "1200/1200 [==============================] - 3s 2ms/step - loss: 0.0224 - accuracy: 0.9957 - val_loss: 0.1375 - val_accuracy: 0.9831\n",
      "Epoch 21/30\n",
      "1200/1200 [==============================] - 3s 2ms/step - loss: 0.0254 - accuracy: 0.9954 - val_loss: 0.1643 - val_accuracy: 0.9825\n",
      "Epoch 22/30\n",
      "1200/1200 [==============================] - 3s 2ms/step - loss: 0.0228 - accuracy: 0.9959 - val_loss: 0.1683 - val_accuracy: 0.9830\n",
      "Epoch 23/30\n",
      "1200/1200 [==============================] - 3s 2ms/step - loss: 0.0233 - accuracy: 0.9954 - val_loss: 0.1561 - val_accuracy: 0.9837\n",
      "Epoch 24/30\n",
      "1200/1200 [==============================] - 3s 2ms/step - loss: 0.0205 - accuracy: 0.9965 - val_loss: 0.1745 - val_accuracy: 0.9833\n",
      "Epoch 25/30\n",
      "1200/1200 [==============================] - 3s 2ms/step - loss: 0.0209 - accuracy: 0.9960 - val_loss: 0.1665 - val_accuracy: 0.9831\n",
      "Epoch 26/30\n",
      "1200/1200 [==============================] - 3s 2ms/step - loss: 0.0212 - accuracy: 0.9959 - val_loss: 0.1520 - val_accuracy: 0.9844\n",
      "Epoch 27/30\n",
      "1200/1200 [==============================] - 3s 2ms/step - loss: 0.0195 - accuracy: 0.9958 - val_loss: 0.1711 - val_accuracy: 0.9841\n",
      "Epoch 28/30\n",
      "1200/1200 [==============================] - 3s 2ms/step - loss: 0.0199 - accuracy: 0.9963 - val_loss: 0.1699 - val_accuracy: 0.9844\n",
      "Epoch 29/30\n",
      "1200/1200 [==============================] - 3s 2ms/step - loss: 0.0188 - accuracy: 0.9963 - val_loss: 0.1666 - val_accuracy: 0.9836\n",
      "Epoch 30/30\n",
      "1200/1200 [==============================] - 3s 2ms/step - loss: 0.0133 - accuracy: 0.9969 - val_loss: 0.1827 - val_accuracy: 0.9833\n",
      "Training took 89.74s\n"
     ]
    }
   ],
   "source": [
    "start=time.time()\n",
    "modelfit5 = model5.fit(X_train, y_train, epochs=30, validation_split=0.2)\n",
    "end=time.time()\n",
    "print(\"Training took {:.2f}s\".format(end - start))"
   ]
  },
  {
   "cell_type": "code",
   "execution_count": 60,
   "metadata": {},
   "outputs": [
    {
     "data": {
      "text/plain": [
       "dict_keys(['loss', 'accuracy', 'val_loss', 'val_accuracy'])"
      ]
     },
     "execution_count": 60,
     "metadata": {},
     "output_type": "execute_result"
    }
   ],
   "source": [
    "modelfit5.history.keys()"
   ]
  },
  {
   "cell_type": "code",
   "execution_count": 61,
   "metadata": {},
   "outputs": [
    {
     "data": {
      "image/png": "[encoded data removed]",
      "text/plain": [
       "<Figure size 576x360 with 1 Axes>"
      ]
     },
     "metadata": {
      "needs_background": "light"
     },
     "output_type": "display_data"
    }
   ],
   "source": [
    "# Learning curves: the mean training loss and accuracy measured over each epoch, and the mean validation loss and \n",
    "# accuracy measured at the end of each epoch\n",
    "pd.DataFrame(modelfit5.history).plot(figsize=(8, 5))\n",
    "plt.grid(True)\n",
    "plt.gca().set_ylim(0, 1)\n",
    "plt.show()"
   ]
  },
  {
   "cell_type": "code",
   "execution_count": 62,
   "metadata": {},
   "outputs": [
    {
     "name": "stdout",
     "output_type": "stream",
     "text": [
      "375/375 [==============================] - 0s 1ms/step - loss: 0.1822 - accuracy: 0.9864\n"
     ]
    },
    {
     "data": {
      "text/plain": [
       "[0.1821628361940384, 0.9864166378974915]"
      ]
     },
     "execution_count": 62,
     "metadata": {},
     "output_type": "execute_result"
    }
   ],
   "source": [
    "model5.evaluate(X_test, y_test)"
   ]
  },
  {
   "cell_type": "code",
   "execution_count": 63,
   "metadata": {},
   "outputs": [
    {
     "name": "stdout",
     "output_type": "stream",
     "text": [
      "WARNING:tensorflow:Model was constructed with shape (None, 28, 28) for input Tensor(\"flatten_4_input:0\", shape=(None, 28, 28), dtype=float32), but it was called on an input with incompatible shape (None, 784).\n"
     ]
    }
   ],
   "source": [
    "y_proba5 = model5.predict_classes(test_X)\n",
    "write_preds(y_proba5, \"mlp5.csv\")"
   ]
  },
  {
   "cell_type": "code",
   "execution_count": 64,
   "metadata": {},
   "outputs": [
    {
     "name": "stdout",
     "output_type": "stream",
     "text": [
      "WARNING:tensorflow:Model was constructed with shape (None, 28, 28) for input Tensor(\"flatten_4_input:0\", shape=(None, 28, 28), dtype=float32), but it was called on an input with incompatible shape (32, 784).\n"
     ]
    },
    {
     "data": {
      "image/png": "[encoded data removed]",
      "text/plain": [
       "<Figure size 720x432 with 2 Axes>"
      ]
     },
     "metadata": {
      "needs_background": "light"
     },
     "output_type": "display_data"
    }
   ],
   "source": [
    "y_pred5 = model5.predict(X_test)\n",
    "y_pred5_classes = np.argmax(y_pred5, axis=1)\n",
    "\n",
    "conf5=confusion_matrix(y_true,y_pred5_classes)\n",
    "plot_confusion_matrix(conf5, classes = range(10))"
   ]
  },
  {
   "cell_type": "markdown",
   "metadata": {},
   "source": [
    "Model5 was an additional set to determine if fitting to a model indluding dropout would help predictions.  The model performed very well against the training set.  The model intialized with a high score and slightly increased with each epoch."
   ]
  }
 ],
 "metadata": {
  "kernelspec": {
   "display_name": "Python 3",
   "language": "python",
   "name": "python3"
  },
  "language_info": {
   "codemirror_mode": {
    "name": "ipython",
    "version": 3
   },
   "file_extension": ".py",
   "mimetype": "text/x-python",
   "name": "python",
   "nbconvert_exporter": "python",
   "pygments_lexer": "ipython3",
   "version": "3.8.3"
  }
 },
 "nbformat": 4,
 "nbformat_minor": 4
}
