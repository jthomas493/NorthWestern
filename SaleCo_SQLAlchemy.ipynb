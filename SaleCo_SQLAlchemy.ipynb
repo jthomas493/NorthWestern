{
 "cells": [
  {
   "cell_type": "markdown",
   "metadata": {},
   "source": [
    "## Deliverables:\n",
    "\n",
    "- Submit two files that have the name: <font color = 'red'>YourLastName_Exercise_2</font> that include the following files:\n",
    "\n",
    " 1. An **HTML file** that has your Source code and output\n",
    " 2. Your **ipynb script** that has your Source code and output\n",
    "\n",
    "\n",
    "# Objectives:\n",
    "\n",
    "In this exercise, you will:\n",
    "\n",
    " - Perform data analysis tasks on data read from a CSV file and loaded into a DataFrame object\n",
    " - Use sqlalchemy to load data stored in a DatFrame object into sqlite database engine\n",
    " - Use sqlalchemy to connect to sqlite database engine to execute  SQL  queries\n",
    "\n",
    "\n",
    "Formatting Python Code\n",
    "When programming in Python, refer to Kenneth Reitz’ PEP 8: The Style Guide for Python Code:\n",
    "http://pep8.org/ (Links to an external site.)Links to an external site.\n",
    "There is the Google style guide for Python at\n",
    "https://google.github.io/styleguide/pyguide.html (Links to an external site.)Links to an external site.\n",
    "Comment often and in detail.\n"
   ]
  },
  {
   "cell_type": "code",
   "execution_count": 47,
   "metadata": {},
   "outputs": [],
   "source": [
    "# import libraries\n",
    "import os\n",
    "import pandas as pd \n",
    "import numpy as np  \n"
   ]
  },
  {
   "cell_type": "code",
   "execution_count": 48,
   "metadata": {},
   "outputs": [],
   "source": [
    "# allow muliple output in one cell window\n",
    "from IPython.core.interactiveshell import InteractiveShell\n",
    "InteractiveShell.ast_node_interactivity = \"all\""
   ]
  },
  {
   "cell_type": "code",
   "execution_count": 49,
   "metadata": {},
   "outputs": [
    {
     "output_type": "execute_result",
     "data": {
      "text/plain": [
       "ACCTNO                    object\n",
       "ZIP                        int64\n",
       "ZIP4                       int64\n",
       "LTD_SALES                float64\n",
       "LTD_TRANSACTIONS           int64\n",
       "YTD_SALES_2009           float64\n",
       "YTD_TRANSACTIONS_2009      int64\n",
       "CHANNEL_ACQUISITION       object\n",
       "BUYER_STATUS              object\n",
       "ZIP9_Supercode             int64\n",
       "ZIP9_SUPERCODE             int64\n",
       "dtype: object"
      ]
     },
     "metadata": {},
     "execution_count": 49
    }
   ],
   "source": [
    "# read in the file\n",
    "xyzcust10 = pd.read_csv('xyzcust10.csv')\n",
    "\n",
    "# what are the data types\n",
    "(xyzcust10).dtypes"
   ]
  },
  {
   "cell_type": "code",
   "execution_count": 50,
   "metadata": {},
   "outputs": [
    {
     "output_type": "stream",
     "name": "stdout",
     "text": [
      "<class 'pandas.core.frame.DataFrame'>\nRangeIndex: 30471 entries, 0 to 30470\nData columns (total 11 columns):\n #   Column                 Non-Null Count  Dtype  \n---  ------                 --------------  -----  \n 0   ACCTNO                 30471 non-null  object \n 1   ZIP                    30471 non-null  int64  \n 2   ZIP4                   30471 non-null  int64  \n 3   LTD_SALES              30471 non-null  float64\n 4   LTD_TRANSACTIONS       30471 non-null  int64  \n 5   YTD_SALES_2009         30471 non-null  float64\n 6   YTD_TRANSACTIONS_2009  30471 non-null  int64  \n 7   CHANNEL_ACQUISITION    30471 non-null  object \n 8   BUYER_STATUS           30471 non-null  object \n 9   ZIP9_Supercode         30471 non-null  int64  \n 10  ZIP9_SUPERCODE         30471 non-null  int64  \ndtypes: float64(2), int64(6), object(3)\nmemory usage: 2.6+ MB\n"
     ]
    }
   ],
   "source": [
    "# info compared to dtypes\n",
    "xyzcust10.info()"
   ]
  },
  {
   "cell_type": "code",
   "execution_count": 51,
   "metadata": {},
   "outputs": [
    {
     "output_type": "execute_result",
     "data": {
      "text/plain": [
       "2423473299264"
      ]
     },
     "metadata": {},
     "execution_count": 51
    },
    {
     "output_type": "execute_result",
     "data": {
      "text/plain": [
       "2423473299264"
      ]
     },
     "metadata": {},
     "execution_count": 51
    }
   ],
   "source": [
    "# all objects in python are given a unique id\n",
    "id(xyzcust10)\n",
    "\n",
    "# in this case the object 'test' is the same as object 'xyzcust10'\n",
    "# a change to either one changes both\n",
    "test = xyzcust10\n",
    "id(test)"
   ]
  },
  {
   "cell_type": "code",
   "execution_count": 52,
   "metadata": {},
   "outputs": [
    {
     "output_type": "stream",
     "name": "stdout",
     "text": [
      "<class 'pandas.core.frame.DataFrame'>\nRangeIndex: 30471 entries, 0 to 30470\nData columns (total 12 columns):\n #   Column                 Non-Null Count  Dtype  \n---  ------                 --------------  -----  \n 0   ACCTNO                 30471 non-null  object \n 1   ZIP                    30471 non-null  int64  \n 2   ZIP4                   30471 non-null  int64  \n 3   LTD_SALES              30471 non-null  float64\n 4   LTD_TRANSACTIONS       30471 non-null  int64  \n 5   YTD_SALES_2009         30471 non-null  float64\n 6   YTD_TRANSACTIONS_2009  30471 non-null  int64  \n 7   CHANNEL_ACQUISITION    30471 non-null  object \n 8   BUYER_STATUS           30471 non-null  object \n 9   ZIP9_Supercode         30471 non-null  int64  \n 10  ZIP9_SUPERCODE         30471 non-null  int64  \n 11  test                   30471 non-null  float64\ndtypes: float64(3), int64(6), object(3)\nmemory usage: 2.8+ MB\n<class 'pandas.core.frame.DataFrame'>\nRangeIndex: 30471 entries, 0 to 30470\nData columns (total 12 columns):\n #   Column                 Non-Null Count  Dtype  \n---  ------                 --------------  -----  \n 0   ACCTNO                 30471 non-null  object \n 1   ZIP                    30471 non-null  int64  \n 2   ZIP4                   30471 non-null  int64  \n 3   LTD_SALES              30471 non-null  float64\n 4   LTD_TRANSACTIONS       30471 non-null  int64  \n 5   YTD_SALES_2009         30471 non-null  float64\n 6   YTD_TRANSACTIONS_2009  30471 non-null  int64  \n 7   CHANNEL_ACQUISITION    30471 non-null  object \n 8   BUYER_STATUS           30471 non-null  object \n 9   ZIP9_Supercode         30471 non-null  int64  \n 10  ZIP9_SUPERCODE         30471 non-null  int64  \n 11  test                   30471 non-null  float64\ndtypes: float64(3), int64(6), object(3)\nmemory usage: 2.8+ MB\n"
     ]
    }
   ],
   "source": [
    "# want to see if these two objects are the same?\n",
    "# we added a column to test dataframe and it also added to xyzcust10!!!!\n",
    "# that is becuase they are the same object\n",
    "test['test'] = test['LTD_SALES']/test['LTD_TRANSACTIONS']\n",
    "test.info()\n",
    "xyzcust10.info()"
   ]
  },
  {
   "cell_type": "code",
   "execution_count": 53,
   "metadata": {},
   "outputs": [
    {
     "output_type": "execute_result",
     "data": {
      "text/plain": [
       "2423473299264"
      ]
     },
     "metadata": {},
     "execution_count": 53
    },
    {
     "output_type": "execute_result",
     "data": {
      "text/plain": [
       "2423306824000"
      ]
     },
     "metadata": {},
     "execution_count": 53
    },
    {
     "output_type": "execute_result",
     "data": {
      "text/plain": [
       "2423287128128"
      ]
     },
     "metadata": {},
     "execution_count": 53
    }
   ],
   "source": [
    "# make a copy and get differnt object ids\n",
    "# now you can independently manipulate each copy and leave the original intact\n",
    "xyzcust10red = xyzcust10.copy() \n",
    "\n",
    "xyzcust10rev1 = xyzcust10.copy() \n",
    "\n",
    "id(xyzcust10)\n",
    "id(xyzcust10red)\n",
    "id(xyzcust10rev1)"
   ]
  },
  {
   "cell_type": "code",
   "execution_count": 54,
   "metadata": {},
   "outputs": [
    {
     "output_type": "execute_result",
     "data": {
      "text/plain": [
       "pandas.core.frame.DataFrame"
      ]
     },
     "metadata": {},
     "execution_count": 54
    }
   ],
   "source": [
    "# working with a Pandas DataFrame\n",
    "type(xyzcust10)"
   ]
  },
  {
   "cell_type": "code",
   "execution_count": 55,
   "metadata": {},
   "outputs": [
    {
     "output_type": "execute_result",
     "data": {
      "text/plain": [
       "      ACCTNO    ZIP  ZIP4  LTD_SALES  LTD_TRANSACTIONS  YTD_SALES_2009  \\\n",
       "0  WDQQLLDQL  60084  5016       90.0                 1             0.0   \n",
       "1  WQWAYHYLA  60091  1750     4227.0                 9          1263.0   \n",
       "2  GSHAPLHAW  60067   900      420.0                 3           129.0   \n",
       "3  PGGYDYWAD  60068  3838     6552.0                 6             0.0   \n",
       "4  LWPSGPLLS  60090  3932      189.0                 3            72.0   \n",
       "\n",
       "   YTD_TRANSACTIONS_2009 CHANNEL_ACQUISITION BUYER_STATUS  ZIP9_Supercode  \\\n",
       "0                      0                  IB     INACTIVE       600845016   \n",
       "1                      3                  RT       ACTIVE       600911750   \n",
       "2                      1                  RT       ACTIVE       600670900   \n",
       "3                      0                  RT     INACTIVE       600683838   \n",
       "4                      1                  RT       ACTIVE       600903932   \n",
       "\n",
       "   ZIP9_SUPERCODE         test  \n",
       "0       600845016    90.000000  \n",
       "1       600911750   469.666667  \n",
       "2       600670900   140.000000  \n",
       "3       600683838  1092.000000  \n",
       "4       600903932    63.000000  "
      ],
      "text/html": "<div>\n<style scoped>\n    .dataframe tbody tr th:only-of-type {\n        vertical-align: middle;\n    }\n\n    .dataframe tbody tr th {\n        vertical-align: top;\n    }\n\n    .dataframe thead th {\n        text-align: right;\n    }\n</style>\n<table border=\"1\" class=\"dataframe\">\n  <thead>\n    <tr style=\"text-align: right;\">\n      <th></th>\n      <th>ACCTNO</th>\n      <th>ZIP</th>\n      <th>ZIP4</th>\n      <th>LTD_SALES</th>\n      <th>LTD_TRANSACTIONS</th>\n      <th>YTD_SALES_2009</th>\n      <th>YTD_TRANSACTIONS_2009</th>\n      <th>CHANNEL_ACQUISITION</th>\n      <th>BUYER_STATUS</th>\n      <th>ZIP9_Supercode</th>\n      <th>ZIP9_SUPERCODE</th>\n      <th>test</th>\n    </tr>\n  </thead>\n  <tbody>\n    <tr>\n      <th>0</th>\n      <td>WDQQLLDQL</td>\n      <td>60084</td>\n      <td>5016</td>\n      <td>90.0</td>\n      <td>1</td>\n      <td>0.0</td>\n      <td>0</td>\n      <td>IB</td>\n      <td>INACTIVE</td>\n      <td>600845016</td>\n      <td>600845016</td>\n      <td>90.000000</td>\n    </tr>\n    <tr>\n      <th>1</th>\n      <td>WQWAYHYLA</td>\n      <td>60091</td>\n      <td>1750</td>\n      <td>4227.0</td>\n      <td>9</td>\n      <td>1263.0</td>\n      <td>3</td>\n      <td>RT</td>\n      <td>ACTIVE</td>\n      <td>600911750</td>\n      <td>600911750</td>\n      <td>469.666667</td>\n    </tr>\n    <tr>\n      <th>2</th>\n      <td>GSHAPLHAW</td>\n      <td>60067</td>\n      <td>900</td>\n      <td>420.0</td>\n      <td>3</td>\n      <td>129.0</td>\n      <td>1</td>\n      <td>RT</td>\n      <td>ACTIVE</td>\n      <td>600670900</td>\n      <td>600670900</td>\n      <td>140.000000</td>\n    </tr>\n    <tr>\n      <th>3</th>\n      <td>PGGYDYWAD</td>\n      <td>60068</td>\n      <td>3838</td>\n      <td>6552.0</td>\n      <td>6</td>\n      <td>0.0</td>\n      <td>0</td>\n      <td>RT</td>\n      <td>INACTIVE</td>\n      <td>600683838</td>\n      <td>600683838</td>\n      <td>1092.000000</td>\n    </tr>\n    <tr>\n      <th>4</th>\n      <td>LWPSGPLLS</td>\n      <td>60090</td>\n      <td>3932</td>\n      <td>189.0</td>\n      <td>3</td>\n      <td>72.0</td>\n      <td>1</td>\n      <td>RT</td>\n      <td>ACTIVE</td>\n      <td>600903932</td>\n      <td>600903932</td>\n      <td>63.000000</td>\n    </tr>\n  </tbody>\n</table>\n</div>"
     },
     "metadata": {},
     "execution_count": 55
    },
    {
     "output_type": "execute_result",
     "data": {
      "text/plain": [
       "          ACCTNO    ZIP  ZIP4  LTD_SALES  LTD_TRANSACTIONS  YTD_SALES_2009  \\\n",
       "30466  SYDQYLSWH  60098  3951     2736.0                 9            96.0   \n",
       "30467  SAPDQHQLP  60098  9681     2412.0                 8           108.0   \n",
       "30468  SASYAPDSY  60098     0      429.0                 1             0.0   \n",
       "30469   PWQPDWHA  60098  7927      651.0                 1             0.0   \n",
       "30470  SQQHDYHWH  60098  4160     4527.0                16           672.0   \n",
       "\n",
       "       YTD_TRANSACTIONS_2009 CHANNEL_ACQUISITION BUYER_STATUS  ZIP9_Supercode  \\\n",
       "30466                      1                  RT       ACTIVE       600983951   \n",
       "30467                      1                  RT       ACTIVE       600989681   \n",
       "30468                      0                  RT     INACTIVE       600983858   \n",
       "30469                      0                  RT     INACTIVE       600987927   \n",
       "30470                      2                  RT       ACTIVE       600984160   \n",
       "\n",
       "       ZIP9_SUPERCODE      test  \n",
       "30466       600983951  304.0000  \n",
       "30467       600989681  301.5000  \n",
       "30468       600983858  429.0000  \n",
       "30469       600987927  651.0000  \n",
       "30470       600984160  282.9375  "
      ],
      "text/html": "<div>\n<style scoped>\n    .dataframe tbody tr th:only-of-type {\n        vertical-align: middle;\n    }\n\n    .dataframe tbody tr th {\n        vertical-align: top;\n    }\n\n    .dataframe thead th {\n        text-align: right;\n    }\n</style>\n<table border=\"1\" class=\"dataframe\">\n  <thead>\n    <tr style=\"text-align: right;\">\n      <th></th>\n      <th>ACCTNO</th>\n      <th>ZIP</th>\n      <th>ZIP4</th>\n      <th>LTD_SALES</th>\n      <th>LTD_TRANSACTIONS</th>\n      <th>YTD_SALES_2009</th>\n      <th>YTD_TRANSACTIONS_2009</th>\n      <th>CHANNEL_ACQUISITION</th>\n      <th>BUYER_STATUS</th>\n      <th>ZIP9_Supercode</th>\n      <th>ZIP9_SUPERCODE</th>\n      <th>test</th>\n    </tr>\n  </thead>\n  <tbody>\n    <tr>\n      <th>30466</th>\n      <td>SYDQYLSWH</td>\n      <td>60098</td>\n      <td>3951</td>\n      <td>2736.0</td>\n      <td>9</td>\n      <td>96.0</td>\n      <td>1</td>\n      <td>RT</td>\n      <td>ACTIVE</td>\n      <td>600983951</td>\n      <td>600983951</td>\n      <td>304.0000</td>\n    </tr>\n    <tr>\n      <th>30467</th>\n      <td>SAPDQHQLP</td>\n      <td>60098</td>\n      <td>9681</td>\n      <td>2412.0</td>\n      <td>8</td>\n      <td>108.0</td>\n      <td>1</td>\n      <td>RT</td>\n      <td>ACTIVE</td>\n      <td>600989681</td>\n      <td>600989681</td>\n      <td>301.5000</td>\n    </tr>\n    <tr>\n      <th>30468</th>\n      <td>SASYAPDSY</td>\n      <td>60098</td>\n      <td>0</td>\n      <td>429.0</td>\n      <td>1</td>\n      <td>0.0</td>\n      <td>0</td>\n      <td>RT</td>\n      <td>INACTIVE</td>\n      <td>600983858</td>\n      <td>600983858</td>\n      <td>429.0000</td>\n    </tr>\n    <tr>\n      <th>30469</th>\n      <td>PWQPDWHA</td>\n      <td>60098</td>\n      <td>7927</td>\n      <td>651.0</td>\n      <td>1</td>\n      <td>0.0</td>\n      <td>0</td>\n      <td>RT</td>\n      <td>INACTIVE</td>\n      <td>600987927</td>\n      <td>600987927</td>\n      <td>651.0000</td>\n    </tr>\n    <tr>\n      <th>30470</th>\n      <td>SQQHDYHWH</td>\n      <td>60098</td>\n      <td>4160</td>\n      <td>4527.0</td>\n      <td>16</td>\n      <td>672.0</td>\n      <td>2</td>\n      <td>RT</td>\n      <td>ACTIVE</td>\n      <td>600984160</td>\n      <td>600984160</td>\n      <td>282.9375</td>\n    </tr>\n  </tbody>\n</table>\n</div>"
     },
     "metadata": {},
     "execution_count": 55
    }
   ],
   "source": [
    "# check out the first five records\n",
    "xyzcust10.head()\n",
    "\n",
    "# check out the last five records\n",
    "xyzcust10.tail()"
   ]
  },
  {
   "cell_type": "raw",
   "metadata": {},
   "source": [
    "xyzcust10 appears to have two nine-digit ZIP “supercode” columns with slightly different column labels or names.  To see them, try entering xyzcust10.columns or xyzcust10.dtypes at the command prompt.  Are the values in these two columns the same?  If so, we can get rid of one of them.  There are different ways we can figure out whether they are the same, but a simple way is to test each pair of values to see if they are equal or not.\n"
   ]
  },
  {
   "cell_type": "code",
   "execution_count": 56,
   "metadata": {},
   "outputs": [
    {
     "output_type": "execute_result",
     "data": {
      "text/plain": [
       "Index(['ACCTNO', 'ZIP', 'ZIP4', 'LTD_SALES', 'LTD_TRANSACTIONS',\n",
       "       'YTD_SALES_2009', 'YTD_TRANSACTIONS_2009', 'CHANNEL_ACQUISITION',\n",
       "       'BUYER_STATUS', 'ZIP9_Supercode', 'ZIP9_SUPERCODE', 'test'],\n",
       "      dtype='object')"
      ]
     },
     "metadata": {},
     "execution_count": 56
    },
    {
     "output_type": "execute_result",
     "data": {
      "text/plain": [
       "list"
      ]
     },
     "metadata": {},
     "execution_count": 56
    },
    {
     "output_type": "execute_result",
     "data": {
      "text/plain": [
       "['ACCTNO',\n",
       " 'ZIP',\n",
       " 'ZIP4',\n",
       " 'LTD_SALES',\n",
       " 'LTD_TRANSACTIONS',\n",
       " 'YTD_SALES_2009',\n",
       " 'YTD_TRANSACTIONS_2009',\n",
       " 'CHANNEL_ACQUISITION',\n",
       " 'BUYER_STATUS',\n",
       " 'ZIP9_Supercode',\n",
       " 'ZIP9_SUPERCODE',\n",
       " 'test']"
      ]
     },
     "metadata": {},
     "execution_count": 56
    }
   ],
   "source": [
    "# check out the columns\n",
    "xyzcust10.columns\n",
    "\n",
    "# can put columns in a list - may come in handy sometime\n",
    "col_list = list(xyzcust10.columns)\n",
    "type(col_list)\n",
    "col_list"
   ]
  },
  {
   "cell_type": "code",
   "execution_count": 57,
   "metadata": {},
   "outputs": [
    {
     "output_type": "execute_result",
     "data": {
      "text/plain": [
       "0"
      ]
     },
     "metadata": {},
     "execution_count": 57
    }
   ],
   "source": [
    "# are the two zip code columns exactly the same\n",
    "# logical comparison\n",
    "(xyzcust10.ZIP9_Supercode != xyzcust10.ZIP9_SUPERCODE).sum()"
   ]
  },
  {
   "cell_type": "raw",
   "metadata": {},
   "source": [
    "So, Oops!  Someone included the same column in the data twice, but with slightly different names. Why waste the space?  Why risk confusion?  Let's get rid of one of them:\n",
    "\n",
    "We could do:\n"
   ]
  },
  {
   "cell_type": "code",
   "execution_count": 58,
   "metadata": {},
   "outputs": [],
   "source": [
    "# deletes the series in-place. Can only operate on one item at a time\n",
    "del xyzcust10['ZIP9_Supercode']\n",
    "del xyzcust10['test']\n",
    "\n",
    "del xyzcust10rev1['ZIP9_Supercode']\n",
    "del xyzcust10rev1['test']"
   ]
  },
  {
   "cell_type": "raw",
   "metadata": {},
   "source": [
    "or"
   ]
  },
  {
   "cell_type": "code",
   "execution_count": 59,
   "metadata": {},
   "outputs": [
    {
     "output_type": "stream",
     "name": "stdout",
     "text": [
      "<class 'pandas.core.frame.DataFrame'>\nRangeIndex: 30471 entries, 0 to 30470\nData columns (total 10 columns):\n #   Column                 Non-Null Count  Dtype  \n---  ------                 --------------  -----  \n 0   ACCTNO                 30471 non-null  object \n 1   ZIP                    30471 non-null  int64  \n 2   ZIP4                   30471 non-null  int64  \n 3   LTD_SALES              30471 non-null  float64\n 4   LTD_TRANSACTIONS       30471 non-null  int64  \n 5   YTD_SALES_2009         30471 non-null  float64\n 6   YTD_TRANSACTIONS_2009  30471 non-null  int64  \n 7   CHANNEL_ACQUISITION    30471 non-null  object \n 8   BUYER_STATUS           30471 non-null  object \n 9   ZIP9_SUPERCODE         30471 non-null  int64  \ndtypes: float64(2), int64(5), object(3)\nmemory usage: 2.3+ MB\n"
     ]
    }
   ],
   "source": [
    "# Pandas drop command\n",
    "xyzcust10red.drop(['ZIP9_Supercode','test'], axis=1, inplace=True)\n",
    "xyzcust10red.info()"
   ]
  },
  {
   "cell_type": "raw",
   "metadata": {},
   "source": [
    "Let's next look at xyz transactional data that is in a table in a SQLite3 relational database (“RDB”) file that's called xyz.db.  You should have put the xyz.db file you downloaded from Canvas in the same directory as your python code.\n",
    "\n",
    "You can use os.getcwd() to see your current directory."
   ]
  },
  {
   "cell_type": "code",
   "execution_count": 60,
   "metadata": {},
   "outputs": [
    {
     "output_type": "execute_result",
     "data": {
      "text/plain": [
       "'c:\\\\Users\\\\james\\\\Desktop\\\\DATA_SCIENCE\\\\NorthWestern\\\\Spring_2021\\\\MSDS_420\\\\Module_4'"
      ]
     },
     "metadata": {},
     "execution_count": 60
    }
   ],
   "source": [
    "os.getcwd()"
   ]
  },
  {
   "cell_type": "raw",
   "metadata": {},
   "source": [
    "If you installed the sqlite3 client, you can take a look at this database (“DB”) without using Python. sqlSQLite3 is a very simple and easy to use RDB, and it doesn't require a server.  Assuming that you've installed it and that you're in the directory where you put xyz.db, using the command from your OS command prompt:\n",
    "\n",
    "c:\\Users\\Sharon\\Desktop\\MSDS 420\\Mod 5 Exercise 3>sqlite3 xyz.db\n",
    "SQLite version 3.21.0 2017-10-24 18:55:49\n",
    "Enter \".help\" for usage hints.\n",
    "sqlite>\n",
    "\n",
    "will start sqlite3 and open the db file.  You can see the tables in this db with the sqlite3 command .tables .  (That's a period, “.” before tables. “Help” in sqlSQLite3 is .help  .)\n",
    "\n",
    "sqlite> .tables\n",
    "xyztrans\n",
    "sqlite> \n"
   ]
  },
  {
   "cell_type": "raw",
   "metadata": {},
   "source": [
    "There are a couple of different ways to read and write data to RDBs using Python, but the most flexible and easiest may be by using what's in pandas.  Pandas will make use of the SQLAlchemy package. SQLAlchemy provides a consistent interface with different RDBs, SQLite being one of them.\n",
    "\n",
    "Let's get SQLAlchemy into our IPython session:\n"
   ]
  },
  {
   "cell_type": "code",
   "execution_count": 61,
   "metadata": {},
   "outputs": [],
   "source": [
    "import sqlalchemy\n",
    "from sqlalchemy import create_engine"
   ]
  },
  {
   "cell_type": "raw",
   "metadata": {},
   "source": [
    "Now let's specify the xyz db as the SQLite3 RDB we want to work with:"
   ]
  },
  {
   "cell_type": "code",
   "execution_count": 62,
   "metadata": {},
   "outputs": [],
   "source": [
    "engine = create_engine('sqlite:///xyz.db')"
   ]
  },
  {
   "cell_type": "raw",
   "metadata": {},
   "source": [
    "This assumes that you have xyz.db in your current working directory.  There are different valid syntaxes, e.g.\n",
    "\n",
    "sqlite:///:memory: (or, sqlite://) \n",
    "sqlite:///relative/path/to/file.db \n",
    "sqlite:////absolute/path/to/file.db \n",
    "\n",
    "We used the second syntax, above.  Be sure to use the correct number of slashes for the version you want to use.  You need the enclosing single quotes, too.\n"
   ]
  },
  {
   "cell_type": "raw",
   "metadata": {},
   "source": [
    "There's only one table in this RDB.  It's called “xyztrans.” Let's read it into a DataFrame:"
   ]
  },
  {
   "cell_type": "code",
   "execution_count": 63,
   "metadata": {},
   "outputs": [
    {
     "output_type": "stream",
     "name": "stdout",
     "text": [
      "<class 'pandas.core.frame.DataFrame'>\nRangeIndex: 62395 entries, 0 to 62394\nData columns (total 9 columns):\n #   Column        Non-Null Count  Dtype  \n---  ------        --------------  -----  \n 0   index         62395 non-null  int64  \n 1   ACCTNO        62395 non-null  object \n 2   QTY           62395 non-null  int64  \n 3   TRANDATE      62395 non-null  object \n 4   TRAN_CHANNEL  62395 non-null  object \n 5   PRICE         62395 non-null  float64\n 6   TOTAMT        62395 non-null  float64\n 7   ORDERNO       62395 non-null  object \n 8   DEPTDESCR     62395 non-null  object \ndtypes: float64(2), int64(2), object(5)\nmemory usage: 4.3+ MB\n"
     ]
    }
   ],
   "source": [
    "# read in one table\n",
    "xyztrans = pd.read_sql('xyztrans', engine)\n",
    "xyztrans.info()"
   ]
  },
  {
   "cell_type": "raw",
   "metadata": {},
   "source": [
    "This db has only one table in it.  What if it had more than one, and you didn't know their names?  How would you know? Well, one way is to read some “metadata” from it:"
   ]
  },
  {
   "cell_type": "code",
   "execution_count": 64,
   "metadata": {},
   "outputs": [],
   "source": [
    "from sqlalchemy import schema"
   ]
  },
  {
   "cell_type": "code",
   "execution_count": 65,
   "metadata": {},
   "outputs": [],
   "source": [
    "xyzMetaData=schema.MetaData(bind=engine)\n",
    "xyzMetaData.reflect()"
   ]
  },
  {
   "cell_type": "code",
   "execution_count": 66,
   "metadata": {},
   "outputs": [
    {
     "output_type": "execute_result",
     "data": {
      "text/plain": [
       "immutabledict({'xyzcust': Table('xyzcust', MetaData(bind=Engine(sqlite:///xyz.db)), Column('index', BIGINT(), table=<xyzcust>), Column('ACCTNO', TEXT(), table=<xyzcust>), Column('ZIP', BIGINT(), table=<xyzcust>), Column('ZIP4', BIGINT(), table=<xyzcust>), Column('LTD_SALES', FLOAT(), table=<xyzcust>), Column('LTD_TRANSACTIONS', BIGINT(), table=<xyzcust>), Column('YTD_SALES_2009', FLOAT(), table=<xyzcust>), Column('YTD_TRANSACTIONS_2009', BIGINT(), table=<xyzcust>), Column('CHANNEL_ACQUISITION', TEXT(), table=<xyzcust>), Column('BUYER_STATUS', TEXT(), table=<xyzcust>), Column('ZIP9_SUPERCODE', BIGINT(), table=<xyzcust>), schema=None), 'xyztrans': Table('xyztrans', MetaData(bind=Engine(sqlite:///xyz.db)), Column('index', BIGINT(), table=<xyztrans>), Column('ACCTNO', TEXT(), table=<xyztrans>), Column('QTY', BIGINT(), table=<xyztrans>), Column('TRANDATE', TEXT(), table=<xyztrans>), Column('TRAN_CHANNEL', TEXT(), table=<xyztrans>), Column('PRICE', FLOAT(), table=<xyztrans>), Column('TOTAMT', FLOAT(), table=<xyztrans>), Column('ORDERNO', TEXT(), table=<xyztrans>), Column('DEPTDESCR', TEXT(), table=<xyztrans>), schema=None)})"
      ]
     },
     "metadata": {},
     "execution_count": 66
    }
   ],
   "source": [
    "xyzMetaData.tables"
   ]
  },
  {
   "cell_type": "raw",
   "metadata": {},
   "source": [
    "\n",
    "xyzMetaData.tables will be a dict that contains information about the db.  Tables will be keys in this dict:\n"
   ]
  },
  {
   "cell_type": "code",
   "execution_count": 67,
   "metadata": {},
   "outputs": [
    {
     "output_type": "execute_result",
     "data": {
      "text/plain": [
       "immutabledict({'xyztrans': Table('xyztrans', MetaData(bind=Engine(sqlite:///xyz.db)), Column('index', BIGINT(), table=<xyztrans>), Column('ACCTNO', TEXT(), table=<xyztrans>), Column('QTY', BIGINT(), table=<xyztrans>), Column('TRANDATE', TEXT(), table=<xyztrans>), Column('TRAN_CHANNEL', TEXT(), table=<xyztrans>), Column('PRICE', FLOAT(), table=<xyztrans>), Column('TOTAMT', FLOAT(), table=<xyztrans>), Column('ORDERNO', TEXT(), table=<xyztrans>), Column('DEPTDESCR', TEXT(), table=<xyztrans>), schema=None)})"
      ]
     },
     "metadata": {},
     "execution_count": 67
    }
   ],
   "source": [
    "# ----------------------------------------------------------------------------------\n",
    "# if you have run this code before, you will have xyzcust table in your database\n",
    "# to remove the table, you can run the code below\n",
    "# ----------------------------------------------------------------------------------\n",
    "sql = ('DROP TABLE IF EXISTS xyzcust;')\n",
    "result = engine.execute(sql)\n",
    "\n",
    "# you should only be able to see the xyztrans table\n",
    "xyzMetaData=schema.MetaData(bind=engine)\n",
    "xyzMetaData.reflect()\n",
    "xyzMetaData.tables"
   ]
  },
  {
   "cell_type": "code",
   "execution_count": 68,
   "metadata": {},
   "outputs": [
    {
     "output_type": "execute_result",
     "data": {
      "text/plain": [
       "dict_keys(['xyztrans'])"
      ]
     },
     "metadata": {},
     "execution_count": 68
    }
   ],
   "source": [
    "xyzMetaData.tables.keys()"
   ]
  },
  {
   "cell_type": "raw",
   "metadata": {},
   "source": [
    "\n",
    "At this point there's only one table name, 'xyztrans,” in xyz.db.  You'll see another method for inspecting DB's below.\n",
    "\n",
    "We're going to write the xyz customer records into a new table in the sqlite3 RDB, but before we do that let's make sure that the records are unique, that is, that no customer has more than one record.   We can do this with some pandas DataFrame methods.  Using the customer DataFrame xyzcust10rev1\n"
   ]
  },
  {
   "cell_type": "code",
   "execution_count": 69,
   "metadata": {},
   "outputs": [
    {
     "output_type": "execute_result",
     "data": {
      "text/plain": [
       "292"
      ]
     },
     "metadata": {},
     "execution_count": 69
    }
   ],
   "source": [
    "# lets check for row duplicates\n",
    "xyzcust10rev1.duplicated().sum()"
   ]
  },
  {
   "cell_type": "raw",
   "metadata": {},
   "source": [
    "will return a zero if all records are unique, or the number of rows in xyzcust10rev1 that are duplicates.  The reason is that the duplicated() method for the DataFrame returns a Series of Trues and Falses, a Boolean Series.  Summing over the Series forces the values to be cast as numeric.\n",
    "\n",
    "Oops.  There are some duplicates.  How many duplicates do you find in xyzcust10rev1? \n",
    "\n",
    "292 duplicate records"
   ]
  },
  {
   "cell_type": "raw",
   "metadata": {},
   "source": [
    "To rid a DataFrame of unduplicated rows, "
   ]
  },
  {
   "cell_type": "code",
   "execution_count": 70,
   "metadata": {},
   "outputs": [
    {
     "output_type": "execute_result",
     "data": {
      "text/plain": [
       "0"
      ]
     },
     "metadata": {},
     "execution_count": 70
    },
    {
     "output_type": "execute_result",
     "data": {
      "text/plain": [
       "2423287128128"
      ]
     },
     "metadata": {},
     "execution_count": 70
    },
    {
     "output_type": "execute_result",
     "data": {
      "text/plain": [
       "2422881964624"
      ]
     },
     "metadata": {},
     "execution_count": 70
    }
   ],
   "source": [
    "# drop duplicates and then make sure they are gone\n",
    "xyzcustUnDup = xyzcust10rev1.drop_duplicates()\n",
    "\n",
    "xyzcustUnDup.duplicated().sum()\n",
    "\n",
    "id(xyzcust10rev1)\n",
    "# a drop_duplicates creates a new object\n",
    "id(xyzcustUnDup)"
   ]
  },
  {
   "cell_type": "raw",
   "metadata": {},
   "source": [
    "\n",
    "How many unique customer records do you now have? 57276  By the way, note that you could have limited your examination to just one or more columns, for example just ACCTNO, customer account number, by providing ACCTNO as an argument or by using it to define a Series:\n"
   ]
  },
  {
   "cell_type": "code",
   "execution_count": 71,
   "metadata": {},
   "outputs": [
    {
     "output_type": "execute_result",
     "data": {
      "text/plain": [
       "57276"
      ]
     },
     "metadata": {},
     "execution_count": 71
    },
    {
     "output_type": "execute_result",
     "data": {
      "text/plain": [
       "ACCTNO                   30179\n",
       "ZIP                         37\n",
       "ZIP4                      6391\n",
       "LTD_SALES                 2568\n",
       "LTD_TRANSACTIONS            84\n",
       "YTD_SALES_2009            1068\n",
       "YTD_TRANSACTIONS_2009       25\n",
       "CHANNEL_ACQUISITION          3\n",
       "BUYER_STATUS                 3\n",
       "ZIP9_SUPERCODE           16918\n",
       "dtype: int64"
      ]
     },
     "metadata": {},
     "execution_count": 71
    }
   ],
   "source": [
    "xyzcustUnDup.nunique().sum()  #all unique records\n",
    "xyzcustUnDup.nunique()  #unique records by column"
   ]
  },
  {
   "cell_type": "code",
   "execution_count": 72,
   "metadata": {},
   "outputs": [
    {
     "output_type": "execute_result",
     "data": {
      "text/plain": [
       "292"
      ]
     },
     "metadata": {},
     "execution_count": 72
    }
   ],
   "source": [
    "xyzcust10rev1.duplicated('ACCTNO').sum()"
   ]
  },
  {
   "cell_type": "code",
   "execution_count": 73,
   "metadata": {},
   "outputs": [
    {
     "output_type": "execute_result",
     "data": {
      "text/plain": [
       "292"
      ]
     },
     "metadata": {},
     "execution_count": 73
    }
   ],
   "source": [
    "xyzcust10rev1.ACCTNO.duplicated().sum()"
   ]
  },
  {
   "cell_type": "raw",
   "metadata": {},
   "source": [
    "\n",
    "When there are duplicates of a record, which of them do you think .drop_duplicates() retains?\n",
    "\n",
    "Now that we've checked for, and have removed, duplicate customer records, from the customer records, let's write them into a new table in xyztrans.db. \n"
   ]
  },
  {
   "cell_type": "code",
   "execution_count": 74,
   "metadata": {},
   "outputs": [
    {
     "output_type": "execute_result",
     "data": {
      "text/plain": [
       "          ACCTNO    ZIP  ZIP4  LTD_SALES  LTD_TRANSACTIONS  YTD_SALES_2009  \\\n",
       "72      HLDDAAGS  60062     0      399.0                 4            54.0   \n",
       "111    GQQPHHPDW  60061     0      534.0                 1             0.0   \n",
       "203    AHAAQLYLH  60074  3112     1158.0                 8           444.0   \n",
       "258    WHDHWGQHW  60091  1850      405.0                 5             0.0   \n",
       "442    WGHADGQHY  60068  4958     2139.0                 6           189.0   \n",
       "...          ...    ...   ...        ...               ...             ...   \n",
       "29479  WHGGSASAW  60091  2133     2499.0                 5          1947.0   \n",
       "29639    SGLAHAP  60091  1836    13128.0                15          2901.0   \n",
       "29648  ASPALWHLD  60091  2045      324.0                 2             0.0   \n",
       "29669  AWGSGPSSW  60084  1712      339.0                 5             0.0   \n",
       "29871  AHPQHQSDQ  60062  4672      393.0                 2             0.0   \n",
       "\n",
       "       YTD_TRANSACTIONS_2009 CHANNEL_ACQUISITION BUYER_STATUS  ZIP9_SUPERCODE  \n",
       "72                         1                  CB       ACTIVE       600624525  \n",
       "111                        0                  IB     INACTIVE       600612311  \n",
       "203                        2                  RT       ACTIVE       600743112  \n",
       "258                        0                  RT     INACTIVE       600911850  \n",
       "442                        1                  RT       ACTIVE       600684958  \n",
       "...                      ...                 ...          ...             ...  \n",
       "29479                      4                  IB       ACTIVE       600912133  \n",
       "29639                      7                  RT       ACTIVE       600911836  \n",
       "29648                      0                  RT       LAPSED       600912045  \n",
       "29669                      0                  RT       LAPSED       600841712  \n",
       "29871                      0                  RT     INACTIVE       600624672  \n",
       "\n",
       "[292 rows x 10 columns]"
      ],
      "text/html": "<div>\n<style scoped>\n    .dataframe tbody tr th:only-of-type {\n        vertical-align: middle;\n    }\n\n    .dataframe tbody tr th {\n        vertical-align: top;\n    }\n\n    .dataframe thead th {\n        text-align: right;\n    }\n</style>\n<table border=\"1\" class=\"dataframe\">\n  <thead>\n    <tr style=\"text-align: right;\">\n      <th></th>\n      <th>ACCTNO</th>\n      <th>ZIP</th>\n      <th>ZIP4</th>\n      <th>LTD_SALES</th>\n      <th>LTD_TRANSACTIONS</th>\n      <th>YTD_SALES_2009</th>\n      <th>YTD_TRANSACTIONS_2009</th>\n      <th>CHANNEL_ACQUISITION</th>\n      <th>BUYER_STATUS</th>\n      <th>ZIP9_SUPERCODE</th>\n    </tr>\n  </thead>\n  <tbody>\n    <tr>\n      <th>72</th>\n      <td>HLDDAAGS</td>\n      <td>60062</td>\n      <td>0</td>\n      <td>399.0</td>\n      <td>4</td>\n      <td>54.0</td>\n      <td>1</td>\n      <td>CB</td>\n      <td>ACTIVE</td>\n      <td>600624525</td>\n    </tr>\n    <tr>\n      <th>111</th>\n      <td>GQQPHHPDW</td>\n      <td>60061</td>\n      <td>0</td>\n      <td>534.0</td>\n      <td>1</td>\n      <td>0.0</td>\n      <td>0</td>\n      <td>IB</td>\n      <td>INACTIVE</td>\n      <td>600612311</td>\n    </tr>\n    <tr>\n      <th>203</th>\n      <td>AHAAQLYLH</td>\n      <td>60074</td>\n      <td>3112</td>\n      <td>1158.0</td>\n      <td>8</td>\n      <td>444.0</td>\n      <td>2</td>\n      <td>RT</td>\n      <td>ACTIVE</td>\n      <td>600743112</td>\n    </tr>\n    <tr>\n      <th>258</th>\n      <td>WHDHWGQHW</td>\n      <td>60091</td>\n      <td>1850</td>\n      <td>405.0</td>\n      <td>5</td>\n      <td>0.0</td>\n      <td>0</td>\n      <td>RT</td>\n      <td>INACTIVE</td>\n      <td>600911850</td>\n    </tr>\n    <tr>\n      <th>442</th>\n      <td>WGHADGQHY</td>\n      <td>60068</td>\n      <td>4958</td>\n      <td>2139.0</td>\n      <td>6</td>\n      <td>189.0</td>\n      <td>1</td>\n      <td>RT</td>\n      <td>ACTIVE</td>\n      <td>600684958</td>\n    </tr>\n    <tr>\n      <th>...</th>\n      <td>...</td>\n      <td>...</td>\n      <td>...</td>\n      <td>...</td>\n      <td>...</td>\n      <td>...</td>\n      <td>...</td>\n      <td>...</td>\n      <td>...</td>\n      <td>...</td>\n    </tr>\n    <tr>\n      <th>29479</th>\n      <td>WHGGSASAW</td>\n      <td>60091</td>\n      <td>2133</td>\n      <td>2499.0</td>\n      <td>5</td>\n      <td>1947.0</td>\n      <td>4</td>\n      <td>IB</td>\n      <td>ACTIVE</td>\n      <td>600912133</td>\n    </tr>\n    <tr>\n      <th>29639</th>\n      <td>SGLAHAP</td>\n      <td>60091</td>\n      <td>1836</td>\n      <td>13128.0</td>\n      <td>15</td>\n      <td>2901.0</td>\n      <td>7</td>\n      <td>RT</td>\n      <td>ACTIVE</td>\n      <td>600911836</td>\n    </tr>\n    <tr>\n      <th>29648</th>\n      <td>ASPALWHLD</td>\n      <td>60091</td>\n      <td>2045</td>\n      <td>324.0</td>\n      <td>2</td>\n      <td>0.0</td>\n      <td>0</td>\n      <td>RT</td>\n      <td>LAPSED</td>\n      <td>600912045</td>\n    </tr>\n    <tr>\n      <th>29669</th>\n      <td>AWGSGPSSW</td>\n      <td>60084</td>\n      <td>1712</td>\n      <td>339.0</td>\n      <td>5</td>\n      <td>0.0</td>\n      <td>0</td>\n      <td>RT</td>\n      <td>LAPSED</td>\n      <td>600841712</td>\n    </tr>\n    <tr>\n      <th>29871</th>\n      <td>AHPQHQSDQ</td>\n      <td>60062</td>\n      <td>4672</td>\n      <td>393.0</td>\n      <td>2</td>\n      <td>0.0</td>\n      <td>0</td>\n      <td>RT</td>\n      <td>INACTIVE</td>\n      <td>600624672</td>\n    </tr>\n  </tbody>\n</table>\n<p>292 rows × 10 columns</p>\n</div>"
     },
     "metadata": {},
     "execution_count": 74
    }
   ],
   "source": [
    "xyzcust10rev1.loc[xyzcust10rev1.ACCTNO.duplicated()] #items that will be dropped as duplicates"
   ]
  },
  {
   "cell_type": "code",
   "execution_count": 75,
   "metadata": {},
   "outputs": [],
   "source": [
    "# add the data from the csv file into a new table in xyz database\n",
    "xyzcustUnDup.to_sql('xyzcust', engine)"
   ]
  },
  {
   "cell_type": "raw",
   "metadata": {},
   "source": [
    "Did it create the table in xyz.db?  Check:"
   ]
  },
  {
   "cell_type": "code",
   "execution_count": 76,
   "metadata": {},
   "outputs": [
    {
     "output_type": "execute_result",
     "data": {
      "text/plain": [
       "Index(['index', 'ACCTNO', 'ZIP', 'ZIP4', 'LTD_SALES', 'LTD_TRANSACTIONS',\n",
       "       'YTD_SALES_2009', 'YTD_TRANSACTIONS_2009', 'CHANNEL_ACQUISITION',\n",
       "       'BUYER_STATUS', 'ZIP9_SUPERCODE'],\n",
       "      dtype='object')"
      ]
     },
     "metadata": {},
     "execution_count": 76
    }
   ],
   "source": [
    "pd.read_sql_table('xyzcust', engine).columns"
   ]
  },
  {
   "cell_type": "raw",
   "metadata": {},
   "source": [
    "should produce the columns of the DataFrame you wrote to the db.  Remember that “engine” refers to the SQLite3 DB by way of defining the connection using SQLAlchemy's create_engine method.\n",
    "\n",
    "How many tables are there now in xyz.db?  And, what are their names? \n"
   ]
  },
  {
   "cell_type": "code",
   "execution_count": 77,
   "metadata": {},
   "outputs": [
    {
     "output_type": "execute_result",
     "data": {
      "text/plain": [
       "immutabledict({'xyzcust': Table('xyzcust', MetaData(bind=Engine(sqlite:///xyz.db)), Column('index', BIGINT(), table=<xyzcust>), Column('ACCTNO', TEXT(), table=<xyzcust>), Column('ZIP', BIGINT(), table=<xyzcust>), Column('ZIP4', BIGINT(), table=<xyzcust>), Column('LTD_SALES', FLOAT(), table=<xyzcust>), Column('LTD_TRANSACTIONS', BIGINT(), table=<xyzcust>), Column('YTD_SALES_2009', FLOAT(), table=<xyzcust>), Column('YTD_TRANSACTIONS_2009', BIGINT(), table=<xyzcust>), Column('CHANNEL_ACQUISITION', TEXT(), table=<xyzcust>), Column('BUYER_STATUS', TEXT(), table=<xyzcust>), Column('ZIP9_SUPERCODE', BIGINT(), table=<xyzcust>), schema=None), 'xyztrans': Table('xyztrans', MetaData(bind=Engine(sqlite:///xyz.db)), Column('index', BIGINT(), table=<xyztrans>), Column('ACCTNO', TEXT(), table=<xyztrans>), Column('QTY', BIGINT(), table=<xyztrans>), Column('TRANDATE', TEXT(), table=<xyztrans>), Column('TRAN_CHANNEL', TEXT(), table=<xyztrans>), Column('PRICE', FLOAT(), table=<xyztrans>), Column('TOTAMT', FLOAT(), table=<xyztrans>), Column('ORDERNO', TEXT(), table=<xyztrans>), Column('DEPTDESCR', TEXT(), table=<xyztrans>), schema=None)})"
      ]
     },
     "metadata": {},
     "execution_count": 77
    }
   ],
   "source": [
    "xyzMetaData=schema.MetaData(bind=engine)\n",
    "xyzMetaData.reflect()\n",
    "xyzMetaData.tables"
   ]
  },
  {
   "cell_type": "code",
   "execution_count": 78,
   "metadata": {},
   "outputs": [
    {
     "output_type": "execute_result",
     "data": {
      "text/plain": [
       "dict_keys(['xyzcust', 'xyztrans'])"
      ]
     },
     "metadata": {},
     "execution_count": 78
    }
   ],
   "source": [
    "xyzMetaData.tables.keys()"
   ]
  },
  {
   "cell_type": "raw",
   "metadata": {},
   "source": [
    "Another way to look at the metadata of an RDB using SQLAlchemy is by using the “inspect” method:"
   ]
  },
  {
   "cell_type": "code",
   "execution_count": 79,
   "metadata": {},
   "outputs": [
    {
     "output_type": "execute_result",
     "data": {
      "text/plain": [
       "MetaData(bind=Engine(sqlite:///xyz.db))"
      ]
     },
     "metadata": {},
     "execution_count": 79
    }
   ],
   "source": [
    "xyzMetaData"
   ]
  },
  {
   "cell_type": "code",
   "execution_count": 80,
   "metadata": {},
   "outputs": [
    {
     "output_type": "execute_result",
     "data": {
      "text/plain": [
       "['xyzcust', 'xyztrans']"
      ]
     },
     "metadata": {},
     "execution_count": 80
    }
   ],
   "source": [
    "from sqlalchemy import inspect\n",
    "insp = inspect(engine)\n",
    "insp.get_table_names()"
   ]
  },
  {
   "cell_type": "raw",
   "metadata": {},
   "source": [
    "You can use SQLAlchemy to query a DB so as to import selected records from an RDB.  You can also append records to existing tables in an RDB, create various kinds of DB indexes, and pretty much do everything you would do using standard SQL while interacting with an RDB using a client for it.   As a query example, suppose we wanted to select from the xyz tranaction data in the xyztrans.db all transactions made in XYZ's retail stores.  These are coded as RT in the table's TRAN_CHANNEL.  We could do:\n"
   ]
  },
  {
   "cell_type": "code",
   "execution_count": 81,
   "metadata": {},
   "outputs": [
    {
     "output_type": "execute_result",
     "data": {
      "text/plain": [
       "   index  ACCTNO  QTY   TRANDATE TRAN_CHANNEL   PRICE  TOTAMT       ORDERNO  \\\n",
       "0      0  WGDQLA    1  09JUN2009           RT  599.85  599.85  CCXXNNXXXXUX   \n",
       "1      1  WGDQLA    1  09JUN2009           RT   39.00   39.00  CCXXNNXXXXUX   \n",
       "2      2  WGDQLA    1  28NOV2009           RT   15.00   15.00  CCXNXXKXXXRI   \n",
       "3      3  WGDQLA    1  28NOV2009           RT   69.00   69.00  CCXNXXKXXXRI   \n",
       "4      4  WGDQLA    1  28NOV2009           RT   84.00   84.00  CCXNXXKXXXRI   \n",
       "\n",
       "          DEPTDESCR  \n",
       "0        Home Audio  \n",
       "1  Small Appliances  \n",
       "2  Small Appliances  \n",
       "3  Small Appliances  \n",
       "4  Small Appliances  "
      ],
      "text/html": "<div>\n<style scoped>\n    .dataframe tbody tr th:only-of-type {\n        vertical-align: middle;\n    }\n\n    .dataframe tbody tr th {\n        vertical-align: top;\n    }\n\n    .dataframe thead th {\n        text-align: right;\n    }\n</style>\n<table border=\"1\" class=\"dataframe\">\n  <thead>\n    <tr style=\"text-align: right;\">\n      <th></th>\n      <th>index</th>\n      <th>ACCTNO</th>\n      <th>QTY</th>\n      <th>TRANDATE</th>\n      <th>TRAN_CHANNEL</th>\n      <th>PRICE</th>\n      <th>TOTAMT</th>\n      <th>ORDERNO</th>\n      <th>DEPTDESCR</th>\n    </tr>\n  </thead>\n  <tbody>\n    <tr>\n      <th>0</th>\n      <td>0</td>\n      <td>WGDQLA</td>\n      <td>1</td>\n      <td>09JUN2009</td>\n      <td>RT</td>\n      <td>599.85</td>\n      <td>599.85</td>\n      <td>CCXXNNXXXXUX</td>\n      <td>Home Audio</td>\n    </tr>\n    <tr>\n      <th>1</th>\n      <td>1</td>\n      <td>WGDQLA</td>\n      <td>1</td>\n      <td>09JUN2009</td>\n      <td>RT</td>\n      <td>39.00</td>\n      <td>39.00</td>\n      <td>CCXXNNXXXXUX</td>\n      <td>Small Appliances</td>\n    </tr>\n    <tr>\n      <th>2</th>\n      <td>2</td>\n      <td>WGDQLA</td>\n      <td>1</td>\n      <td>28NOV2009</td>\n      <td>RT</td>\n      <td>15.00</td>\n      <td>15.00</td>\n      <td>CCXNXXKXXXRI</td>\n      <td>Small Appliances</td>\n    </tr>\n    <tr>\n      <th>3</th>\n      <td>3</td>\n      <td>WGDQLA</td>\n      <td>1</td>\n      <td>28NOV2009</td>\n      <td>RT</td>\n      <td>69.00</td>\n      <td>69.00</td>\n      <td>CCXNXXKXXXRI</td>\n      <td>Small Appliances</td>\n    </tr>\n    <tr>\n      <th>4</th>\n      <td>4</td>\n      <td>WGDQLA</td>\n      <td>1</td>\n      <td>28NOV2009</td>\n      <td>RT</td>\n      <td>84.00</td>\n      <td>84.00</td>\n      <td>CCXNXXKXXXRI</td>\n      <td>Small Appliances</td>\n    </tr>\n  </tbody>\n</table>\n</div>"
     },
     "metadata": {},
     "execution_count": 81
    }
   ],
   "source": [
    "# create an easy to read SQL statement\n",
    "rttrans = pd.read_sql_query(\"SELECT * \\\n",
    "                             FROM xyztrans \\\n",
    "                             WHERE TRAN_CHANNEL='RT'\", engine)\n",
    "rttrans.head()"
   ]
  },
  {
   "cell_type": "code",
   "execution_count": 82,
   "metadata": {},
   "outputs": [
    {
     "output_type": "execute_result",
     "data": {
      "text/plain": [
       "   index  ACCTNO  QTY   TRANDATE TRAN_CHANNEL   PRICE  TOTAMT       ORDERNO  \\\n",
       "0      0  WGDQLA    1  09JUN2009           RT  599.85  599.85  CCXXNNXXXXUX   \n",
       "1      1  WGDQLA    1  09JUN2009           RT   39.00   39.00  CCXXNNXXXXUX   \n",
       "2      2  WGDQLA    1  28NOV2009           RT   15.00   15.00  CCXNXXKXXXRI   \n",
       "3      3  WGDQLA    1  28NOV2009           RT   69.00   69.00  CCXNXXKXXXRI   \n",
       "4      4  WGDQLA    1  28NOV2009           RT   84.00   84.00  CCXNXXKXXXRI   \n",
       "\n",
       "          DEPTDESCR  \n",
       "0        Home Audio  \n",
       "1  Small Appliances  \n",
       "2  Small Appliances  \n",
       "3  Small Appliances  \n",
       "4  Small Appliances  "
      ],
      "text/html": "<div>\n<style scoped>\n    .dataframe tbody tr th:only-of-type {\n        vertical-align: middle;\n    }\n\n    .dataframe tbody tr th {\n        vertical-align: top;\n    }\n\n    .dataframe thead th {\n        text-align: right;\n    }\n</style>\n<table border=\"1\" class=\"dataframe\">\n  <thead>\n    <tr style=\"text-align: right;\">\n      <th></th>\n      <th>index</th>\n      <th>ACCTNO</th>\n      <th>QTY</th>\n      <th>TRANDATE</th>\n      <th>TRAN_CHANNEL</th>\n      <th>PRICE</th>\n      <th>TOTAMT</th>\n      <th>ORDERNO</th>\n      <th>DEPTDESCR</th>\n    </tr>\n  </thead>\n  <tbody>\n    <tr>\n      <th>0</th>\n      <td>0</td>\n      <td>WGDQLA</td>\n      <td>1</td>\n      <td>09JUN2009</td>\n      <td>RT</td>\n      <td>599.85</td>\n      <td>599.85</td>\n      <td>CCXXNNXXXXUX</td>\n      <td>Home Audio</td>\n    </tr>\n    <tr>\n      <th>1</th>\n      <td>1</td>\n      <td>WGDQLA</td>\n      <td>1</td>\n      <td>09JUN2009</td>\n      <td>RT</td>\n      <td>39.00</td>\n      <td>39.00</td>\n      <td>CCXXNNXXXXUX</td>\n      <td>Small Appliances</td>\n    </tr>\n    <tr>\n      <th>2</th>\n      <td>2</td>\n      <td>WGDQLA</td>\n      <td>1</td>\n      <td>28NOV2009</td>\n      <td>RT</td>\n      <td>15.00</td>\n      <td>15.00</td>\n      <td>CCXNXXKXXXRI</td>\n      <td>Small Appliances</td>\n    </tr>\n    <tr>\n      <th>3</th>\n      <td>3</td>\n      <td>WGDQLA</td>\n      <td>1</td>\n      <td>28NOV2009</td>\n      <td>RT</td>\n      <td>69.00</td>\n      <td>69.00</td>\n      <td>CCXNXXKXXXRI</td>\n      <td>Small Appliances</td>\n    </tr>\n    <tr>\n      <th>4</th>\n      <td>4</td>\n      <td>WGDQLA</td>\n      <td>1</td>\n      <td>28NOV2009</td>\n      <td>RT</td>\n      <td>84.00</td>\n      <td>84.00</td>\n      <td>CCXNXXKXXXRI</td>\n      <td>Small Appliances</td>\n    </tr>\n  </tbody>\n</table>\n</div>"
     },
     "metadata": {},
     "execution_count": 82
    }
   ],
   "source": [
    "# don't like using the \\ as shown above, then can use the triple single quotes\n",
    "rttrans1 = pd.read_sql_query('''SELECT * \n",
    "                             FROM xyztrans \n",
    "                             WHERE TRAN_CHANNEL=\"RT\"''', engine)\n",
    "rttrans1.head()"
   ]
  },
  {
   "cell_type": "code",
   "execution_count": 83,
   "metadata": {},
   "outputs": [
    {
     "output_type": "execute_result",
     "data": {
      "text/plain": [
       "   index  ACCTNO  QTY   TRANDATE TRAN_CHANNEL   PRICE  TOTAMT       ORDERNO  \\\n",
       "0      0  WGDQLA    1  09JUN2009           RT  599.85  599.85  CCXXNNXXXXUX   \n",
       "1      1  WGDQLA    1  09JUN2009           RT   39.00   39.00  CCXXNNXXXXUX   \n",
       "2      2  WGDQLA    1  28NOV2009           RT   15.00   15.00  CCXNXXKXXXRI   \n",
       "3      3  WGDQLA    1  28NOV2009           RT   69.00   69.00  CCXNXXKXXXRI   \n",
       "4      4  WGDQLA    1  28NOV2009           RT   84.00   84.00  CCXNXXKXXXRI   \n",
       "\n",
       "          DEPTDESCR  \n",
       "0        Home Audio  \n",
       "1  Small Appliances  \n",
       "2  Small Appliances  \n",
       "3  Small Appliances  \n",
       "4  Small Appliances  "
      ],
      "text/html": "<div>\n<style scoped>\n    .dataframe tbody tr th:only-of-type {\n        vertical-align: middle;\n    }\n\n    .dataframe tbody tr th {\n        vertical-align: top;\n    }\n\n    .dataframe thead th {\n        text-align: right;\n    }\n</style>\n<table border=\"1\" class=\"dataframe\">\n  <thead>\n    <tr style=\"text-align: right;\">\n      <th></th>\n      <th>index</th>\n      <th>ACCTNO</th>\n      <th>QTY</th>\n      <th>TRANDATE</th>\n      <th>TRAN_CHANNEL</th>\n      <th>PRICE</th>\n      <th>TOTAMT</th>\n      <th>ORDERNO</th>\n      <th>DEPTDESCR</th>\n    </tr>\n  </thead>\n  <tbody>\n    <tr>\n      <th>0</th>\n      <td>0</td>\n      <td>WGDQLA</td>\n      <td>1</td>\n      <td>09JUN2009</td>\n      <td>RT</td>\n      <td>599.85</td>\n      <td>599.85</td>\n      <td>CCXXNNXXXXUX</td>\n      <td>Home Audio</td>\n    </tr>\n    <tr>\n      <th>1</th>\n      <td>1</td>\n      <td>WGDQLA</td>\n      <td>1</td>\n      <td>09JUN2009</td>\n      <td>RT</td>\n      <td>39.00</td>\n      <td>39.00</td>\n      <td>CCXXNNXXXXUX</td>\n      <td>Small Appliances</td>\n    </tr>\n    <tr>\n      <th>2</th>\n      <td>2</td>\n      <td>WGDQLA</td>\n      <td>1</td>\n      <td>28NOV2009</td>\n      <td>RT</td>\n      <td>15.00</td>\n      <td>15.00</td>\n      <td>CCXNXXKXXXRI</td>\n      <td>Small Appliances</td>\n    </tr>\n    <tr>\n      <th>3</th>\n      <td>3</td>\n      <td>WGDQLA</td>\n      <td>1</td>\n      <td>28NOV2009</td>\n      <td>RT</td>\n      <td>69.00</td>\n      <td>69.00</td>\n      <td>CCXNXXKXXXRI</td>\n      <td>Small Appliances</td>\n    </tr>\n    <tr>\n      <th>4</th>\n      <td>4</td>\n      <td>WGDQLA</td>\n      <td>1</td>\n      <td>28NOV2009</td>\n      <td>RT</td>\n      <td>84.00</td>\n      <td>84.00</td>\n      <td>CCXNXXKXXXRI</td>\n      <td>Small Appliances</td>\n    </tr>\n  </tbody>\n</table>\n</div>"
     },
     "metadata": {},
     "execution_count": 83
    }
   ],
   "source": [
    "# and another option\n",
    "qstring = '''SELECT * \n",
    "             FROM xyztrans \n",
    "             WHERE TRAN_CHANNEL=\"RT\"'''\n",
    "rttrans2 = pd.read_sql_query(qstring, engine)\n",
    "rttrans2.head()"
   ]
  },
  {
   "cell_type": "raw",
   "metadata": {},
   "source": [
    "\n",
    "A last point about SQLAlchemy:  it has its own declarative language that provides means of interacting with DB's that is more “object oriented” than traditional SQL is.  You can find lots of documentation about SQLAlchemy at http://www.sqlalchemy.org.\n"
   ]
  },
  {
   "cell_type": "code",
   "execution_count": 84,
   "metadata": {},
   "outputs": [
    {
     "output_type": "execute_result",
     "data": {
      "text/plain": [
       "   index     ACCTNO    ZIP  ZIP4  LTD_SALES  LTD_TRANSACTIONS  YTD_SALES_2009  \\\n",
       "0      0  WDQQLLDQL  60084  5016       90.0                 1             0.0   \n",
       "1      1  WQWAYHYLA  60091  1750     4227.0                 9          1263.0   \n",
       "2      2  GSHAPLHAW  60067   900      420.0                 3           129.0   \n",
       "3      3  PGGYDYWAD  60068  3838     6552.0                 6             0.0   \n",
       "4      4  LWPSGPLLS  60090  3932      189.0                 3            72.0   \n",
       "\n",
       "   YTD_TRANSACTIONS_2009 CHANNEL_ACQUISITION BUYER_STATUS  ZIP9_SUPERCODE  \n",
       "0                      0                  IB     INACTIVE       600845016  \n",
       "1                      3                  RT       ACTIVE       600911750  \n",
       "2                      1                  RT       ACTIVE       600670900  \n",
       "3                      0                  RT     INACTIVE       600683838  \n",
       "4                      1                  RT       ACTIVE       600903932  "
      ],
      "text/html": "<div>\n<style scoped>\n    .dataframe tbody tr th:only-of-type {\n        vertical-align: middle;\n    }\n\n    .dataframe tbody tr th {\n        vertical-align: top;\n    }\n\n    .dataframe thead th {\n        text-align: right;\n    }\n</style>\n<table border=\"1\" class=\"dataframe\">\n  <thead>\n    <tr style=\"text-align: right;\">\n      <th></th>\n      <th>index</th>\n      <th>ACCTNO</th>\n      <th>ZIP</th>\n      <th>ZIP4</th>\n      <th>LTD_SALES</th>\n      <th>LTD_TRANSACTIONS</th>\n      <th>YTD_SALES_2009</th>\n      <th>YTD_TRANSACTIONS_2009</th>\n      <th>CHANNEL_ACQUISITION</th>\n      <th>BUYER_STATUS</th>\n      <th>ZIP9_SUPERCODE</th>\n    </tr>\n  </thead>\n  <tbody>\n    <tr>\n      <th>0</th>\n      <td>0</td>\n      <td>WDQQLLDQL</td>\n      <td>60084</td>\n      <td>5016</td>\n      <td>90.0</td>\n      <td>1</td>\n      <td>0.0</td>\n      <td>0</td>\n      <td>IB</td>\n      <td>INACTIVE</td>\n      <td>600845016</td>\n    </tr>\n    <tr>\n      <th>1</th>\n      <td>1</td>\n      <td>WQWAYHYLA</td>\n      <td>60091</td>\n      <td>1750</td>\n      <td>4227.0</td>\n      <td>9</td>\n      <td>1263.0</td>\n      <td>3</td>\n      <td>RT</td>\n      <td>ACTIVE</td>\n      <td>600911750</td>\n    </tr>\n    <tr>\n      <th>2</th>\n      <td>2</td>\n      <td>GSHAPLHAW</td>\n      <td>60067</td>\n      <td>900</td>\n      <td>420.0</td>\n      <td>3</td>\n      <td>129.0</td>\n      <td>1</td>\n      <td>RT</td>\n      <td>ACTIVE</td>\n      <td>600670900</td>\n    </tr>\n    <tr>\n      <th>3</th>\n      <td>3</td>\n      <td>PGGYDYWAD</td>\n      <td>60068</td>\n      <td>3838</td>\n      <td>6552.0</td>\n      <td>6</td>\n      <td>0.0</td>\n      <td>0</td>\n      <td>RT</td>\n      <td>INACTIVE</td>\n      <td>600683838</td>\n    </tr>\n    <tr>\n      <th>4</th>\n      <td>4</td>\n      <td>LWPSGPLLS</td>\n      <td>60090</td>\n      <td>3932</td>\n      <td>189.0</td>\n      <td>3</td>\n      <td>72.0</td>\n      <td>1</td>\n      <td>RT</td>\n      <td>ACTIVE</td>\n      <td>600903932</td>\n    </tr>\n  </tbody>\n</table>\n</div>"
     },
     "metadata": {},
     "execution_count": 84
    }
   ],
   "source": [
    "# read in all customer data\n",
    "customers = pd.read_sql_query(\"SELECT * \\\n",
    "                                FROM xyzcust\", engine)\n",
    "# look at first 5 rows\n",
    "customers.head()"
   ]
  },
  {
   "cell_type": "code",
   "execution_count": 85,
   "metadata": {},
   "outputs": [
    {
     "output_type": "execute_result",
     "data": {
      "text/plain": [
       "   index  ACCTNO  QTY   TRANDATE TRAN_CHANNEL   PRICE  TOTAMT       ORDERNO  \\\n",
       "0      0  WGDQLA    1  09JUN2009           RT  599.85  599.85  CCXXNNXXXXUX   \n",
       "1      1  WGDQLA    1  09JUN2009           RT   39.00   39.00  CCXXNNXXXXUX   \n",
       "2      2  WGDQLA    1  28NOV2009           RT   15.00   15.00  CCXNXXKXXXRI   \n",
       "3      3  WGDQLA    1  28NOV2009           RT   69.00   69.00  CCXNXXKXXXRI   \n",
       "4      4  WGDQLA    1  28NOV2009           RT   84.00   84.00  CCXNXXKXXXRI   \n",
       "\n",
       "          DEPTDESCR  \n",
       "0        Home Audio  \n",
       "1  Small Appliances  \n",
       "2  Small Appliances  \n",
       "3  Small Appliances  \n",
       "4  Small Appliances  "
      ],
      "text/html": "<div>\n<style scoped>\n    .dataframe tbody tr th:only-of-type {\n        vertical-align: middle;\n    }\n\n    .dataframe tbody tr th {\n        vertical-align: top;\n    }\n\n    .dataframe thead th {\n        text-align: right;\n    }\n</style>\n<table border=\"1\" class=\"dataframe\">\n  <thead>\n    <tr style=\"text-align: right;\">\n      <th></th>\n      <th>index</th>\n      <th>ACCTNO</th>\n      <th>QTY</th>\n      <th>TRANDATE</th>\n      <th>TRAN_CHANNEL</th>\n      <th>PRICE</th>\n      <th>TOTAMT</th>\n      <th>ORDERNO</th>\n      <th>DEPTDESCR</th>\n    </tr>\n  </thead>\n  <tbody>\n    <tr>\n      <th>0</th>\n      <td>0</td>\n      <td>WGDQLA</td>\n      <td>1</td>\n      <td>09JUN2009</td>\n      <td>RT</td>\n      <td>599.85</td>\n      <td>599.85</td>\n      <td>CCXXNNXXXXUX</td>\n      <td>Home Audio</td>\n    </tr>\n    <tr>\n      <th>1</th>\n      <td>1</td>\n      <td>WGDQLA</td>\n      <td>1</td>\n      <td>09JUN2009</td>\n      <td>RT</td>\n      <td>39.00</td>\n      <td>39.00</td>\n      <td>CCXXNNXXXXUX</td>\n      <td>Small Appliances</td>\n    </tr>\n    <tr>\n      <th>2</th>\n      <td>2</td>\n      <td>WGDQLA</td>\n      <td>1</td>\n      <td>28NOV2009</td>\n      <td>RT</td>\n      <td>15.00</td>\n      <td>15.00</td>\n      <td>CCXNXXKXXXRI</td>\n      <td>Small Appliances</td>\n    </tr>\n    <tr>\n      <th>3</th>\n      <td>3</td>\n      <td>WGDQLA</td>\n      <td>1</td>\n      <td>28NOV2009</td>\n      <td>RT</td>\n      <td>69.00</td>\n      <td>69.00</td>\n      <td>CCXNXXKXXXRI</td>\n      <td>Small Appliances</td>\n    </tr>\n    <tr>\n      <th>4</th>\n      <td>4</td>\n      <td>WGDQLA</td>\n      <td>1</td>\n      <td>28NOV2009</td>\n      <td>RT</td>\n      <td>84.00</td>\n      <td>84.00</td>\n      <td>CCXNXXKXXXRI</td>\n      <td>Small Appliances</td>\n    </tr>\n  </tbody>\n</table>\n</div>"
     },
     "metadata": {},
     "execution_count": 85
    }
   ],
   "source": [
    "# read in all transactional data\n",
    "transactions = pd.read_sql_query(\"SELECT * \\\n",
    "                                    FROM xyztrans\", engine)\n",
    "# look at first five rows\n",
    "transactions.head()"
   ]
  },
  {
   "cell_type": "code",
   "execution_count": 86,
   "metadata": {},
   "outputs": [
    {
     "output_type": "execute_result",
     "data": {
      "text/plain": [
       "RT    53811\n",
       "IB     6373\n",
       "CB     2211\n",
       "Name: TRAN_CHANNEL, dtype: int64"
      ]
     },
     "metadata": {},
     "execution_count": 86
    },
    {
     "output_type": "execute_result",
     "data": {
      "text/plain": [
       "Mobile Electronic Accessories    18007\n",
       "Small Appliances                 15641\n",
       "Mobile Electronics               13063\n",
       "Home Audio                        7257\n",
       "Portable Electronics              5691\n",
       "Cameras & Camcorder Accessori     2732\n",
       "Appliances                           4\n",
       "Name: DEPTDESCR, dtype: int64"
      ]
     },
     "metadata": {},
     "execution_count": 86
    },
    {
     "output_type": "execute_result",
     "data": {
      "text/plain": [
       "60091    3422\n",
       "60093    3152\n",
       "60062    3059\n",
       "60067    3022\n",
       "60068    2754\n",
       "60089    1990\n",
       "60056    1515\n",
       "60074    1297\n",
       "60060    1283\n",
       "60061    1197\n",
       "60076    1081\n",
       "60069     776\n",
       "60077     735\n",
       "60084     717\n",
       "60073     678\n",
       "60090     644\n",
       "60098     562\n",
       "60070     458\n",
       "60085     377\n",
       "60083     342\n",
       "60081     318\n",
       "60087     264\n",
       "60097     150\n",
       "60096     122\n",
       "60071      97\n",
       "60064      41\n",
       "60072      34\n",
       "60088      28\n",
       "60078      25\n",
       "60065      21\n",
       "60075       5\n",
       "60094       4\n",
       "60082       3\n",
       "60079       2\n",
       "60192       2\n",
       "60095       1\n",
       "0           1\n",
       "Name: ZIP, dtype: int64"
      ]
     },
     "metadata": {},
     "execution_count": 86
    }
   ],
   "source": [
    "# now that you have read in your database into dataframes, you can use \n",
    "# the dataframes to analyze your data.\n",
    "\n",
    "# BUT FOR YOUR HOMEWORK, YOU ARE TO USE SQL \n",
    "\n",
    "transactions['TRAN_CHANNEL'].value_counts()\n",
    "\n",
    "transactions['DEPTDESCR'].value_counts()\n",
    "\n",
    "customers['ZIP'].value_counts()"
   ]
  },
  {
   "cell_type": "code",
   "execution_count": 87,
   "metadata": {},
   "outputs": [
    {
     "output_type": "execute_result",
     "data": {
      "text/plain": [
       "  TRAN_CHANNEL  Customers\n",
       "0           CB       2211\n",
       "1           IB       6373\n",
       "2           RT      53811"
      ],
      "text/html": "<div>\n<style scoped>\n    .dataframe tbody tr th:only-of-type {\n        vertical-align: middle;\n    }\n\n    .dataframe tbody tr th {\n        vertical-align: top;\n    }\n\n    .dataframe thead th {\n        text-align: right;\n    }\n</style>\n<table border=\"1\" class=\"dataframe\">\n  <thead>\n    <tr style=\"text-align: right;\">\n      <th></th>\n      <th>TRAN_CHANNEL</th>\n      <th>Customers</th>\n    </tr>\n  </thead>\n  <tbody>\n    <tr>\n      <th>0</th>\n      <td>CB</td>\n      <td>2211</td>\n    </tr>\n    <tr>\n      <th>1</th>\n      <td>IB</td>\n      <td>6373</td>\n    </tr>\n    <tr>\n      <th>2</th>\n      <td>RT</td>\n      <td>53811</td>\n    </tr>\n  </tbody>\n</table>\n</div>"
     },
     "metadata": {},
     "execution_count": 87
    }
   ],
   "source": [
    "# SQL groupby lets you summarize \n",
    "# https://www.sqlitetutorial.net/sqlite-group-by/\n",
    "\n",
    "channel = pd.read_sql_query(\"SELECT TRAN_CHANNEL, count(ACCTNO) as Customers  \\\n",
    "                             FROM xyztrans \\\n",
    "                             GROUP BY TRAN_CHANNEL\", engine)\n",
    "channel"
   ]
  },
  {
   "cell_type": "markdown",
   "metadata": {},
   "source": [
    "<div class=\"alert alert-block alert-warning\">\n",
    "\n",
    "# Requirements :\n",
    "\n",
    "### Note that all of your answers should use SQL and SQLAlchemy to answer the homework requirements.\n",
    "\n",
    "</div>"
   ]
  },
  {
   "cell_type": "markdown",
   "metadata": {},
   "source": [
    "### Requirement 1 (8 points)\n",
    "\n",
    "Show all customers (ACCTNO) that have over 10,000 dollar sales in 2009 and over 25,000 dollar sales in LTD_Sales. Display **ACCTNO, LTD_SALES** and **YTD_SALES_2009** columns."
   ]
  },
  {
   "cell_type": "code",
   "execution_count": 88,
   "metadata": {},
   "outputs": [
    {
     "output_type": "execute_result",
     "data": {
      "text/plain": [
       "      ACCTNO  LTD_SALES  YTD_SALES_2009\n",
       "0  LGYYAGQQA    47307.0         12684.0\n",
       "1  LLSYGYDAY  2247750.0        351000.0\n",
       "2    SAPYPAP   122352.0         28002.0\n",
       "3  SDAPWQHLD    40329.0         11616.0"
      ],
      "text/html": "<div>\n<style scoped>\n    .dataframe tbody tr th:only-of-type {\n        vertical-align: middle;\n    }\n\n    .dataframe tbody tr th {\n        vertical-align: top;\n    }\n\n    .dataframe thead th {\n        text-align: right;\n    }\n</style>\n<table border=\"1\" class=\"dataframe\">\n  <thead>\n    <tr style=\"text-align: right;\">\n      <th></th>\n      <th>ACCTNO</th>\n      <th>LTD_SALES</th>\n      <th>YTD_SALES_2009</th>\n    </tr>\n  </thead>\n  <tbody>\n    <tr>\n      <th>0</th>\n      <td>LGYYAGQQA</td>\n      <td>47307.0</td>\n      <td>12684.0</td>\n    </tr>\n    <tr>\n      <th>1</th>\n      <td>LLSYGYDAY</td>\n      <td>2247750.0</td>\n      <td>351000.0</td>\n    </tr>\n    <tr>\n      <th>2</th>\n      <td>SAPYPAP</td>\n      <td>122352.0</td>\n      <td>28002.0</td>\n    </tr>\n    <tr>\n      <th>3</th>\n      <td>SDAPWQHLD</td>\n      <td>40329.0</td>\n      <td>11616.0</td>\n    </tr>\n  </tbody>\n</table>\n</div>"
     },
     "metadata": {},
     "execution_count": 88
    }
   ],
   "source": [
    "req1 = pd.read_sql_query('''SELECT ACCTNO, LTD_SALES, YTD_SALES_2009\n",
    "                             FROM xyzcust\n",
    "                             WHERE LTD_SALES > 25000\n",
    "                             AND YTD_SALES_2009 > 10000'''\n",
    "                             , engine)\n",
    "req1"
   ]
  },
  {
   "cell_type": "markdown",
   "metadata": {},
   "source": [
    "### Requirement 2 (8 points)\n",
    "\n",
    "Show a list of customers that live in zip 60076 and have over 30 LTD Transactions. Display **ACCTNO, LTD_TRANSACTIONS,** and **ZIP** columns."
   ]
  },
  {
   "cell_type": "code",
   "execution_count": 89,
   "metadata": {},
   "outputs": [
    {
     "output_type": "execute_result",
     "data": {
      "text/plain": [
       "      ACCTNO  LTD_TRANSACTIONS    ZIP\n",
       "0  PHQQYAYQW                31  60076\n",
       "1  GGGSDSLQD                32  60076\n",
       "2  SPSAQHAGA                35  60076\n",
       "3  WWPYQDQDY                33  60076"
      ],
      "text/html": "<div>\n<style scoped>\n    .dataframe tbody tr th:only-of-type {\n        vertical-align: middle;\n    }\n\n    .dataframe tbody tr th {\n        vertical-align: top;\n    }\n\n    .dataframe thead th {\n        text-align: right;\n    }\n</style>\n<table border=\"1\" class=\"dataframe\">\n  <thead>\n    <tr style=\"text-align: right;\">\n      <th></th>\n      <th>ACCTNO</th>\n      <th>LTD_TRANSACTIONS</th>\n      <th>ZIP</th>\n    </tr>\n  </thead>\n  <tbody>\n    <tr>\n      <th>0</th>\n      <td>PHQQYAYQW</td>\n      <td>31</td>\n      <td>60076</td>\n    </tr>\n    <tr>\n      <th>1</th>\n      <td>GGGSDSLQD</td>\n      <td>32</td>\n      <td>60076</td>\n    </tr>\n    <tr>\n      <th>2</th>\n      <td>SPSAQHAGA</td>\n      <td>35</td>\n      <td>60076</td>\n    </tr>\n    <tr>\n      <th>3</th>\n      <td>WWPYQDQDY</td>\n      <td>33</td>\n      <td>60076</td>\n    </tr>\n  </tbody>\n</table>\n</div>"
     },
     "metadata": {},
     "execution_count": 89
    }
   ],
   "source": [
    "req2 = pd.read_sql_query('''SELECT ACCTNO, LTD_TRANSACTIONS, ZIP\n",
    "                             FROM xyzcust\n",
    "                             WHERE ZIP = 60076\n",
    "                             AND LTD_TRANSACTIONS > 30'''\n",
    "                             , engine)\n",
    "req2"
   ]
  },
  {
   "cell_type": "markdown",
   "metadata": {},
   "source": [
    "### Requirement 3 (8 points)\n",
    "\n",
    "List the inactive customers that had over 5,000 dollar LTD sales. Sort by LTD Sales with highest amount on top. Display the account number **(ACCTNO)** and the **LTD_SALES**."
   ]
  },
  {
   "cell_type": "code",
   "execution_count": 90,
   "metadata": {},
   "outputs": [
    {
     "output_type": "execute_result",
     "data": {
      "text/plain": [
       "       ACCTNO  LTD_SALES\n",
       "0   ALGHWHDDA    30696.0\n",
       "1   WDQPGQAPG    14946.0\n",
       "2   PLSPDWDSY    12078.0\n",
       "3   LQLAHQASW    11529.0\n",
       "4   GQDQPHGYS    10455.0\n",
       "5   ALDLSSASQ    10095.0\n",
       "6   GQQPYGPQW     8889.0\n",
       "7   LAQSDQYYW     8745.0\n",
       "8   LPDWWHDDA     8661.0\n",
       "9   AAYLYDYYS     8598.0\n",
       "10  PWLYYSADH     8178.0\n",
       "11  LSHHGGYGH     8022.0\n",
       "12  PWAYSDSSP     8007.0\n",
       "13  AGGAGDDGY     7980.0\n",
       "14  LAWPAAQLL     7806.0\n",
       "15   HGDPQQAA     7569.0\n",
       "16  PWLYGLHPQ     7308.0\n",
       "17  LQDSGYWAA     7263.0\n",
       "18  WHALPDQDD     7251.0\n",
       "19  WYWGQSWSL     7176.0\n",
       "20  LHAPWQDHL     7164.0\n",
       "21  LQYLAPHGG     7008.0\n",
       "22  SLLWSYPAW     6882.0\n",
       "23  LGWQHPLPS     6633.0\n",
       "24  PGGYDYWAD     6552.0\n",
       "25  LDLLHHDWH     6540.0\n",
       "26  AALHDLWAD     6516.0\n",
       "27  WPHYGHSGQ     6501.0\n",
       "28  LGWQSDHPP     6231.0\n",
       "29  AHLGPWASW     6186.0\n",
       "30  AGDDPGHWW     6042.0\n",
       "31   WGGLDYGP     6018.0\n",
       "32  WDGYGLPQG     5766.0\n",
       "33  ASPALWDQY     5739.0\n",
       "34  SSQYDGWSL     5709.0\n",
       "35   SPDADPWP     5697.0\n",
       "36  PAYLQAAQH     5610.0\n",
       "37  SSQYHSLQG     5601.0\n",
       "38  SLSHYGWLL     5472.0\n",
       "39  LGSDLWAAH     5346.0\n",
       "40  LQDYQLHPS     5346.0\n",
       "41  AGQGQAAQG     5337.0\n",
       "42  ASWSYSHHD     5283.0\n",
       "43  SHPYPPGPL     5145.0\n",
       "44  PGDDLDGAW     5058.0"
      ],
      "text/html": "<div>\n<style scoped>\n    .dataframe tbody tr th:only-of-type {\n        vertical-align: middle;\n    }\n\n    .dataframe tbody tr th {\n        vertical-align: top;\n    }\n\n    .dataframe thead th {\n        text-align: right;\n    }\n</style>\n<table border=\"1\" class=\"dataframe\">\n  <thead>\n    <tr style=\"text-align: right;\">\n      <th></th>\n      <th>ACCTNO</th>\n      <th>LTD_SALES</th>\n    </tr>\n  </thead>\n  <tbody>\n    <tr>\n      <th>0</th>\n      <td>ALGHWHDDA</td>\n      <td>30696.0</td>\n    </tr>\n    <tr>\n      <th>1</th>\n      <td>WDQPGQAPG</td>\n      <td>14946.0</td>\n    </tr>\n    <tr>\n      <th>2</th>\n      <td>PLSPDWDSY</td>\n      <td>12078.0</td>\n    </tr>\n    <tr>\n      <th>3</th>\n      <td>LQLAHQASW</td>\n      <td>11529.0</td>\n    </tr>\n    <tr>\n      <th>4</th>\n      <td>GQDQPHGYS</td>\n      <td>10455.0</td>\n    </tr>\n    <tr>\n      <th>5</th>\n      <td>ALDLSSASQ</td>\n      <td>10095.0</td>\n    </tr>\n    <tr>\n      <th>6</th>\n      <td>GQQPYGPQW</td>\n      <td>8889.0</td>\n    </tr>\n    <tr>\n      <th>7</th>\n      <td>LAQSDQYYW</td>\n      <td>8745.0</td>\n    </tr>\n    <tr>\n      <th>8</th>\n      <td>LPDWWHDDA</td>\n      <td>8661.0</td>\n    </tr>\n    <tr>\n      <th>9</th>\n      <td>AAYLYDYYS</td>\n      <td>8598.0</td>\n    </tr>\n    <tr>\n      <th>10</th>\n      <td>PWLYYSADH</td>\n      <td>8178.0</td>\n    </tr>\n    <tr>\n      <th>11</th>\n      <td>LSHHGGYGH</td>\n      <td>8022.0</td>\n    </tr>\n    <tr>\n      <th>12</th>\n      <td>PWAYSDSSP</td>\n      <td>8007.0</td>\n    </tr>\n    <tr>\n      <th>13</th>\n      <td>AGGAGDDGY</td>\n      <td>7980.0</td>\n    </tr>\n    <tr>\n      <th>14</th>\n      <td>LAWPAAQLL</td>\n      <td>7806.0</td>\n    </tr>\n    <tr>\n      <th>15</th>\n      <td>HGDPQQAA</td>\n      <td>7569.0</td>\n    </tr>\n    <tr>\n      <th>16</th>\n      <td>PWLYGLHPQ</td>\n      <td>7308.0</td>\n    </tr>\n    <tr>\n      <th>17</th>\n      <td>LQDSGYWAA</td>\n      <td>7263.0</td>\n    </tr>\n    <tr>\n      <th>18</th>\n      <td>WHALPDQDD</td>\n      <td>7251.0</td>\n    </tr>\n    <tr>\n      <th>19</th>\n      <td>WYWGQSWSL</td>\n      <td>7176.0</td>\n    </tr>\n    <tr>\n      <th>20</th>\n      <td>LHAPWQDHL</td>\n      <td>7164.0</td>\n    </tr>\n    <tr>\n      <th>21</th>\n      <td>LQYLAPHGG</td>\n      <td>7008.0</td>\n    </tr>\n    <tr>\n      <th>22</th>\n      <td>SLLWSYPAW</td>\n      <td>6882.0</td>\n    </tr>\n    <tr>\n      <th>23</th>\n      <td>LGWQHPLPS</td>\n      <td>6633.0</td>\n    </tr>\n    <tr>\n      <th>24</th>\n      <td>PGGYDYWAD</td>\n      <td>6552.0</td>\n    </tr>\n    <tr>\n      <th>25</th>\n      <td>LDLLHHDWH</td>\n      <td>6540.0</td>\n    </tr>\n    <tr>\n      <th>26</th>\n      <td>AALHDLWAD</td>\n      <td>6516.0</td>\n    </tr>\n    <tr>\n      <th>27</th>\n      <td>WPHYGHSGQ</td>\n      <td>6501.0</td>\n    </tr>\n    <tr>\n      <th>28</th>\n      <td>LGWQSDHPP</td>\n      <td>6231.0</td>\n    </tr>\n    <tr>\n      <th>29</th>\n      <td>AHLGPWASW</td>\n      <td>6186.0</td>\n    </tr>\n    <tr>\n      <th>30</th>\n      <td>AGDDPGHWW</td>\n      <td>6042.0</td>\n    </tr>\n    <tr>\n      <th>31</th>\n      <td>WGGLDYGP</td>\n      <td>6018.0</td>\n    </tr>\n    <tr>\n      <th>32</th>\n      <td>WDGYGLPQG</td>\n      <td>5766.0</td>\n    </tr>\n    <tr>\n      <th>33</th>\n      <td>ASPALWDQY</td>\n      <td>5739.0</td>\n    </tr>\n    <tr>\n      <th>34</th>\n      <td>SSQYDGWSL</td>\n      <td>5709.0</td>\n    </tr>\n    <tr>\n      <th>35</th>\n      <td>SPDADPWP</td>\n      <td>5697.0</td>\n    </tr>\n    <tr>\n      <th>36</th>\n      <td>PAYLQAAQH</td>\n      <td>5610.0</td>\n    </tr>\n    <tr>\n      <th>37</th>\n      <td>SSQYHSLQG</td>\n      <td>5601.0</td>\n    </tr>\n    <tr>\n      <th>38</th>\n      <td>SLSHYGWLL</td>\n      <td>5472.0</td>\n    </tr>\n    <tr>\n      <th>39</th>\n      <td>LGSDLWAAH</td>\n      <td>5346.0</td>\n    </tr>\n    <tr>\n      <th>40</th>\n      <td>LQDYQLHPS</td>\n      <td>5346.0</td>\n    </tr>\n    <tr>\n      <th>41</th>\n      <td>AGQGQAAQG</td>\n      <td>5337.0</td>\n    </tr>\n    <tr>\n      <th>42</th>\n      <td>ASWSYSHHD</td>\n      <td>5283.0</td>\n    </tr>\n    <tr>\n      <th>43</th>\n      <td>SHPYPPGPL</td>\n      <td>5145.0</td>\n    </tr>\n    <tr>\n      <th>44</th>\n      <td>PGDDLDGAW</td>\n      <td>5058.0</td>\n    </tr>\n  </tbody>\n</table>\n</div>"
     },
     "metadata": {},
     "execution_count": 90
    }
   ],
   "source": [
    "req3 = pd.read_sql_query('''SELECT ACCTNO, LTD_SALES\n",
    "                             FROM xyzcust\n",
    "                             WHERE LTD_SALES > 5000 \n",
    "                             AND BUYER_STATUS = 'INACTIVE'\n",
    "                             ORDER BY LTD_SALES DESC'''\n",
    "                             , engine)\n",
    "req3"
   ]
  },
  {
   "cell_type": "markdown",
   "metadata": {},
   "source": [
    "### Requirement 4 (8 points)\n",
    "\n",
    "Using SQL, get the same results as you would get from the following python command: <br>  transactions['DEPTDESCR'].value_counts()"
   ]
  },
  {
   "cell_type": "code",
   "execution_count": 91,
   "metadata": {},
   "outputs": [
    {
     "output_type": "execute_result",
     "data": {
      "text/plain": [
       "                       DEPTDESCR  COUNT(*)\n",
       "0  Mobile Electronic Accessories     18007\n",
       "1               Small Appliances     15641\n",
       "2             Mobile Electronics     13063\n",
       "3                     Home Audio      7257\n",
       "4           Portable Electronics      5691\n",
       "5  Cameras & Camcorder Accessori      2732\n",
       "6                     Appliances         4"
      ],
      "text/html": "<div>\n<style scoped>\n    .dataframe tbody tr th:only-of-type {\n        vertical-align: middle;\n    }\n\n    .dataframe tbody tr th {\n        vertical-align: top;\n    }\n\n    .dataframe thead th {\n        text-align: right;\n    }\n</style>\n<table border=\"1\" class=\"dataframe\">\n  <thead>\n    <tr style=\"text-align: right;\">\n      <th></th>\n      <th>DEPTDESCR</th>\n      <th>COUNT(*)</th>\n    </tr>\n  </thead>\n  <tbody>\n    <tr>\n      <th>0</th>\n      <td>Mobile Electronic Accessories</td>\n      <td>18007</td>\n    </tr>\n    <tr>\n      <th>1</th>\n      <td>Small Appliances</td>\n      <td>15641</td>\n    </tr>\n    <tr>\n      <th>2</th>\n      <td>Mobile Electronics</td>\n      <td>13063</td>\n    </tr>\n    <tr>\n      <th>3</th>\n      <td>Home Audio</td>\n      <td>7257</td>\n    </tr>\n    <tr>\n      <th>4</th>\n      <td>Portable Electronics</td>\n      <td>5691</td>\n    </tr>\n    <tr>\n      <th>5</th>\n      <td>Cameras &amp; Camcorder Accessori</td>\n      <td>2732</td>\n    </tr>\n    <tr>\n      <th>6</th>\n      <td>Appliances</td>\n      <td>4</td>\n    </tr>\n  </tbody>\n</table>\n</div>"
     },
     "metadata": {},
     "execution_count": 91
    },
    {
     "output_type": "execute_result",
     "data": {
      "text/plain": [
       "Mobile Electronic Accessories    18007\n",
       "Small Appliances                 15641\n",
       "Mobile Electronics               13063\n",
       "Home Audio                        7257\n",
       "Portable Electronics              5691\n",
       "Cameras & Camcorder Accessori     2732\n",
       "Appliances                           4\n",
       "Name: DEPTDESCR, dtype: int64"
      ]
     },
     "metadata": {},
     "execution_count": 91
    }
   ],
   "source": [
    "req4 = pd.read_sql_query('''SELECT DEPTDESCR, COUNT(*)\n",
    "                            FROM xyztrans\n",
    "                            GROUP BY DEPTDESCR\n",
    "                            ORDER BY COUNT() DESC'''\n",
    "                            , engine)\n",
    "req4\n",
    "\n",
    "transactions['DEPTDESCR'].value_counts()"
   ]
  },
  {
   "cell_type": "markdown",
   "metadata": {},
   "source": [
    "### Requirement 5 (8 points)\n",
    "\n",
    "Which customers purchased over 5,000 dollars in total from Home Audio (DEPTDESCR)?<br>\n",
    "Display **ACCTNO, ZIP, TOTAMT** and **DEPTDESCR**. <br>\n",
    "Remember that a customer could have purchased more than one item from the <br>\n",
    "Home Audio section and your output should show one line per customer with the total sales."
   ]
  },
  {
   "cell_type": "code",
   "execution_count": 92,
   "metadata": {},
   "outputs": [
    {
     "output_type": "execute_result",
     "data": {
      "text/plain": [
       "      ACCTNO    ZIP   TOTAMT   DEPTDESCR\n",
       "0   WLPALYSY  60067  5399.85  Home Audio\n",
       "1  AWALQSHAG  60093  5399.85  Home Audio\n",
       "2  ALDGDAQQA  60091  7499.85  Home Audio\n",
       "3  PQGDYASGS  60091  7499.85  Home Audio\n",
       "4  LHSGAAQLH  60084  7499.85  Home Audio\n",
       "5  GQGDSWGYW  60093  7499.85  Home Audio\n",
       "6  GWPLQQGGY  60067  5999.85  Home Audio"
      ],
      "text/html": "<div>\n<style scoped>\n    .dataframe tbody tr th:only-of-type {\n        vertical-align: middle;\n    }\n\n    .dataframe tbody tr th {\n        vertical-align: top;\n    }\n\n    .dataframe thead th {\n        text-align: right;\n    }\n</style>\n<table border=\"1\" class=\"dataframe\">\n  <thead>\n    <tr style=\"text-align: right;\">\n      <th></th>\n      <th>ACCTNO</th>\n      <th>ZIP</th>\n      <th>TOTAMT</th>\n      <th>DEPTDESCR</th>\n    </tr>\n  </thead>\n  <tbody>\n    <tr>\n      <th>0</th>\n      <td>WLPALYSY</td>\n      <td>60067</td>\n      <td>5399.85</td>\n      <td>Home Audio</td>\n    </tr>\n    <tr>\n      <th>1</th>\n      <td>AWALQSHAG</td>\n      <td>60093</td>\n      <td>5399.85</td>\n      <td>Home Audio</td>\n    </tr>\n    <tr>\n      <th>2</th>\n      <td>ALDGDAQQA</td>\n      <td>60091</td>\n      <td>7499.85</td>\n      <td>Home Audio</td>\n    </tr>\n    <tr>\n      <th>3</th>\n      <td>PQGDYASGS</td>\n      <td>60091</td>\n      <td>7499.85</td>\n      <td>Home Audio</td>\n    </tr>\n    <tr>\n      <th>4</th>\n      <td>LHSGAAQLH</td>\n      <td>60084</td>\n      <td>7499.85</td>\n      <td>Home Audio</td>\n    </tr>\n    <tr>\n      <th>5</th>\n      <td>GQGDSWGYW</td>\n      <td>60093</td>\n      <td>7499.85</td>\n      <td>Home Audio</td>\n    </tr>\n    <tr>\n      <th>6</th>\n      <td>GWPLQQGGY</td>\n      <td>60067</td>\n      <td>5999.85</td>\n      <td>Home Audio</td>\n    </tr>\n  </tbody>\n</table>\n</div>"
     },
     "metadata": {},
     "execution_count": 92
    }
   ],
   "source": [
    "req5 = pd.read_sql_query('''SELECT xyzcust.ACCTNO, xyzcust.ZIP, xyztrans.TOTAMT, xyztrans.DEPTDESCR\n",
    "                            FROM xyzcust\n",
    "                            INNER JOIN xyztrans\n",
    "                            ON xyzcust.ACCTNO = xyztrans.ACCTNO\n",
    "                            WHERE TOTAMT > 5000\n",
    "                            AND DEPTDESCR = 'Home Audio' '''\n",
    "                            , engine)\n",
    "req5\n"
   ]
  }
 ],
 "metadata": {
  "kernelspec": {
   "name": "python383jvsc74a57bd004ac14935f6ed29b3349ee8f41114d2dfa2ba78ce87cf701ad9b7ca15955b787",
   "display_name": "Python 3.8.3 64-bit ('base': conda)"
  },
  "language_info": {
   "codemirror_mode": {
    "name": "ipython",
    "version": 3
   },
   "file_extension": ".py",
   "mimetype": "text/x-python",
   "name": "python",
   "nbconvert_exporter": "python",
   "pygments_lexer": "ipython3",
   "version": "3.8.3"
  }
 },
 "nbformat": 4,
 "nbformat_minor": 1
}