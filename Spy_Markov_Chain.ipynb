{
 "cells": [
  {
   "cell_type": "code",
   "execution_count": 1,
   "metadata": {},
   "outputs": [
    {
     "name": "stderr",
     "output_type": "stream",
     "text": [
      "C:\\Users\\james\\anaconda3\\lib\\site-packages\\numpy\\_distributor_init.py:30: UserWarning: loaded more than 1 DLL from .libs:\n",
      "C:\\Users\\james\\anaconda3\\lib\\site-packages\\numpy\\.libs\\libopenblas.PYQHXLVVQ7VESDPUVUADXEVJOBGHJPAY.gfortran-win_amd64.dll\n",
      "C:\\Users\\james\\anaconda3\\lib\\site-packages\\numpy\\.libs\\libopenblas.WCDJNK7YVMPZQ2ME2ZZHJJRJ3JIKNDB7.gfortran-win_amd64.dll\n",
      "  warnings.warn(\"loaded more than 1 DLL from .libs:\"\n"
     ]
    }
   ],
   "source": [
    "%matplotlib inline\n",
    "\n",
    "from matplotlib import pyplot as plt\n",
    "import numpy as np\n",
    "import pandas as pd\n",
    "import seaborn as sns\n",
    "\n",
    "# some nice settings\n",
    "pd.set_option('precision', 5)\n",
    "sns.set_palette('Set2', 14)"
   ]
  },
  {
   "cell_type": "code",
   "execution_count": 16,
   "metadata": {},
   "outputs": [],
   "source": [
    "countries = ['Columbia', 'Venezuela', 'Guyana', 'Suriname', 'French_Guiana', 'Brazil', 'Uruguay','Argentina', 'Chile', 'Paraguay', 'Bolivia', 'Peru', 'Ecuador']"
   ]
  },
  {
   "cell_type": "code",
   "execution_count": 17,
   "metadata": {},
   "outputs": [
    {
     "name": "stdout",
     "output_type": "stream",
     "text": [
      "['Argentina', 'Bolivia', 'Brazil', 'Chile', 'Columbia', 'Ecuador', 'French_Guiana', 'Guyana', 'Paraguay', 'Peru', 'Suriname', 'Uruguay', 'Venezuela']\n"
     ]
    }
   ],
   "source": [
    "countries = sorted(countries)\n",
    "print (countries)"
   ]
  },
  {
   "cell_type": "code",
   "execution_count": 10,
   "metadata": {},
   "outputs": [],
   "source": [
    "adjacency = np.array([[0, 1, 1, 1, 0, 0, 0, 0, 1, 0, 0, 1, 0],\n",
    "                      [1, 0, 1, 1, 0, 0, 0, 0, 1, 1, 0, 0, 0],\n",
    "                      [1, 1, 0, 0, 1, 0, 1, 1, 1, 1, 1, 1, 1],\n",
    "                      [1, 1, 0, 0, 0, 0, 0, 0, 0, 1, 0, 0, 0],\n",
    "                      [0, 0, 1, 0, 0, 1, 0, 0, 0, 1, 0, 0, 1],\n",
    "                      [0, 0, 0, 0, 1, 0, 0, 0, 0, 1, 0, 0, 0],\n",
    "                      [0, 0, 1, 0, 0, 0, 0, 0, 0, 0, 1, 0, 0],\n",
    "                      [0, 0, 1, 0, 0, 0, 0, 0, 0, 0, 1, 0, 1],\n",
    "                      [1, 1, 1, 0, 0, 0, 0, 0, 0, 0, 0, 0, 0],\n",
    "                      [0, 1, 1, 1, 1, 1, 0, 0, 0, 0, 0, 0, 0],\n",
    "                      [0, 0, 1, 0, 0, 0, 1, 1, 0, 0, 0, 0, 0],\n",
    "                      [1, 0, 1, 0, 0, 0, 0, 0, 0, 0, 0, 0, 0],\n",
    "                      [0, 0, 1, 0, 1, 0, 0, 1, 0, 0, 0, 0, 0]])"
   ]
  },
  {
   "cell_type": "code",
   "execution_count": 11,
   "metadata": {},
   "outputs": [],
   "source": [
    "assert np.all(adjacency.T == adjacency)"
   ]
  },
  {
   "cell_type": "code",
   "execution_count": 12,
   "metadata": {},
   "outputs": [
    {
     "data": {
      "text/plain": [
       "array([0, 1, 1, 1, 0, 0, 0, 0, 1, 0, 0, 1, 0])"
      ]
     },
     "execution_count": 12,
     "metadata": {},
     "output_type": "execute_result"
    }
   ],
   "source": [
    "adjacency[0, :]"
   ]
  },
  {
   "cell_type": "code",
   "execution_count": 13,
   "metadata": {},
   "outputs": [
    {
     "data": {
      "text/plain": [
       "array([0. , 0.2, 0.2, 0.2, 0. , 0. , 0. , 0. , 0.2, 0. , 0. , 0.2, 0. ])"
      ]
     },
     "execution_count": 13,
     "metadata": {},
     "output_type": "execute_result"
    }
   ],
   "source": [
    "adjacency[0, :].astype(float)/adjacency[0, :].sum()"
   ]
  },
  {
   "cell_type": "code",
   "execution_count": 15,
   "metadata": {},
   "outputs": [
    {
     "name": "stdout",
     "output_type": "stream",
     "text": [
      "[[0.   0.2  0.2  0.2  0.   0.   0.   0.   0.2  0.   0.   0.2  0.  ]\n",
      " [0.2  0.   0.2  0.2  0.   0.   0.   0.   0.2  0.2  0.   0.   0.  ]\n",
      " [0.1  0.1  0.   0.   0.1  0.   0.1  0.1  0.1  0.1  0.1  0.1  0.1 ]\n",
      " [0.33 0.33 0.   0.   0.   0.   0.   0.   0.   0.33 0.   0.   0.  ]\n",
      " [0.   0.   0.25 0.   0.   0.25 0.   0.   0.   0.25 0.   0.   0.25]\n",
      " [0.   0.   0.   0.   0.5  0.   0.   0.   0.   0.5  0.   0.   0.  ]\n",
      " [0.   0.   0.5  0.   0.   0.   0.   0.   0.   0.   0.5  0.   0.  ]\n",
      " [0.   0.   0.33 0.   0.   0.   0.   0.   0.   0.   0.33 0.   0.33]\n",
      " [0.33 0.33 0.33 0.   0.   0.   0.   0.   0.   0.   0.   0.   0.  ]\n",
      " [0.   0.2  0.2  0.2  0.2  0.2  0.   0.   0.   0.   0.   0.   0.  ]\n",
      " [0.   0.   0.33 0.   0.   0.   0.33 0.33 0.   0.   0.   0.   0.  ]\n",
      " [0.5  0.   0.5  0.   0.   0.   0.   0.   0.   0.   0.   0.   0.  ]\n",
      " [0.   0.   0.33 0.   0.33 0.   0.   0.33 0.   0.   0.   0.   0.  ]]\n"
     ]
    }
   ],
   "source": [
    "A = adjacency.astype(float)\n",
    "\n",
    "# normalize by row\n",
    "for i in range(len(adjacency)):\n",
    "    A[i, :] /= A[i, :].sum()\n",
    "\n",
    "np.set_printoptions(precision=2)\n",
    "print (A)"
   ]
  },
  {
   "cell_type": "code",
   "execution_count": 18,
   "metadata": {},
   "outputs": [
    {
     "data": {
      "text/plain": [
       "Argentina        0.33333\n",
       "Bolivia          0.33333\n",
       "Brazil           0.00000\n",
       "Chile            0.00000\n",
       "Columbia         0.00000\n",
       "Ecuador          0.00000\n",
       "French_Guiana    0.00000\n",
       "Guyana           0.00000\n",
       "Paraguay         0.00000\n",
       "Peru             0.33333\n",
       "Suriname         0.00000\n",
       "Uruguay          0.00000\n",
       "Venezuela        0.00000\n",
       "dtype: float64"
      ]
     },
     "execution_count": 18,
     "metadata": {},
     "output_type": "execute_result"
    }
   ],
   "source": [
    "chile_idx = 3\n",
    "pd.Series(A[chile_idx], index=countries)"
   ]
  },
  {
   "cell_type": "code",
   "execution_count": 19,
   "metadata": {},
   "outputs": [
    {
     "data": {
      "text/plain": [
       "array([[0.],\n",
       "       [0.],\n",
       "       [0.],\n",
       "       [1.],\n",
       "       [0.],\n",
       "       [0.],\n",
       "       [0.],\n",
       "       [0.],\n",
       "       [0.],\n",
       "       [0.],\n",
       "       [0.],\n",
       "       [0.],\n",
       "       [0.]])"
      ]
     },
     "execution_count": 19,
     "metadata": {},
     "output_type": "execute_result"
    }
   ],
   "source": [
    "x = np.zeros((len(countries), 1), dtype=float)\n",
    "x[chile_idx] = 1\n",
    "x"
   ]
  },
  {
   "cell_type": "code",
   "execution_count": 20,
   "metadata": {},
   "outputs": [
    {
     "data": {
      "text/plain": [
       "Argentina        0.33333\n",
       "Bolivia          0.33333\n",
       "Brazil           0.00000\n",
       "Chile            0.00000\n",
       "Columbia         0.00000\n",
       "Ecuador          0.00000\n",
       "French_Guiana    0.00000\n",
       "Guyana           0.00000\n",
       "Paraguay         0.00000\n",
       "Peru             0.33333\n",
       "Suriname         0.00000\n",
       "Uruguay          0.00000\n",
       "Venezuela        0.00000\n",
       "dtype: float64"
      ]
     },
     "execution_count": 20,
     "metadata": {},
     "output_type": "execute_result"
    }
   ],
   "source": [
    "probs = np.dot(x.T, A)\n",
    "pd.Series(probs.ravel(), index=countries)"
   ]
  },
  {
   "cell_type": "code",
   "execution_count": 21,
   "metadata": {},
   "outputs": [
    {
     "data": {
      "text/plain": [
       "Argentina        0.06667\n",
       "Bolivia          0.13333\n",
       "Brazil           0.20000\n",
       "Chile            0.20000\n",
       "Columbia         0.06667\n",
       "Ecuador          0.06667\n",
       "French_Guiana    0.00000\n",
       "Guyana           0.00000\n",
       "Paraguay         0.13333\n",
       "Peru             0.06667\n",
       "Suriname         0.00000\n",
       "Uruguay          0.06667\n",
       "Venezuela        0.00000\n",
       "dtype: float64"
      ]
     },
     "execution_count": 21,
     "metadata": {},
     "output_type": "execute_result"
    }
   ],
   "source": [
    "probs = np.dot(x.T, np.dot(A, A))\n",
    "pd.Series(probs.ravel(), index=countries)"
   ]
  },
  {
   "cell_type": "code",
   "execution_count": 22,
   "metadata": {},
   "outputs": [],
   "source": [
    "def probability_vector(t):\n",
    "    \"\"\" probability of being in any country on day t \"\"\"\n",
    "    probs = np.dot(x.T, np.linalg.matrix_power(A, t))\n",
    "    return pd.Series(probs.ravel(), index=countries)"
   ]
  },
  {
   "cell_type": "code",
   "execution_count": 24,
   "metadata": {},
   "outputs": [
    {
     "data": {
      "image/png": "[encoded data removed]",
      "text/plain": [
       "<Figure size 432x288 with 1 Axes>"
      ]
     },
     "metadata": {
      "needs_background": "light"
     },
     "output_type": "display_data"
    }
   ],
   "source": [
    "# calculate the probabilities for 3 weeks out\n",
    "probs = probability_vector(3*7)\n",
    "\n",
    "# make a bar plot\n",
    "pos = np.arange(len(countries))\n",
    "rects = plt.barh(pos, probs)\n",
    "\n",
    "# label the bars with their actual values\n",
    "# see: http://matplotlib.org/examples/pylab_examples/barchart_demo2.html\n",
    "for i, rect in enumerate(rects):\n",
    "    plt.text(rect.get_width() - 0.0015,\n",
    "             rect.get_y() + rect.get_height()/2.0,\n",
    "             str(round(probs[i], 4)),\n",
    "             color='white',\n",
    "             horizontalalignment='right',\n",
    "             verticalalignment='center')\n",
    "\n",
    "# annotate the plot\n",
    "plt.yticks(pos + 0.5, countries)\n",
    "plt.xlim(0, 0.3)\n",
    "plt.ylim(-0.25, 13)\n",
    "plt.xlabel(r'$p(\\mathrm{spy\\ in\\ country\\ on\\ day\\ }t=21)$', fontsize=16)\n",
    "plt.show()"
   ]
  },
  {
   "cell_type": "code",
   "execution_count": 29,
   "metadata": {},
   "outputs": [
    {
     "data": {
      "text/html": [
       "<div>\n",
       "<style scoped>\n",
       "    .dataframe tbody tr th:only-of-type {\n",
       "        vertical-align: middle;\n",
       "    }\n",
       "\n",
       "    .dataframe tbody tr th {\n",
       "        vertical-align: top;\n",
       "    }\n",
       "\n",
       "    .dataframe thead th {\n",
       "        text-align: right;\n",
       "    }\n",
       "</style>\n",
       "<table border=\"1\" class=\"dataframe\">\n",
       "  <thead>\n",
       "    <tr style=\"text-align: right;\">\n",
       "      <th></th>\n",
       "      <th>0</th>\n",
       "      <th>1</th>\n",
       "      <th>2</th>\n",
       "      <th>3</th>\n",
       "      <th>5</th>\n",
       "      <th>6</th>\n",
       "      <th>7</th>\n",
       "      <th>14</th>\n",
       "      <th>21</th>\n",
       "      <th>30</th>\n",
       "      <th>60</th>\n",
       "      <th>90</th>\n",
       "      <th>180</th>\n",
       "      <th>365</th>\n",
       "    </tr>\n",
       "  </thead>\n",
       "  <tbody>\n",
       "    <tr>\n",
       "      <th>Argentina</th>\n",
       "      <td>0.0</td>\n",
       "      <td>0.33333</td>\n",
       "      <td>0.06667</td>\n",
       "      <td>0.19111</td>\n",
       "      <td>0.13266</td>\n",
       "      <td>0.10471</td>\n",
       "      <td>0.11207</td>\n",
       "      <td>0.10042</td>\n",
       "      <td>0.10003</td>\n",
       "      <td>0.10</td>\n",
       "      <td>0.10</td>\n",
       "      <td>0.10</td>\n",
       "      <td>0.10</td>\n",
       "      <td>0.10</td>\n",
       "    </tr>\n",
       "    <tr>\n",
       "      <th>Bolivia</th>\n",
       "      <td>0.0</td>\n",
       "      <td>0.33333</td>\n",
       "      <td>0.13333</td>\n",
       "      <td>0.15778</td>\n",
       "      <td>0.12078</td>\n",
       "      <td>0.11170</td>\n",
       "      <td>0.10859</td>\n",
       "      <td>0.10048</td>\n",
       "      <td>0.10003</td>\n",
       "      <td>0.10</td>\n",
       "      <td>0.10</td>\n",
       "      <td>0.10</td>\n",
       "      <td>0.10</td>\n",
       "      <td>0.10</td>\n",
       "    </tr>\n",
       "    <tr>\n",
       "      <th>Brazil</th>\n",
       "      <td>0.0</td>\n",
       "      <td>0.00000</td>\n",
       "      <td>0.20000</td>\n",
       "      <td>0.14778</td>\n",
       "      <td>0.18248</td>\n",
       "      <td>0.19378</td>\n",
       "      <td>0.19328</td>\n",
       "      <td>0.19967</td>\n",
       "      <td>0.19998</td>\n",
       "      <td>0.20</td>\n",
       "      <td>0.20</td>\n",
       "      <td>0.20</td>\n",
       "      <td>0.20</td>\n",
       "      <td>0.20</td>\n",
       "    </tr>\n",
       "    <tr>\n",
       "      <th>Chile</th>\n",
       "      <td>1.0</td>\n",
       "      <td>0.00000</td>\n",
       "      <td>0.20000</td>\n",
       "      <td>0.05333</td>\n",
       "      <td>0.06400</td>\n",
       "      <td>0.07495</td>\n",
       "      <td>0.06359</td>\n",
       "      <td>0.06040</td>\n",
       "      <td>0.06002</td>\n",
       "      <td>0.06</td>\n",
       "      <td>0.06</td>\n",
       "      <td>0.06</td>\n",
       "      <td>0.06</td>\n",
       "      <td>0.06</td>\n",
       "    </tr>\n",
       "    <tr>\n",
       "      <th>Columbia</th>\n",
       "      <td>0.0</td>\n",
       "      <td>0.00000</td>\n",
       "      <td>0.06667</td>\n",
       "      <td>0.06667</td>\n",
       "      <td>0.07566</td>\n",
       "      <td>0.07776</td>\n",
       "      <td>0.07837</td>\n",
       "      <td>0.07993</td>\n",
       "      <td>0.08000</td>\n",
       "      <td>0.08</td>\n",
       "      <td>0.08</td>\n",
       "      <td>0.08</td>\n",
       "      <td>0.08</td>\n",
       "      <td>0.08</td>\n",
       "    </tr>\n",
       "    <tr>\n",
       "      <th>Ecuador</th>\n",
       "      <td>0.0</td>\n",
       "      <td>0.00000</td>\n",
       "      <td>0.06667</td>\n",
       "      <td>0.03000</td>\n",
       "      <td>0.03782</td>\n",
       "      <td>0.04318</td>\n",
       "      <td>0.03975</td>\n",
       "      <td>0.04007</td>\n",
       "      <td>0.04000</td>\n",
       "      <td>0.04</td>\n",
       "      <td>0.04</td>\n",
       "      <td>0.04</td>\n",
       "      <td>0.04</td>\n",
       "      <td>0.04</td>\n",
       "    </tr>\n",
       "    <tr>\n",
       "      <th>French_Guiana</th>\n",
       "      <td>0.0</td>\n",
       "      <td>0.00000</td>\n",
       "      <td>0.00000</td>\n",
       "      <td>0.02000</td>\n",
       "      <td>0.02961</td>\n",
       "      <td>0.03194</td>\n",
       "      <td>0.03510</td>\n",
       "      <td>0.03969</td>\n",
       "      <td>0.03998</td>\n",
       "      <td>0.04</td>\n",
       "      <td>0.04</td>\n",
       "      <td>0.04</td>\n",
       "      <td>0.04</td>\n",
       "      <td>0.04</td>\n",
       "    </tr>\n",
       "    <tr>\n",
       "      <th>Guyana</th>\n",
       "      <td>0.0</td>\n",
       "      <td>0.00000</td>\n",
       "      <td>0.00000</td>\n",
       "      <td>0.02000</td>\n",
       "      <td>0.04232</td>\n",
       "      <td>0.04828</td>\n",
       "      <td>0.05219</td>\n",
       "      <td>0.05954</td>\n",
       "      <td>0.05997</td>\n",
       "      <td>0.06</td>\n",
       "      <td>0.06</td>\n",
       "      <td>0.06</td>\n",
       "      <td>0.06</td>\n",
       "      <td>0.06</td>\n",
       "    </tr>\n",
       "    <tr>\n",
       "      <th>Paraguay</th>\n",
       "      <td>0.0</td>\n",
       "      <td>0.00000</td>\n",
       "      <td>0.13333</td>\n",
       "      <td>0.06000</td>\n",
       "      <td>0.06398</td>\n",
       "      <td>0.06893</td>\n",
       "      <td>0.06266</td>\n",
       "      <td>0.06025</td>\n",
       "      <td>0.06001</td>\n",
       "      <td>0.06</td>\n",
       "      <td>0.06</td>\n",
       "      <td>0.06</td>\n",
       "      <td>0.06</td>\n",
       "      <td>0.06</td>\n",
       "    </tr>\n",
       "    <tr>\n",
       "      <th>Peru</th>\n",
       "      <td>0.0</td>\n",
       "      <td>0.33333</td>\n",
       "      <td>0.06667</td>\n",
       "      <td>0.16333</td>\n",
       "      <td>0.12130</td>\n",
       "      <td>0.10156</td>\n",
       "      <td>0.10773</td>\n",
       "      <td>0.10027</td>\n",
       "      <td>0.10002</td>\n",
       "      <td>0.10</td>\n",
       "      <td>0.10</td>\n",
       "      <td>0.10</td>\n",
       "      <td>0.10</td>\n",
       "      <td>0.10</td>\n",
       "    </tr>\n",
       "    <tr>\n",
       "      <th>Suriname</th>\n",
       "      <td>0.0</td>\n",
       "      <td>0.00000</td>\n",
       "      <td>0.00000</td>\n",
       "      <td>0.02000</td>\n",
       "      <td>0.04108</td>\n",
       "      <td>0.04716</td>\n",
       "      <td>0.05144</td>\n",
       "      <td>0.05949</td>\n",
       "      <td>0.05997</td>\n",
       "      <td>0.06</td>\n",
       "      <td>0.06</td>\n",
       "      <td>0.06</td>\n",
       "      <td>0.06</td>\n",
       "      <td>0.06</td>\n",
       "    </tr>\n",
       "    <tr>\n",
       "      <th>Uruguay</th>\n",
       "      <td>0.0</td>\n",
       "      <td>0.00000</td>\n",
       "      <td>0.06667</td>\n",
       "      <td>0.03333</td>\n",
       "      <td>0.03929</td>\n",
       "      <td>0.04478</td>\n",
       "      <td>0.04032</td>\n",
       "      <td>0.04010</td>\n",
       "      <td>0.04000</td>\n",
       "      <td>0.04</td>\n",
       "      <td>0.04</td>\n",
       "      <td>0.04</td>\n",
       "      <td>0.04</td>\n",
       "      <td>0.04</td>\n",
       "    </tr>\n",
       "    <tr>\n",
       "      <th>Venezuela</th>\n",
       "      <td>0.0</td>\n",
       "      <td>0.00000</td>\n",
       "      <td>0.00000</td>\n",
       "      <td>0.03667</td>\n",
       "      <td>0.04902</td>\n",
       "      <td>0.05127</td>\n",
       "      <td>0.05491</td>\n",
       "      <td>0.05969</td>\n",
       "      <td>0.05998</td>\n",
       "      <td>0.06</td>\n",
       "      <td>0.06</td>\n",
       "      <td>0.06</td>\n",
       "      <td>0.06</td>\n",
       "      <td>0.06</td>\n",
       "    </tr>\n",
       "  </tbody>\n",
       "</table>\n",
       "</div>"
      ],
      "text/plain": [
       "               0        1        2        3        5        6        7    \\\n",
       "Argentina      0.0  0.33333  0.06667  0.19111  0.13266  0.10471  0.11207   \n",
       "Bolivia        0.0  0.33333  0.13333  0.15778  0.12078  0.11170  0.10859   \n",
       "Brazil         0.0  0.00000  0.20000  0.14778  0.18248  0.19378  0.19328   \n",
       "Chile          1.0  0.00000  0.20000  0.05333  0.06400  0.07495  0.06359   \n",
       "Columbia       0.0  0.00000  0.06667  0.06667  0.07566  0.07776  0.07837   \n",
       "Ecuador        0.0  0.00000  0.06667  0.03000  0.03782  0.04318  0.03975   \n",
       "French_Guiana  0.0  0.00000  0.00000  0.02000  0.02961  0.03194  0.03510   \n",
       "Guyana         0.0  0.00000  0.00000  0.02000  0.04232  0.04828  0.05219   \n",
       "Paraguay       0.0  0.00000  0.13333  0.06000  0.06398  0.06893  0.06266   \n",
       "Peru           0.0  0.33333  0.06667  0.16333  0.12130  0.10156  0.10773   \n",
       "Suriname       0.0  0.00000  0.00000  0.02000  0.04108  0.04716  0.05144   \n",
       "Uruguay        0.0  0.00000  0.06667  0.03333  0.03929  0.04478  0.04032   \n",
       "Venezuela      0.0  0.00000  0.00000  0.03667  0.04902  0.05127  0.05491   \n",
       "\n",
       "                   14       21    30    60    90    180   365  \n",
       "Argentina      0.10042  0.10003  0.10  0.10  0.10  0.10  0.10  \n",
       "Bolivia        0.10048  0.10003  0.10  0.10  0.10  0.10  0.10  \n",
       "Brazil         0.19967  0.19998  0.20  0.20  0.20  0.20  0.20  \n",
       "Chile          0.06040  0.06002  0.06  0.06  0.06  0.06  0.06  \n",
       "Columbia       0.07993  0.08000  0.08  0.08  0.08  0.08  0.08  \n",
       "Ecuador        0.04007  0.04000  0.04  0.04  0.04  0.04  0.04  \n",
       "French_Guiana  0.03969  0.03998  0.04  0.04  0.04  0.04  0.04  \n",
       "Guyana         0.05954  0.05997  0.06  0.06  0.06  0.06  0.06  \n",
       "Paraguay       0.06025  0.06001  0.06  0.06  0.06  0.06  0.06  \n",
       "Peru           0.10027  0.10002  0.10  0.10  0.10  0.10  0.10  \n",
       "Suriname       0.05949  0.05997  0.06  0.06  0.06  0.06  0.06  \n",
       "Uruguay        0.04010  0.04000  0.04  0.04  0.04  0.04  0.04  \n",
       "Venezuela      0.05969  0.05998  0.06  0.06  0.06  0.06  0.06  "
      ]
     },
     "execution_count": 29,
     "metadata": {},
     "output_type": "execute_result"
    }
   ],
   "source": [
    "initial_state = {0: probability_vector(0)}\n",
    "comparison = pd.DataFrame(initial_state)\n",
    "\n",
    "days = [1, 2, 3, 5, 6, 7, 14, 21, 30, 60, 90, 180, 365]\n",
    "for t in days:\n",
    "    comparison[t] = probability_vector(t)\n",
    "    \n",
    "comparison"
   ]
  },
  {
   "cell_type": "code",
   "execution_count": 26,
   "metadata": {},
   "outputs": [
    {
     "data": {
      "image/png": "[encoded data removed]",
      "text/plain": [
       "<Figure size 432x288 with 1 Axes>"
      ]
     },
     "metadata": {
      "needs_background": "light"
     },
     "output_type": "display_data"
    }
   ],
   "source": [
    "ts = np.arange(100)\n",
    "\n",
    "for i, country in enumerate(countries):\n",
    "    plt.plot(ts, [probability_vector(t)[i] for t in ts], label=country)\n",
    "\n",
    "plt.xlabel('$t$', fontsize=16)\n",
    "plt.ylabel('$p(\\mathrm{country})$', fontsize=16)\n",
    "plt.ylim(0, 0.4)\n",
    "plt.legend(bbox_to_anchor=(1.35, 1), fontsize=14)\n",
    "plt.show()"
   ]
  },
  {
   "cell_type": "code",
   "execution_count": 27,
   "metadata": {},
   "outputs": [
    {
     "data": {
      "text/plain": [
       "array([[0.1 , 0.1 , 0.2 , 0.06, 0.08, 0.04, 0.04, 0.06, 0.06, 0.1 , 0.06,\n",
       "        0.04, 0.06],\n",
       "       [0.1 , 0.1 , 0.2 , 0.06, 0.08, 0.04, 0.04, 0.06, 0.06, 0.1 , 0.06,\n",
       "        0.04, 0.06],\n",
       "       [0.1 , 0.1 , 0.2 , 0.06, 0.08, 0.04, 0.04, 0.06, 0.06, 0.1 , 0.06,\n",
       "        0.04, 0.06],\n",
       "       [0.1 , 0.1 , 0.2 , 0.06, 0.08, 0.04, 0.04, 0.06, 0.06, 0.1 , 0.06,\n",
       "        0.04, 0.06],\n",
       "       [0.1 , 0.1 , 0.2 , 0.06, 0.08, 0.04, 0.04, 0.06, 0.06, 0.1 , 0.06,\n",
       "        0.04, 0.06],\n",
       "       [0.1 , 0.1 , 0.2 , 0.06, 0.08, 0.04, 0.04, 0.06, 0.06, 0.1 , 0.06,\n",
       "        0.04, 0.06],\n",
       "       [0.1 , 0.1 , 0.2 , 0.06, 0.08, 0.04, 0.04, 0.06, 0.06, 0.1 , 0.06,\n",
       "        0.04, 0.06],\n",
       "       [0.1 , 0.1 , 0.2 , 0.06, 0.08, 0.04, 0.04, 0.06, 0.06, 0.1 , 0.06,\n",
       "        0.04, 0.06],\n",
       "       [0.1 , 0.1 , 0.2 , 0.06, 0.08, 0.04, 0.04, 0.06, 0.06, 0.1 , 0.06,\n",
       "        0.04, 0.06],\n",
       "       [0.1 , 0.1 , 0.2 , 0.06, 0.08, 0.04, 0.04, 0.06, 0.06, 0.1 , 0.06,\n",
       "        0.04, 0.06],\n",
       "       [0.1 , 0.1 , 0.2 , 0.06, 0.08, 0.04, 0.04, 0.06, 0.06, 0.1 , 0.06,\n",
       "        0.04, 0.06],\n",
       "       [0.1 , 0.1 , 0.2 , 0.06, 0.08, 0.04, 0.04, 0.06, 0.06, 0.1 , 0.06,\n",
       "        0.04, 0.06],\n",
       "       [0.1 , 0.1 , 0.2 , 0.06, 0.08, 0.04, 0.04, 0.06, 0.06, 0.1 , 0.06,\n",
       "        0.04, 0.06]])"
      ]
     },
     "execution_count": 27,
     "metadata": {},
     "output_type": "execute_result"
    }
   ],
   "source": [
    "np.linalg.matrix_power(A, 3*7)"
   ]
  },
  {
   "cell_type": "code",
   "execution_count": 28,
   "metadata": {},
   "outputs": [
    {
     "data": {
      "text/plain": [
       "Argentina         5\n",
       "Bolivia           5\n",
       "Brazil           10\n",
       "Chile             3\n",
       "Columbia          4\n",
       "Ecuador           2\n",
       "French_Guiana     2\n",
       "Guyana            3\n",
       "Paraguay          3\n",
       "Peru              5\n",
       "Suriname          3\n",
       "Uruguay           2\n",
       "Venezuela         3\n",
       "dtype: int32"
      ]
     },
     "execution_count": 28,
     "metadata": {},
     "output_type": "execute_result"
    }
   ],
   "source": [
    "pd.Series(adjacency.sum(axis=1), index=countries)"
   ]
  },
  {
   "cell_type": "code",
   "execution_count": null,
   "metadata": {},
   "outputs": [],
   "source": []
  }
 ],
 "metadata": {
  "kernelspec": {
   "display_name": "Python 3",
   "language": "python",
   "name": "python3"
  },
  "language_info": {
   "codemirror_mode": {
    "name": "ipython",
    "version": 3
   },
   "file_extension": ".py",
   "mimetype": "text/x-python",
   "name": "python",
   "nbconvert_exporter": "python",
   "pygments_lexer": "ipython3",
   "version": "3.8.3"
  }
 },
 "nbformat": 4,
 "nbformat_minor": 4
}
